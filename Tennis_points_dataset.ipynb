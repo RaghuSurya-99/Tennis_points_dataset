{
  "cells": [
    {
      "cell_type": "markdown",
      "metadata": {
        "id": "nN0rzpStVbI7"
      },
      "source": [
        "# Problem Statement:\n",
        "\n",
        "Tennis Australia Open is trying to better automate how tennis points get categorized into three outcomes –\n",
        "\n",
        "* `Winner` – the point winning player hits a shot that is not touched by the opponent\n",
        "* `Forced error` – the point winning player hits a shot that causes the opponent to not be able to return it, i.e. a good shot that is hard to handle\n",
        "* `Unforced error` – the player attempting to return the ball makes an error on an otherwise normal looking rally shot"
      ]
    },
    {
      "cell_type": "markdown",
      "metadata": {
        "id": "T8vf2oEoVbI8"
      },
      "source": [
        "## Dataset Description:\n",
        "\n",
        "The dataset includes point outcomes of rallies only (where the number of shots hit exceeds two, which represents the serve and return). All points were played at a past Australian Open."
      ]
    },
    {
      "cell_type": "markdown",
      "metadata": {
        "id": "XaO5c-URVbI9"
      },
      "source": [
        "## Atribute description"
      ]
    },
    {
      "cell_type": "markdown",
      "metadata": {
        "id": "zNpVmHZzVbI9"
      },
      "source": [
        "| Variable | Description| Value Range |\n",
        "| :- | -: | :-: |\n",
        "rally | The number of shots in the point counting serves and point-ending shot | An integer from 1, 2, 3...\n",
        "| serve | A number indicating whether the point was played on a first or second serve.  | 1 = First, 2 = Second\n",
        "| hitpoint | Shot category for point-ending shot | F = Forehand, B = Backhand, V = Volley, U = Unknown\n",
        "| speed | Speed of point-ending shot | Continuous (m/s)\n",
        "| net.clearance | Distance above the net as point-ending shot passed the net | Continuous (cm) distance above net. Can be negative if shot did not pass above the net.\n",
        "| distance.from.sideline | Lateral distance of the point-ending shot bounce from the nearest singles sideline. | Perpendicular distance in meters (always positive even if out)\n",
        "| depth | Distance of the point-ending shot bounce from the baseline | Perpendicular distance in meters\n",
        "(always positive even if out)\n",
        "| outside.sideline | Logical indicator of whether point-ending shot landed outside of the in-play singles sideline | TRUE, FALSE\n",
        "| outside.baseline | Logical indicator of whether point-ending shot landed beyond the in-play baseline | TRUE, FALSE\n",
        "| player.distance.travelled | Distance player who made the point-ending shot travelled between the impact of the penultimate shot and the impact of the point-ending shot | Euclidean distance in meters\n",
        "| player.impact.depth | Distance of player who made point-ending shot from the net at the time the point-ending shot was made | Perpendicular distance along the length of court from net in meters\n",
        "| player.impact.distance.from.center | Distance of player who made point-ending shot from the center line at the time the point-ending shot was made | Perpendicular distance from the center line in meters\n",
        "| player.depth | Distance of player who made point-ending shot from the net at the time the penultimate shot was made | Perpendicular distance along the length of court from net in meters\n",
        "| player.distance.from.center | Distance of player who made point-ending shot from the center line at the time the penultimate shot was made | Perpendicular distance from the center line in meters\n",
        "| opponent.depth | Distance of opponent from the net at the time the at the time the penultimate shot was made | Perpendicular distance along the length of court from net in meters\n",
        "| opponent.distance.from.center | Distance of opponent from the center line at the time the penultimate shot was made | Perpendicular distance from the center line in meters\n",
        "| same.side | Logical indicator if both player and opponent were positioned on the same side of the center line (ad or deuce court) at the time the penultimate shot was made | TRUE, FALSE\n",
        "| previous.speed | Speed of penultimate shot | Continuous (m/s)\n",
        "| previous.net.clearance | Distance above the net as penultimate shot passed the net | Continuous (cm) distance above net. Can be negative if shot did not pass above the net.\n",
        "| previous.distance.from.sideline | Lateral distance of the penultimate  shot bounce from the nearest singles sideline. | Perpendicular distance in meters (always positive even if out)\n",
        "| previous.depth | Distance of the penultimate shot bounce from the baseline | Perpendicular distance in meters\n",
        "(always positive even if out)\n",
        "| previous.hitpoint | Shot category for penultimate shot | F = Forehand, B = Backhand, V = Volley, U = Unknown\n",
        "| previous.time.to.net | Time for penultimate shot to be hit and pass the net | Continuous number in seconds\n",
        "| server.is.impact.player | Logical if player who made point-ending shot was the server of the point | TRUE, FALSE\n",
        "| outcome | Target variable, character with three categories indicating the type of shot that ended the point  | W (Winner), FE (Forced Error), UE (Unforced Error)\n",
        "| id | A 10-character unique identifier for the point | Character"
      ]
    },
    {
      "cell_type": "markdown",
      "source": [
        "## Let's find the well fitted model for the dataset"
      ],
      "metadata": {
        "id": "smiNBDy7n7Le"
      }
    },
    {
      "cell_type": "markdown",
      "metadata": {
        "id": "pPUCJNDtVbI9"
      },
      "source": [
        "# Import libraries"
      ]
    },
    {
      "cell_type": "code",
      "execution_count": null,
      "metadata": {
        "id": "meV2krqgVbI-"
      },
      "outputs": [],
      "source": [
        "#Importing the necessary libraries and packages for the whole project\n",
        "import pandas as pd\n",
        "import numpy as np\n",
        "\n",
        "from sklearn.model_selection import train_test_split\n",
        "\n",
        "from sklearn.preprocessing import StandardScaler, OneHotEncoder, LabelEncoder\n",
        "from sklearn.metrics import accuracy_score, recall_score, precision_score, f1_score, classification_report,confusion_matrix\n",
        "\n",
        "from sklearn.tree import DecisionTreeClassifier\n",
        "from sklearn.ensemble import AdaBoostClassifier, RandomForestClassifier, GradientBoostingClassifier\n",
        "\n",
        "from xgboost import XGBClassifier\n",
        "\n",
        "from sklearn.ensemble import VotingClassifier\n",
        "#from vecstack import stacking\n",
        "\n",
        "from sklearn.model_selection import GridSearchCV"
      ]
    },
    {
      "cell_type": "markdown",
      "source": [
        "#Mounting thedrive"
      ],
      "metadata": {
        "id": "ldz0nrGmLnHp"
      }
    },
    {
      "cell_type": "code",
      "source": [
        "from google.colab import drive\n",
        "drive.mount('/content/drive')"
      ],
      "metadata": {
        "colab": {
          "base_uri": "https://localhost:8080/"
        },
        "id": "oXYLT7I3Llvd",
        "outputId": "57d0de13-f33c-481e-ff63-eeb639b12149"
      },
      "execution_count": null,
      "outputs": [
        {
          "output_type": "stream",
          "name": "stdout",
          "text": [
            "Mounted at /content/drive\n"
          ]
        }
      ]
    },
    {
      "cell_type": "markdown",
      "metadata": {
        "id": "rDFgODZKVbI-"
      },
      "source": [
        "# Load data"
      ]
    },
    {
      "cell_type": "code",
      "execution_count": null,
      "metadata": {
        "id": "RUW5ns0TVbI_"
      },
      "outputs": [],
      "source": [
        "data = pd.read_csv(\"/content/drive/MyDrive/ML/stacking/tennis.csv\")"
      ]
    },
    {
      "cell_type": "markdown",
      "metadata": {
        "id": "EOCwlHZxVbI_"
      },
      "source": [
        "# Data Understanding"
      ]
    },
    {
      "cell_type": "markdown",
      "metadata": {
        "id": "-ydhAtZkVbI_"
      },
      "source": [
        "## Number of records and columns"
      ]
    },
    {
      "cell_type": "code",
      "execution_count": null,
      "metadata": {
        "id": "ZriBSv_aVbI_",
        "outputId": "b3df5db5-8e1c-41ed-cfc8-a07d6bcb488c",
        "colab": {
          "base_uri": "https://localhost:8080/"
        }
      },
      "outputs": [
        {
          "output_type": "execute_result",
          "data": {
            "text/plain": [
              "(8001, 27)"
            ]
          },
          "metadata": {},
          "execution_count": 4
        }
      ],
      "source": [
        "data.shape"
      ]
    },
    {
      "cell_type": "markdown",
      "metadata": {
        "id": "_Y-7mhvSVbJA"
      },
      "source": [
        "## See the first five records"
      ]
    },
    {
      "cell_type": "code",
      "execution_count": null,
      "metadata": {
        "id": "xduamPdeVbJA",
        "outputId": "b3aa4c60-c93a-4ed7-b151-63b77eba8d89",
        "colab": {
          "base_uri": "https://localhost:8080/",
          "height": 896
        }
      },
      "outputs": [
        {
          "output_type": "execute_result",
          "data": {
            "text/plain": [
              "                                            0          1          2  \\\n",
              "rally                                       4          4         23   \n",
              "serve                                       1          2          1   \n",
              "hitpoint                                    B          B          B   \n",
              "speed                               35.515042   33.38264   22.31669   \n",
              "net.clearance                       -0.021725   1.114202  -0.254046   \n",
              "distance.from.sideline               3.474766   2.540801   3.533166   \n",
              "depth                                6.797621   2.608708   9.435749   \n",
              "outside.sideline                        False      False      False   \n",
              "outside.baseline                        False       True      False   \n",
              "player.distance.travelled             1.46757   2.311931   3.903728   \n",
              "player.impact.depth                   14.1758    12.7396    15.3782   \n",
              "player.impact.distance.from.center     1.1448     4.6258     1.4336   \n",
              "player.depth                          13.6704    12.6358    13.6996   \n",
              "player.distance.from.center             0.233     2.3162     2.0908   \n",
              "previous.speed                      32.313592  34.060788  39.806628   \n",
              "previous.net.clearance               1.350533   0.760499   0.377732   \n",
              "previous.distance.from.sideline      2.449182   0.583291    1.11525   \n",
              "previous.depth                       0.705435     3.8566   2.908892   \n",
              "opponent.depth                        12.5628    12.3544     13.862   \n",
              "opponent.distance.from.center          2.0724     5.1124     1.6564   \n",
              "same.side                                True      False      False   \n",
              "previous.hitpoint                           F          B          F   \n",
              "previous.time.to.net                 0.445318   0.432434   0.397538   \n",
              "server.is.impact.player                 False      False       True   \n",
              "outcome                                    UE         FE         FE   \n",
              "gender                                   mens       mens       mens   \n",
              "ID                                       8644       1182       9042   \n",
              "\n",
              "                                            3          4  \n",
              "rally                                       9          4  \n",
              "serve                                       1          1  \n",
              "hitpoint                                    F          B  \n",
              "speed                               36.837309  35.544208  \n",
              "net.clearance                        0.766694   0.116162  \n",
              "distance.from.sideline               0.586885   0.918725  \n",
              "depth                                 3.34218   5.499119  \n",
              "outside.sideline                         True      False  \n",
              "outside.baseline                        False      False  \n",
              "player.distance.travelled            0.583745   2.333456  \n",
              "player.impact.depth                   13.7308    15.1992  \n",
              "player.impact.distance.from.center     0.0312     1.7596  \n",
              "player.depth                          13.1492     14.131  \n",
              "player.distance.from.center            0.0188      0.315  \n",
              "previous.speed                      25.018818  36.790979  \n",
              "previous.net.clearance               1.239033   0.165731  \n",
              "previous.distance.from.sideline      3.256695   1.431146  \n",
              "previous.depth                       0.557554   3.945317  \n",
              "opponent.depth                        14.2596    11.3658  \n",
              "opponent.distance.from.center          0.1606     1.1082  \n",
              "same.side                                True      False  \n",
              "previous.hitpoint                           B          F  \n",
              "previous.time.to.net                 0.671984   0.340411  \n",
              "server.is.impact.player                  True      False  \n",
              "outcome                                    UE          W  \n",
              "gender                                   mens       mens  \n",
              "ID                                       1222       4085  "
            ],
            "text/html": [
              "\n",
              "  <div id=\"df-a11512ee-a200-48cd-a9ea-8c85e6902587\">\n",
              "    <div class=\"colab-df-container\">\n",
              "      <div>\n",
              "<style scoped>\n",
              "    .dataframe tbody tr th:only-of-type {\n",
              "        vertical-align: middle;\n",
              "    }\n",
              "\n",
              "    .dataframe tbody tr th {\n",
              "        vertical-align: top;\n",
              "    }\n",
              "\n",
              "    .dataframe thead th {\n",
              "        text-align: right;\n",
              "    }\n",
              "</style>\n",
              "<table border=\"1\" class=\"dataframe\">\n",
              "  <thead>\n",
              "    <tr style=\"text-align: right;\">\n",
              "      <th></th>\n",
              "      <th>0</th>\n",
              "      <th>1</th>\n",
              "      <th>2</th>\n",
              "      <th>3</th>\n",
              "      <th>4</th>\n",
              "    </tr>\n",
              "  </thead>\n",
              "  <tbody>\n",
              "    <tr>\n",
              "      <th>rally</th>\n",
              "      <td>4</td>\n",
              "      <td>4</td>\n",
              "      <td>23</td>\n",
              "      <td>9</td>\n",
              "      <td>4</td>\n",
              "    </tr>\n",
              "    <tr>\n",
              "      <th>serve</th>\n",
              "      <td>1</td>\n",
              "      <td>2</td>\n",
              "      <td>1</td>\n",
              "      <td>1</td>\n",
              "      <td>1</td>\n",
              "    </tr>\n",
              "    <tr>\n",
              "      <th>hitpoint</th>\n",
              "      <td>B</td>\n",
              "      <td>B</td>\n",
              "      <td>B</td>\n",
              "      <td>F</td>\n",
              "      <td>B</td>\n",
              "    </tr>\n",
              "    <tr>\n",
              "      <th>speed</th>\n",
              "      <td>35.515042</td>\n",
              "      <td>33.38264</td>\n",
              "      <td>22.31669</td>\n",
              "      <td>36.837309</td>\n",
              "      <td>35.544208</td>\n",
              "    </tr>\n",
              "    <tr>\n",
              "      <th>net.clearance</th>\n",
              "      <td>-0.021725</td>\n",
              "      <td>1.114202</td>\n",
              "      <td>-0.254046</td>\n",
              "      <td>0.766694</td>\n",
              "      <td>0.116162</td>\n",
              "    </tr>\n",
              "    <tr>\n",
              "      <th>distance.from.sideline</th>\n",
              "      <td>3.474766</td>\n",
              "      <td>2.540801</td>\n",
              "      <td>3.533166</td>\n",
              "      <td>0.586885</td>\n",
              "      <td>0.918725</td>\n",
              "    </tr>\n",
              "    <tr>\n",
              "      <th>depth</th>\n",
              "      <td>6.797621</td>\n",
              "      <td>2.608708</td>\n",
              "      <td>9.435749</td>\n",
              "      <td>3.34218</td>\n",
              "      <td>5.499119</td>\n",
              "    </tr>\n",
              "    <tr>\n",
              "      <th>outside.sideline</th>\n",
              "      <td>False</td>\n",
              "      <td>False</td>\n",
              "      <td>False</td>\n",
              "      <td>True</td>\n",
              "      <td>False</td>\n",
              "    </tr>\n",
              "    <tr>\n",
              "      <th>outside.baseline</th>\n",
              "      <td>False</td>\n",
              "      <td>True</td>\n",
              "      <td>False</td>\n",
              "      <td>False</td>\n",
              "      <td>False</td>\n",
              "    </tr>\n",
              "    <tr>\n",
              "      <th>player.distance.travelled</th>\n",
              "      <td>1.46757</td>\n",
              "      <td>2.311931</td>\n",
              "      <td>3.903728</td>\n",
              "      <td>0.583745</td>\n",
              "      <td>2.333456</td>\n",
              "    </tr>\n",
              "    <tr>\n",
              "      <th>player.impact.depth</th>\n",
              "      <td>14.1758</td>\n",
              "      <td>12.7396</td>\n",
              "      <td>15.3782</td>\n",
              "      <td>13.7308</td>\n",
              "      <td>15.1992</td>\n",
              "    </tr>\n",
              "    <tr>\n",
              "      <th>player.impact.distance.from.center</th>\n",
              "      <td>1.1448</td>\n",
              "      <td>4.6258</td>\n",
              "      <td>1.4336</td>\n",
              "      <td>0.0312</td>\n",
              "      <td>1.7596</td>\n",
              "    </tr>\n",
              "    <tr>\n",
              "      <th>player.depth</th>\n",
              "      <td>13.6704</td>\n",
              "      <td>12.6358</td>\n",
              "      <td>13.6996</td>\n",
              "      <td>13.1492</td>\n",
              "      <td>14.131</td>\n",
              "    </tr>\n",
              "    <tr>\n",
              "      <th>player.distance.from.center</th>\n",
              "      <td>0.233</td>\n",
              "      <td>2.3162</td>\n",
              "      <td>2.0908</td>\n",
              "      <td>0.0188</td>\n",
              "      <td>0.315</td>\n",
              "    </tr>\n",
              "    <tr>\n",
              "      <th>previous.speed</th>\n",
              "      <td>32.313592</td>\n",
              "      <td>34.060788</td>\n",
              "      <td>39.806628</td>\n",
              "      <td>25.018818</td>\n",
              "      <td>36.790979</td>\n",
              "    </tr>\n",
              "    <tr>\n",
              "      <th>previous.net.clearance</th>\n",
              "      <td>1.350533</td>\n",
              "      <td>0.760499</td>\n",
              "      <td>0.377732</td>\n",
              "      <td>1.239033</td>\n",
              "      <td>0.165731</td>\n",
              "    </tr>\n",
              "    <tr>\n",
              "      <th>previous.distance.from.sideline</th>\n",
              "      <td>2.449182</td>\n",
              "      <td>0.583291</td>\n",
              "      <td>1.11525</td>\n",
              "      <td>3.256695</td>\n",
              "      <td>1.431146</td>\n",
              "    </tr>\n",
              "    <tr>\n",
              "      <th>previous.depth</th>\n",
              "      <td>0.705435</td>\n",
              "      <td>3.8566</td>\n",
              "      <td>2.908892</td>\n",
              "      <td>0.557554</td>\n",
              "      <td>3.945317</td>\n",
              "    </tr>\n",
              "    <tr>\n",
              "      <th>opponent.depth</th>\n",
              "      <td>12.5628</td>\n",
              "      <td>12.3544</td>\n",
              "      <td>13.862</td>\n",
              "      <td>14.2596</td>\n",
              "      <td>11.3658</td>\n",
              "    </tr>\n",
              "    <tr>\n",
              "      <th>opponent.distance.from.center</th>\n",
              "      <td>2.0724</td>\n",
              "      <td>5.1124</td>\n",
              "      <td>1.6564</td>\n",
              "      <td>0.1606</td>\n",
              "      <td>1.1082</td>\n",
              "    </tr>\n",
              "    <tr>\n",
              "      <th>same.side</th>\n",
              "      <td>True</td>\n",
              "      <td>False</td>\n",
              "      <td>False</td>\n",
              "      <td>True</td>\n",
              "      <td>False</td>\n",
              "    </tr>\n",
              "    <tr>\n",
              "      <th>previous.hitpoint</th>\n",
              "      <td>F</td>\n",
              "      <td>B</td>\n",
              "      <td>F</td>\n",
              "      <td>B</td>\n",
              "      <td>F</td>\n",
              "    </tr>\n",
              "    <tr>\n",
              "      <th>previous.time.to.net</th>\n",
              "      <td>0.445318</td>\n",
              "      <td>0.432434</td>\n",
              "      <td>0.397538</td>\n",
              "      <td>0.671984</td>\n",
              "      <td>0.340411</td>\n",
              "    </tr>\n",
              "    <tr>\n",
              "      <th>server.is.impact.player</th>\n",
              "      <td>False</td>\n",
              "      <td>False</td>\n",
              "      <td>True</td>\n",
              "      <td>True</td>\n",
              "      <td>False</td>\n",
              "    </tr>\n",
              "    <tr>\n",
              "      <th>outcome</th>\n",
              "      <td>UE</td>\n",
              "      <td>FE</td>\n",
              "      <td>FE</td>\n",
              "      <td>UE</td>\n",
              "      <td>W</td>\n",
              "    </tr>\n",
              "    <tr>\n",
              "      <th>gender</th>\n",
              "      <td>mens</td>\n",
              "      <td>mens</td>\n",
              "      <td>mens</td>\n",
              "      <td>mens</td>\n",
              "      <td>mens</td>\n",
              "    </tr>\n",
              "    <tr>\n",
              "      <th>ID</th>\n",
              "      <td>8644</td>\n",
              "      <td>1182</td>\n",
              "      <td>9042</td>\n",
              "      <td>1222</td>\n",
              "      <td>4085</td>\n",
              "    </tr>\n",
              "  </tbody>\n",
              "</table>\n",
              "</div>\n",
              "      <button class=\"colab-df-convert\" onclick=\"convertToInteractive('df-a11512ee-a200-48cd-a9ea-8c85e6902587')\"\n",
              "              title=\"Convert this dataframe to an interactive table.\"\n",
              "              style=\"display:none;\">\n",
              "        \n",
              "  <svg xmlns=\"http://www.w3.org/2000/svg\" height=\"24px\"viewBox=\"0 0 24 24\"\n",
              "       width=\"24px\">\n",
              "    <path d=\"M0 0h24v24H0V0z\" fill=\"none\"/>\n",
              "    <path d=\"M18.56 5.44l.94 2.06.94-2.06 2.06-.94-2.06-.94-.94-2.06-.94 2.06-2.06.94zm-11 1L8.5 8.5l.94-2.06 2.06-.94-2.06-.94L8.5 2.5l-.94 2.06-2.06.94zm10 10l.94 2.06.94-2.06 2.06-.94-2.06-.94-.94-2.06-.94 2.06-2.06.94z\"/><path d=\"M17.41 7.96l-1.37-1.37c-.4-.4-.92-.59-1.43-.59-.52 0-1.04.2-1.43.59L10.3 9.45l-7.72 7.72c-.78.78-.78 2.05 0 2.83L4 21.41c.39.39.9.59 1.41.59.51 0 1.02-.2 1.41-.59l7.78-7.78 2.81-2.81c.8-.78.8-2.07 0-2.86zM5.41 20L4 18.59l7.72-7.72 1.47 1.35L5.41 20z\"/>\n",
              "  </svg>\n",
              "      </button>\n",
              "      \n",
              "  <style>\n",
              "    .colab-df-container {\n",
              "      display:flex;\n",
              "      flex-wrap:wrap;\n",
              "      gap: 12px;\n",
              "    }\n",
              "\n",
              "    .colab-df-convert {\n",
              "      background-color: #E8F0FE;\n",
              "      border: none;\n",
              "      border-radius: 50%;\n",
              "      cursor: pointer;\n",
              "      display: none;\n",
              "      fill: #1967D2;\n",
              "      height: 32px;\n",
              "      padding: 0 0 0 0;\n",
              "      width: 32px;\n",
              "    }\n",
              "\n",
              "    .colab-df-convert:hover {\n",
              "      background-color: #E2EBFA;\n",
              "      box-shadow: 0px 1px 2px rgba(60, 64, 67, 0.3), 0px 1px 3px 1px rgba(60, 64, 67, 0.15);\n",
              "      fill: #174EA6;\n",
              "    }\n",
              "\n",
              "    [theme=dark] .colab-df-convert {\n",
              "      background-color: #3B4455;\n",
              "      fill: #D2E3FC;\n",
              "    }\n",
              "\n",
              "    [theme=dark] .colab-df-convert:hover {\n",
              "      background-color: #434B5C;\n",
              "      box-shadow: 0px 1px 3px 1px rgba(0, 0, 0, 0.15);\n",
              "      filter: drop-shadow(0px 1px 2px rgba(0, 0, 0, 0.3));\n",
              "      fill: #FFFFFF;\n",
              "    }\n",
              "  </style>\n",
              "\n",
              "      <script>\n",
              "        const buttonEl =\n",
              "          document.querySelector('#df-a11512ee-a200-48cd-a9ea-8c85e6902587 button.colab-df-convert');\n",
              "        buttonEl.style.display =\n",
              "          google.colab.kernel.accessAllowed ? 'block' : 'none';\n",
              "\n",
              "        async function convertToInteractive(key) {\n",
              "          const element = document.querySelector('#df-a11512ee-a200-48cd-a9ea-8c85e6902587');\n",
              "          const dataTable =\n",
              "            await google.colab.kernel.invokeFunction('convertToInteractive',\n",
              "                                                     [key], {});\n",
              "          if (!dataTable) return;\n",
              "\n",
              "          const docLinkHtml = 'Like what you see? Visit the ' +\n",
              "            '<a target=\"_blank\" href=https://colab.research.google.com/notebooks/data_table.ipynb>data table notebook</a>'\n",
              "            + ' to learn more about interactive tables.';\n",
              "          element.innerHTML = '';\n",
              "          dataTable['output_type'] = 'display_data';\n",
              "          await google.colab.output.renderOutput(dataTable, element);\n",
              "          const docLink = document.createElement('div');\n",
              "          docLink.innerHTML = docLinkHtml;\n",
              "          element.appendChild(docLink);\n",
              "        }\n",
              "      </script>\n",
              "    </div>\n",
              "  </div>\n",
              "  "
            ]
          },
          "metadata": {},
          "execution_count": 5
        }
      ],
      "source": [
        "data.head().T"
      ]
    },
    {
      "cell_type": "code",
      "source": [
        "data['rally'].min() #The number of shots in the point counting serves and point-ending shot\thas minimun 3 shots."
      ],
      "metadata": {
        "colab": {
          "base_uri": "https://localhost:8080/"
        },
        "id": "WrmZGQPbTXoC",
        "outputId": "20670020-e07e-4a6c-a596-678852bffc5d"
      },
      "execution_count": null,
      "outputs": [
        {
          "output_type": "execute_result",
          "data": {
            "text/plain": [
              "3"
            ]
          },
          "metadata": {},
          "execution_count": 8
        }
      ]
    },
    {
      "cell_type": "markdown",
      "metadata": {
        "id": "Y0lSHirUVbJA"
      },
      "source": [
        "## Different classes in Outcome variable"
      ]
    },
    {
      "cell_type": "code",
      "execution_count": null,
      "metadata": {
        "id": "uuKaxHoVVbJB",
        "outputId": "bc204f8d-a0d2-40ce-c6c9-7a983df3e067",
        "colab": {
          "base_uri": "https://localhost:8080/"
        }
      },
      "outputs": [
        {
          "output_type": "execute_result",
          "data": {
            "text/plain": [
              "UE    3501\n",
              "W     2682\n",
              "FE    1818\n",
              "Name: outcome, dtype: int64"
            ]
          },
          "metadata": {},
          "execution_count": 9
        }
      ],
      "source": [
        "data.outcome.value_counts()"
      ]
    },
    {
      "cell_type": "code",
      "execution_count": null,
      "metadata": {
        "id": "sdNAtt7YVbJB",
        "outputId": "2aed7376-7c13-4642-f58d-d604a7920ec1",
        "colab": {
          "base_uri": "https://localhost:8080/"
        }
      },
      "outputs": [
        {
          "output_type": "execute_result",
          "data": {
            "text/plain": [
              "UE    43.75703\n",
              "W     33.52081\n",
              "FE    22.72216\n",
              "Name: outcome, dtype: float64"
            ]
          },
          "metadata": {},
          "execution_count": 10
        }
      ],
      "source": [
        "data.outcome.value_counts(normalize= True)*100"
      ]
    },
    {
      "cell_type": "markdown",
      "metadata": {
        "id": "W_H7VwJvVbJB"
      },
      "source": [
        "## Display data type of each variable"
      ]
    },
    {
      "cell_type": "code",
      "execution_count": null,
      "metadata": {
        "scrolled": false,
        "id": "3c4SvW3UVbJB",
        "outputId": "317650df-682d-4b62-c311-b3e75295fd17",
        "colab": {
          "base_uri": "https://localhost:8080/"
        }
      },
      "outputs": [
        {
          "output_type": "execute_result",
          "data": {
            "text/plain": [
              "rally                                   int64\n",
              "serve                                   int64\n",
              "hitpoint                               object\n",
              "speed                                 float64\n",
              "net.clearance                         float64\n",
              "distance.from.sideline                float64\n",
              "depth                                 float64\n",
              "outside.sideline                         bool\n",
              "outside.baseline                         bool\n",
              "player.distance.travelled             float64\n",
              "player.impact.depth                   float64\n",
              "player.impact.distance.from.center    float64\n",
              "player.depth                          float64\n",
              "player.distance.from.center           float64\n",
              "previous.speed                        float64\n",
              "previous.net.clearance                float64\n",
              "previous.distance.from.sideline       float64\n",
              "previous.depth                        float64\n",
              "opponent.depth                        float64\n",
              "opponent.distance.from.center         float64\n",
              "same.side                                bool\n",
              "previous.hitpoint                      object\n",
              "previous.time.to.net                  float64\n",
              "server.is.impact.player                  bool\n",
              "outcome                                object\n",
              "gender                                 object\n",
              "ID                                      int64\n",
              "dtype: object"
            ]
          },
          "metadata": {},
          "execution_count": 11
        }
      ],
      "source": [
        "data.dtypes"
      ]
    },
    {
      "cell_type": "markdown",
      "metadata": {
        "id": "ES90GxRkVbJB"
      },
      "source": [
        "## Identifying categorical attributes"
      ]
    },
    {
      "cell_type": "code",
      "execution_count": null,
      "metadata": {
        "id": "Yt0OlcfjVbJB"
      },
      "outputs": [],
      "source": [
        "categorical_list = [\"hitpoint\",\"outside.sideline\",\n",
        "                    \"outside.baseline\",\"same.side\",\n",
        "                    \"previous.hitpoint\",\n",
        "                    \"server.is.impact.player\",\n",
        "                    \"gender\",\"outcome\"]"
      ]
    },
    {
      "cell_type": "markdown",
      "metadata": {
        "id": "cmWaoODAVbJB"
      },
      "source": [
        "## Converting to appropriate datatype"
      ]
    },
    {
      "cell_type": "code",
      "execution_count": null,
      "metadata": {
        "id": "gvHj9dZ6VbJB"
      },
      "outputs": [],
      "source": [
        "data[categorical_list] = data[categorical_list].astype(\"category\")"
      ]
    },
    {
      "cell_type": "markdown",
      "metadata": {
        "id": "NgCTrnptVbJB"
      },
      "source": [
        "## Display data type of each variable after conversion"
      ]
    },
    {
      "cell_type": "code",
      "execution_count": null,
      "metadata": {
        "id": "nXxPg8FsVbJC",
        "outputId": "687fffc2-8d33-46c5-9a2c-9c2e4980d2eb",
        "colab": {
          "base_uri": "https://localhost:8080/"
        }
      },
      "outputs": [
        {
          "output_type": "execute_result",
          "data": {
            "text/plain": [
              "rally                                    int64\n",
              "serve                                    int64\n",
              "hitpoint                              category\n",
              "speed                                  float64\n",
              "net.clearance                          float64\n",
              "distance.from.sideline                 float64\n",
              "depth                                  float64\n",
              "outside.sideline                      category\n",
              "outside.baseline                      category\n",
              "player.distance.travelled              float64\n",
              "player.impact.depth                    float64\n",
              "player.impact.distance.from.center     float64\n",
              "player.depth                           float64\n",
              "player.distance.from.center            float64\n",
              "previous.speed                         float64\n",
              "previous.net.clearance                 float64\n",
              "previous.distance.from.sideline        float64\n",
              "previous.depth                         float64\n",
              "opponent.depth                         float64\n",
              "opponent.distance.from.center          float64\n",
              "same.side                             category\n",
              "previous.hitpoint                     category\n",
              "previous.time.to.net                   float64\n",
              "server.is.impact.player               category\n",
              "outcome                               category\n",
              "gender                                category\n",
              "ID                                       int64\n",
              "dtype: object"
            ]
          },
          "metadata": {},
          "execution_count": 14
        }
      ],
      "source": [
        "data.dtypes"
      ]
    },
    {
      "cell_type": "markdown",
      "metadata": {
        "id": "Kvq5JGuvVbJC"
      },
      "source": [
        "## Dropping ID column and checking the length of columns"
      ]
    },
    {
      "cell_type": "code",
      "execution_count": null,
      "metadata": {
        "id": "I4xI2I3bVbJC",
        "outputId": "727edcb5-8a2d-4c85-8a49-69d664b7cb04",
        "colab": {
          "base_uri": "https://localhost:8080/"
        }
      },
      "outputs": [
        {
          "output_type": "execute_result",
          "data": {
            "text/plain": [
              "(8001, 27)"
            ]
          },
          "metadata": {},
          "execution_count": 15
        }
      ],
      "source": [
        "data.shape"
      ]
    },
    {
      "cell_type": "code",
      "execution_count": null,
      "metadata": {
        "id": "dQ2gTgvYVbJC",
        "outputId": "5912392b-8002-4f6b-cb6d-159da9f025a1",
        "colab": {
          "base_uri": "https://localhost:8080/"
        }
      },
      "outputs": [
        {
          "output_type": "execute_result",
          "data": {
            "text/plain": [
              "8001"
            ]
          },
          "metadata": {},
          "execution_count": 16
        }
      ],
      "source": [
        "len(data['ID'].unique()) #For every shot there is a unique Id is given so there is no use of the column 'ID'.\n"
      ]
    },
    {
      "cell_type": "code",
      "execution_count": null,
      "metadata": {
        "id": "20gulDd2VbJC",
        "outputId": "b7b6a77f-1e88-4196-8582-55cd557e74e1",
        "colab": {
          "base_uri": "https://localhost:8080/"
        }
      },
      "outputs": [
        {
          "output_type": "execute_result",
          "data": {
            "text/plain": [
              "26"
            ]
          },
          "metadata": {},
          "execution_count": 17
        }
      ],
      "source": [
        "data.drop([\"ID\"], axis=1, inplace=True) # Dropping the 'ID' column.\n",
        "len(data.columns)"
      ]
    },
    {
      "cell_type": "markdown",
      "metadata": {
        "id": "nRaJJ37yVbJC"
      },
      "source": [
        "## Display summary statistics"
      ]
    },
    {
      "cell_type": "code",
      "execution_count": null,
      "metadata": {
        "scrolled": true,
        "id": "X5_oTqrVVbJC",
        "outputId": "72882b3c-58ff-494c-b23c-d69ce744c2dc",
        "colab": {
          "base_uri": "https://localhost:8080/",
          "height": 364
        }
      },
      "outputs": [
        {
          "output_type": "execute_result",
          "data": {
            "text/plain": [
              "             rally        serve        speed  net.clearance  \\\n",
              "count  8001.000000  8001.000000  8001.000000    8001.000000   \n",
              "mean      5.966004     1.398700    30.806938       0.629658   \n",
              "std       3.548182     0.489661     7.298917       0.982504   \n",
              "min       3.000000     1.000000     5.176078      -0.998184   \n",
              "25%       3.000000     1.000000    26.770290      -0.027092   \n",
              "50%       5.000000     1.000000    32.417690       0.445870   \n",
              "75%       7.000000     2.000000    35.681431       0.970844   \n",
              "max      38.000000     2.000000    55.052795      12.815893   \n",
              "\n",
              "       distance.from.sideline        depth  player.distance.travelled  \\\n",
              "count             8001.000000  8001.000000                8001.000000   \n",
              "mean                 1.467630     4.421146                   2.690463   \n",
              "std                  1.108697     3.144965                   1.713136   \n",
              "min                  0.000497     0.003135                   0.000000   \n",
              "25%                  0.539500     1.641161                   1.444233   \n",
              "50%                  1.210847     3.860266                   2.360894   \n",
              "75%                  2.215955     7.029345                   3.565853   \n",
              "max                  7.569757    11.886069                  14.480546   \n",
              "\n",
              "       player.impact.depth  player.impact.distance.from.center  player.depth  \\\n",
              "count          8001.000000                         8001.000000   8001.000000   \n",
              "mean             11.899694                            1.919544     12.253954   \n",
              "std               2.788231                            1.205449      2.039085   \n",
              "min               2.156000                            0.000200      1.389800   \n",
              "25%              11.221400                            0.942400     11.374200   \n",
              "50%              12.691800                            1.829400     12.551600   \n",
              "75%              13.553000                            2.745200     13.498000   \n",
              "max              18.125600                            7.746200     18.745800   \n",
              "\n",
              "       player.distance.from.center  previous.speed  previous.net.clearance  \\\n",
              "count                  8001.000000     8001.000000             8001.000000   \n",
              "mean                      1.213795       28.763676                0.821562   \n",
              "std                       0.964364        6.477470                0.674663   \n",
              "min                       0.000400        8.449117                0.028865   \n",
              "25%                       0.551800       24.033218                0.404815   \n",
              "50%                       0.983800       29.793417                0.658382   \n",
              "75%                       1.596600       33.581003                1.021397   \n",
              "max                       9.352600       54.207506                6.730275   \n",
              "\n",
              "       previous.distance.from.sideline  previous.depth  opponent.depth  \\\n",
              "count                      8001.000000     8001.000000     8001.000000   \n",
              "mean                          2.193420        4.218717       12.616810   \n",
              "std                           1.038942        2.052946        2.075401   \n",
              "min                           0.000164        0.000467        2.161200   \n",
              "25%                           1.354458        2.733674       12.082400   \n",
              "50%                           2.168822        4.126864       12.901600   \n",
              "75%                           3.022677        5.595515       13.712800   \n",
              "max                           4.114361        9.997963       20.211000   \n",
              "\n",
              "       opponent.distance.from.center  previous.time.to.net  \n",
              "count                    8001.000000           8001.000000  \n",
              "mean                        2.367952              0.549988  \n",
              "std                         1.313927              0.186788  \n",
              "min                         0.000200              0.003201  \n",
              "25%                         1.352200              0.432164  \n",
              "50%                         2.332000              0.507559  \n",
              "75%                         3.259000              0.624135  \n",
              "max                         6.852600              1.635257  "
            ],
            "text/html": [
              "\n",
              "  <div id=\"df-e3c280f5-3055-4e1a-8297-85b084907742\">\n",
              "    <div class=\"colab-df-container\">\n",
              "      <div>\n",
              "<style scoped>\n",
              "    .dataframe tbody tr th:only-of-type {\n",
              "        vertical-align: middle;\n",
              "    }\n",
              "\n",
              "    .dataframe tbody tr th {\n",
              "        vertical-align: top;\n",
              "    }\n",
              "\n",
              "    .dataframe thead th {\n",
              "        text-align: right;\n",
              "    }\n",
              "</style>\n",
              "<table border=\"1\" class=\"dataframe\">\n",
              "  <thead>\n",
              "    <tr style=\"text-align: right;\">\n",
              "      <th></th>\n",
              "      <th>rally</th>\n",
              "      <th>serve</th>\n",
              "      <th>speed</th>\n",
              "      <th>net.clearance</th>\n",
              "      <th>distance.from.sideline</th>\n",
              "      <th>depth</th>\n",
              "      <th>player.distance.travelled</th>\n",
              "      <th>player.impact.depth</th>\n",
              "      <th>player.impact.distance.from.center</th>\n",
              "      <th>player.depth</th>\n",
              "      <th>player.distance.from.center</th>\n",
              "      <th>previous.speed</th>\n",
              "      <th>previous.net.clearance</th>\n",
              "      <th>previous.distance.from.sideline</th>\n",
              "      <th>previous.depth</th>\n",
              "      <th>opponent.depth</th>\n",
              "      <th>opponent.distance.from.center</th>\n",
              "      <th>previous.time.to.net</th>\n",
              "    </tr>\n",
              "  </thead>\n",
              "  <tbody>\n",
              "    <tr>\n",
              "      <th>count</th>\n",
              "      <td>8001.000000</td>\n",
              "      <td>8001.000000</td>\n",
              "      <td>8001.000000</td>\n",
              "      <td>8001.000000</td>\n",
              "      <td>8001.000000</td>\n",
              "      <td>8001.000000</td>\n",
              "      <td>8001.000000</td>\n",
              "      <td>8001.000000</td>\n",
              "      <td>8001.000000</td>\n",
              "      <td>8001.000000</td>\n",
              "      <td>8001.000000</td>\n",
              "      <td>8001.000000</td>\n",
              "      <td>8001.000000</td>\n",
              "      <td>8001.000000</td>\n",
              "      <td>8001.000000</td>\n",
              "      <td>8001.000000</td>\n",
              "      <td>8001.000000</td>\n",
              "      <td>8001.000000</td>\n",
              "    </tr>\n",
              "    <tr>\n",
              "      <th>mean</th>\n",
              "      <td>5.966004</td>\n",
              "      <td>1.398700</td>\n",
              "      <td>30.806938</td>\n",
              "      <td>0.629658</td>\n",
              "      <td>1.467630</td>\n",
              "      <td>4.421146</td>\n",
              "      <td>2.690463</td>\n",
              "      <td>11.899694</td>\n",
              "      <td>1.919544</td>\n",
              "      <td>12.253954</td>\n",
              "      <td>1.213795</td>\n",
              "      <td>28.763676</td>\n",
              "      <td>0.821562</td>\n",
              "      <td>2.193420</td>\n",
              "      <td>4.218717</td>\n",
              "      <td>12.616810</td>\n",
              "      <td>2.367952</td>\n",
              "      <td>0.549988</td>\n",
              "    </tr>\n",
              "    <tr>\n",
              "      <th>std</th>\n",
              "      <td>3.548182</td>\n",
              "      <td>0.489661</td>\n",
              "      <td>7.298917</td>\n",
              "      <td>0.982504</td>\n",
              "      <td>1.108697</td>\n",
              "      <td>3.144965</td>\n",
              "      <td>1.713136</td>\n",
              "      <td>2.788231</td>\n",
              "      <td>1.205449</td>\n",
              "      <td>2.039085</td>\n",
              "      <td>0.964364</td>\n",
              "      <td>6.477470</td>\n",
              "      <td>0.674663</td>\n",
              "      <td>1.038942</td>\n",
              "      <td>2.052946</td>\n",
              "      <td>2.075401</td>\n",
              "      <td>1.313927</td>\n",
              "      <td>0.186788</td>\n",
              "    </tr>\n",
              "    <tr>\n",
              "      <th>min</th>\n",
              "      <td>3.000000</td>\n",
              "      <td>1.000000</td>\n",
              "      <td>5.176078</td>\n",
              "      <td>-0.998184</td>\n",
              "      <td>0.000497</td>\n",
              "      <td>0.003135</td>\n",
              "      <td>0.000000</td>\n",
              "      <td>2.156000</td>\n",
              "      <td>0.000200</td>\n",
              "      <td>1.389800</td>\n",
              "      <td>0.000400</td>\n",
              "      <td>8.449117</td>\n",
              "      <td>0.028865</td>\n",
              "      <td>0.000164</td>\n",
              "      <td>0.000467</td>\n",
              "      <td>2.161200</td>\n",
              "      <td>0.000200</td>\n",
              "      <td>0.003201</td>\n",
              "    </tr>\n",
              "    <tr>\n",
              "      <th>25%</th>\n",
              "      <td>3.000000</td>\n",
              "      <td>1.000000</td>\n",
              "      <td>26.770290</td>\n",
              "      <td>-0.027092</td>\n",
              "      <td>0.539500</td>\n",
              "      <td>1.641161</td>\n",
              "      <td>1.444233</td>\n",
              "      <td>11.221400</td>\n",
              "      <td>0.942400</td>\n",
              "      <td>11.374200</td>\n",
              "      <td>0.551800</td>\n",
              "      <td>24.033218</td>\n",
              "      <td>0.404815</td>\n",
              "      <td>1.354458</td>\n",
              "      <td>2.733674</td>\n",
              "      <td>12.082400</td>\n",
              "      <td>1.352200</td>\n",
              "      <td>0.432164</td>\n",
              "    </tr>\n",
              "    <tr>\n",
              "      <th>50%</th>\n",
              "      <td>5.000000</td>\n",
              "      <td>1.000000</td>\n",
              "      <td>32.417690</td>\n",
              "      <td>0.445870</td>\n",
              "      <td>1.210847</td>\n",
              "      <td>3.860266</td>\n",
              "      <td>2.360894</td>\n",
              "      <td>12.691800</td>\n",
              "      <td>1.829400</td>\n",
              "      <td>12.551600</td>\n",
              "      <td>0.983800</td>\n",
              "      <td>29.793417</td>\n",
              "      <td>0.658382</td>\n",
              "      <td>2.168822</td>\n",
              "      <td>4.126864</td>\n",
              "      <td>12.901600</td>\n",
              "      <td>2.332000</td>\n",
              "      <td>0.507559</td>\n",
              "    </tr>\n",
              "    <tr>\n",
              "      <th>75%</th>\n",
              "      <td>7.000000</td>\n",
              "      <td>2.000000</td>\n",
              "      <td>35.681431</td>\n",
              "      <td>0.970844</td>\n",
              "      <td>2.215955</td>\n",
              "      <td>7.029345</td>\n",
              "      <td>3.565853</td>\n",
              "      <td>13.553000</td>\n",
              "      <td>2.745200</td>\n",
              "      <td>13.498000</td>\n",
              "      <td>1.596600</td>\n",
              "      <td>33.581003</td>\n",
              "      <td>1.021397</td>\n",
              "      <td>3.022677</td>\n",
              "      <td>5.595515</td>\n",
              "      <td>13.712800</td>\n",
              "      <td>3.259000</td>\n",
              "      <td>0.624135</td>\n",
              "    </tr>\n",
              "    <tr>\n",
              "      <th>max</th>\n",
              "      <td>38.000000</td>\n",
              "      <td>2.000000</td>\n",
              "      <td>55.052795</td>\n",
              "      <td>12.815893</td>\n",
              "      <td>7.569757</td>\n",
              "      <td>11.886069</td>\n",
              "      <td>14.480546</td>\n",
              "      <td>18.125600</td>\n",
              "      <td>7.746200</td>\n",
              "      <td>18.745800</td>\n",
              "      <td>9.352600</td>\n",
              "      <td>54.207506</td>\n",
              "      <td>6.730275</td>\n",
              "      <td>4.114361</td>\n",
              "      <td>9.997963</td>\n",
              "      <td>20.211000</td>\n",
              "      <td>6.852600</td>\n",
              "      <td>1.635257</td>\n",
              "    </tr>\n",
              "  </tbody>\n",
              "</table>\n",
              "</div>\n",
              "      <button class=\"colab-df-convert\" onclick=\"convertToInteractive('df-e3c280f5-3055-4e1a-8297-85b084907742')\"\n",
              "              title=\"Convert this dataframe to an interactive table.\"\n",
              "              style=\"display:none;\">\n",
              "        \n",
              "  <svg xmlns=\"http://www.w3.org/2000/svg\" height=\"24px\"viewBox=\"0 0 24 24\"\n",
              "       width=\"24px\">\n",
              "    <path d=\"M0 0h24v24H0V0z\" fill=\"none\"/>\n",
              "    <path d=\"M18.56 5.44l.94 2.06.94-2.06 2.06-.94-2.06-.94-.94-2.06-.94 2.06-2.06.94zm-11 1L8.5 8.5l.94-2.06 2.06-.94-2.06-.94L8.5 2.5l-.94 2.06-2.06.94zm10 10l.94 2.06.94-2.06 2.06-.94-2.06-.94-.94-2.06-.94 2.06-2.06.94z\"/><path d=\"M17.41 7.96l-1.37-1.37c-.4-.4-.92-.59-1.43-.59-.52 0-1.04.2-1.43.59L10.3 9.45l-7.72 7.72c-.78.78-.78 2.05 0 2.83L4 21.41c.39.39.9.59 1.41.59.51 0 1.02-.2 1.41-.59l7.78-7.78 2.81-2.81c.8-.78.8-2.07 0-2.86zM5.41 20L4 18.59l7.72-7.72 1.47 1.35L5.41 20z\"/>\n",
              "  </svg>\n",
              "      </button>\n",
              "      \n",
              "  <style>\n",
              "    .colab-df-container {\n",
              "      display:flex;\n",
              "      flex-wrap:wrap;\n",
              "      gap: 12px;\n",
              "    }\n",
              "\n",
              "    .colab-df-convert {\n",
              "      background-color: #E8F0FE;\n",
              "      border: none;\n",
              "      border-radius: 50%;\n",
              "      cursor: pointer;\n",
              "      display: none;\n",
              "      fill: #1967D2;\n",
              "      height: 32px;\n",
              "      padding: 0 0 0 0;\n",
              "      width: 32px;\n",
              "    }\n",
              "\n",
              "    .colab-df-convert:hover {\n",
              "      background-color: #E2EBFA;\n",
              "      box-shadow: 0px 1px 2px rgba(60, 64, 67, 0.3), 0px 1px 3px 1px rgba(60, 64, 67, 0.15);\n",
              "      fill: #174EA6;\n",
              "    }\n",
              "\n",
              "    [theme=dark] .colab-df-convert {\n",
              "      background-color: #3B4455;\n",
              "      fill: #D2E3FC;\n",
              "    }\n",
              "\n",
              "    [theme=dark] .colab-df-convert:hover {\n",
              "      background-color: #434B5C;\n",
              "      box-shadow: 0px 1px 3px 1px rgba(0, 0, 0, 0.15);\n",
              "      filter: drop-shadow(0px 1px 2px rgba(0, 0, 0, 0.3));\n",
              "      fill: #FFFFFF;\n",
              "    }\n",
              "  </style>\n",
              "\n",
              "      <script>\n",
              "        const buttonEl =\n",
              "          document.querySelector('#df-e3c280f5-3055-4e1a-8297-85b084907742 button.colab-df-convert');\n",
              "        buttonEl.style.display =\n",
              "          google.colab.kernel.accessAllowed ? 'block' : 'none';\n",
              "\n",
              "        async function convertToInteractive(key) {\n",
              "          const element = document.querySelector('#df-e3c280f5-3055-4e1a-8297-85b084907742');\n",
              "          const dataTable =\n",
              "            await google.colab.kernel.invokeFunction('convertToInteractive',\n",
              "                                                     [key], {});\n",
              "          if (!dataTable) return;\n",
              "\n",
              "          const docLinkHtml = 'Like what you see? Visit the ' +\n",
              "            '<a target=\"_blank\" href=https://colab.research.google.com/notebooks/data_table.ipynb>data table notebook</a>'\n",
              "            + ' to learn more about interactive tables.';\n",
              "          element.innerHTML = '';\n",
              "          dataTable['output_type'] = 'display_data';\n",
              "          await google.colab.output.renderOutput(dataTable, element);\n",
              "          const docLink = document.createElement('div');\n",
              "          docLink.innerHTML = docLinkHtml;\n",
              "          element.appendChild(docLink);\n",
              "        }\n",
              "      </script>\n",
              "    </div>\n",
              "  </div>\n",
              "  "
            ]
          },
          "metadata": {},
          "execution_count": 18
        }
      ],
      "source": [
        "data.describe() # Statistical description of numerical variables"
      ]
    },
    {
      "cell_type": "code",
      "execution_count": null,
      "metadata": {
        "id": "GZJOpqsBVbJC",
        "outputId": "6c283ab1-4d36-483c-f7cd-823ef70c0f95",
        "colab": {
          "base_uri": "https://localhost:8080/",
          "height": 175
        }
      },
      "outputs": [
        {
          "output_type": "execute_result",
          "data": {
            "text/plain": [
              "       hitpoint outside.sideline outside.baseline same.side previous.hitpoint  \\\n",
              "count      8001             8001             8001      8001              8001   \n",
              "unique        4                2                2         2                 4   \n",
              "top           F            False            False     False                 F   \n",
              "freq       4402             6500             6380      6036              3684   \n",
              "\n",
              "       server.is.impact.player outcome gender  \n",
              "count                     8001    8001   8001  \n",
              "unique                       2       3      2  \n",
              "top                       True      UE   mens  \n",
              "freq                      4670    3501   4005  "
            ],
            "text/html": [
              "\n",
              "  <div id=\"df-64a280aa-ac74-499f-bfe4-e31cc7ce8b6d\">\n",
              "    <div class=\"colab-df-container\">\n",
              "      <div>\n",
              "<style scoped>\n",
              "    .dataframe tbody tr th:only-of-type {\n",
              "        vertical-align: middle;\n",
              "    }\n",
              "\n",
              "    .dataframe tbody tr th {\n",
              "        vertical-align: top;\n",
              "    }\n",
              "\n",
              "    .dataframe thead th {\n",
              "        text-align: right;\n",
              "    }\n",
              "</style>\n",
              "<table border=\"1\" class=\"dataframe\">\n",
              "  <thead>\n",
              "    <tr style=\"text-align: right;\">\n",
              "      <th></th>\n",
              "      <th>hitpoint</th>\n",
              "      <th>outside.sideline</th>\n",
              "      <th>outside.baseline</th>\n",
              "      <th>same.side</th>\n",
              "      <th>previous.hitpoint</th>\n",
              "      <th>server.is.impact.player</th>\n",
              "      <th>outcome</th>\n",
              "      <th>gender</th>\n",
              "    </tr>\n",
              "  </thead>\n",
              "  <tbody>\n",
              "    <tr>\n",
              "      <th>count</th>\n",
              "      <td>8001</td>\n",
              "      <td>8001</td>\n",
              "      <td>8001</td>\n",
              "      <td>8001</td>\n",
              "      <td>8001</td>\n",
              "      <td>8001</td>\n",
              "      <td>8001</td>\n",
              "      <td>8001</td>\n",
              "    </tr>\n",
              "    <tr>\n",
              "      <th>unique</th>\n",
              "      <td>4</td>\n",
              "      <td>2</td>\n",
              "      <td>2</td>\n",
              "      <td>2</td>\n",
              "      <td>4</td>\n",
              "      <td>2</td>\n",
              "      <td>3</td>\n",
              "      <td>2</td>\n",
              "    </tr>\n",
              "    <tr>\n",
              "      <th>top</th>\n",
              "      <td>F</td>\n",
              "      <td>False</td>\n",
              "      <td>False</td>\n",
              "      <td>False</td>\n",
              "      <td>F</td>\n",
              "      <td>True</td>\n",
              "      <td>UE</td>\n",
              "      <td>mens</td>\n",
              "    </tr>\n",
              "    <tr>\n",
              "      <th>freq</th>\n",
              "      <td>4402</td>\n",
              "      <td>6500</td>\n",
              "      <td>6380</td>\n",
              "      <td>6036</td>\n",
              "      <td>3684</td>\n",
              "      <td>4670</td>\n",
              "      <td>3501</td>\n",
              "      <td>4005</td>\n",
              "    </tr>\n",
              "  </tbody>\n",
              "</table>\n",
              "</div>\n",
              "      <button class=\"colab-df-convert\" onclick=\"convertToInteractive('df-64a280aa-ac74-499f-bfe4-e31cc7ce8b6d')\"\n",
              "              title=\"Convert this dataframe to an interactive table.\"\n",
              "              style=\"display:none;\">\n",
              "        \n",
              "  <svg xmlns=\"http://www.w3.org/2000/svg\" height=\"24px\"viewBox=\"0 0 24 24\"\n",
              "       width=\"24px\">\n",
              "    <path d=\"M0 0h24v24H0V0z\" fill=\"none\"/>\n",
              "    <path d=\"M18.56 5.44l.94 2.06.94-2.06 2.06-.94-2.06-.94-.94-2.06-.94 2.06-2.06.94zm-11 1L8.5 8.5l.94-2.06 2.06-.94-2.06-.94L8.5 2.5l-.94 2.06-2.06.94zm10 10l.94 2.06.94-2.06 2.06-.94-2.06-.94-.94-2.06-.94 2.06-2.06.94z\"/><path d=\"M17.41 7.96l-1.37-1.37c-.4-.4-.92-.59-1.43-.59-.52 0-1.04.2-1.43.59L10.3 9.45l-7.72 7.72c-.78.78-.78 2.05 0 2.83L4 21.41c.39.39.9.59 1.41.59.51 0 1.02-.2 1.41-.59l7.78-7.78 2.81-2.81c.8-.78.8-2.07 0-2.86zM5.41 20L4 18.59l7.72-7.72 1.47 1.35L5.41 20z\"/>\n",
              "  </svg>\n",
              "      </button>\n",
              "      \n",
              "  <style>\n",
              "    .colab-df-container {\n",
              "      display:flex;\n",
              "      flex-wrap:wrap;\n",
              "      gap: 12px;\n",
              "    }\n",
              "\n",
              "    .colab-df-convert {\n",
              "      background-color: #E8F0FE;\n",
              "      border: none;\n",
              "      border-radius: 50%;\n",
              "      cursor: pointer;\n",
              "      display: none;\n",
              "      fill: #1967D2;\n",
              "      height: 32px;\n",
              "      padding: 0 0 0 0;\n",
              "      width: 32px;\n",
              "    }\n",
              "\n",
              "    .colab-df-convert:hover {\n",
              "      background-color: #E2EBFA;\n",
              "      box-shadow: 0px 1px 2px rgba(60, 64, 67, 0.3), 0px 1px 3px 1px rgba(60, 64, 67, 0.15);\n",
              "      fill: #174EA6;\n",
              "    }\n",
              "\n",
              "    [theme=dark] .colab-df-convert {\n",
              "      background-color: #3B4455;\n",
              "      fill: #D2E3FC;\n",
              "    }\n",
              "\n",
              "    [theme=dark] .colab-df-convert:hover {\n",
              "      background-color: #434B5C;\n",
              "      box-shadow: 0px 1px 3px 1px rgba(0, 0, 0, 0.15);\n",
              "      filter: drop-shadow(0px 1px 2px rgba(0, 0, 0, 0.3));\n",
              "      fill: #FFFFFF;\n",
              "    }\n",
              "  </style>\n",
              "\n",
              "      <script>\n",
              "        const buttonEl =\n",
              "          document.querySelector('#df-64a280aa-ac74-499f-bfe4-e31cc7ce8b6d button.colab-df-convert');\n",
              "        buttonEl.style.display =\n",
              "          google.colab.kernel.accessAllowed ? 'block' : 'none';\n",
              "\n",
              "        async function convertToInteractive(key) {\n",
              "          const element = document.querySelector('#df-64a280aa-ac74-499f-bfe4-e31cc7ce8b6d');\n",
              "          const dataTable =\n",
              "            await google.colab.kernel.invokeFunction('convertToInteractive',\n",
              "                                                     [key], {});\n",
              "          if (!dataTable) return;\n",
              "\n",
              "          const docLinkHtml = 'Like what you see? Visit the ' +\n",
              "            '<a target=\"_blank\" href=https://colab.research.google.com/notebooks/data_table.ipynb>data table notebook</a>'\n",
              "            + ' to learn more about interactive tables.';\n",
              "          element.innerHTML = '';\n",
              "          dataTable['output_type'] = 'display_data';\n",
              "          await google.colab.output.renderOutput(dataTable, element);\n",
              "          const docLink = document.createElement('div');\n",
              "          docLink.innerHTML = docLinkHtml;\n",
              "          element.appendChild(docLink);\n",
              "        }\n",
              "      </script>\n",
              "    </div>\n",
              "  </div>\n",
              "  "
            ]
          },
          "metadata": {},
          "execution_count": 19
        }
      ],
      "source": [
        "data.describe(include=['category']) #Statistical description of categorical variables"
      ]
    },
    {
      "cell_type": "markdown",
      "metadata": {
        "id": "_GC0ZsPXVbJD"
      },
      "source": [
        "## Check the distribution of all categorical attributes"
      ]
    },
    {
      "cell_type": "code",
      "execution_count": null,
      "metadata": {
        "id": "9MPmZDeYVbJD",
        "outputId": "ff25195f-2ae3-45bf-8c74-c3a7e1cafda5",
        "colab": {
          "base_uri": "https://localhost:8080/"
        }
      },
      "outputs": [
        {
          "output_type": "stream",
          "name": "stdout",
          "text": [
            "--------hitpoint---------\n",
            "\n",
            "F    55.018123\n",
            "B    37.920260\n",
            "U     5.361830\n",
            "V     1.699788\n",
            "Name: hitpoint, dtype: float64\n",
            "\n",
            "\n",
            "--------outside.sideline---------\n",
            "\n",
            "False    81.239845\n",
            "True     18.760155\n",
            "Name: outside.sideline, dtype: float64\n",
            "\n",
            "\n",
            "--------outside.baseline---------\n",
            "\n",
            "False    79.740032\n",
            "True     20.259968\n",
            "Name: outside.baseline, dtype: float64\n",
            "\n",
            "\n",
            "--------same.side---------\n",
            "\n",
            "False    75.44057\n",
            "True     24.55943\n",
            "Name: same.side, dtype: float64\n",
            "\n",
            "\n",
            "--------previous.hitpoint---------\n",
            "\n",
            "F    46.044244\n",
            "B    40.969879\n",
            "V     8.998875\n",
            "U     3.987002\n",
            "Name: previous.hitpoint, dtype: float64\n",
            "\n",
            "\n",
            "--------server.is.impact.player---------\n",
            "\n",
            "True     58.367704\n",
            "False    41.632296\n",
            "Name: server.is.impact.player, dtype: float64\n",
            "\n",
            "\n",
            "--------gender---------\n",
            "\n",
            "mens      50.056243\n",
            "womens    49.943757\n",
            "Name: gender, dtype: float64\n",
            "\n",
            "\n",
            "--------outcome---------\n",
            "\n",
            "UE    43.75703\n",
            "W     33.52081\n",
            "FE    22.72216\n",
            "Name: outcome, dtype: float64\n",
            "\n",
            "\n"
          ]
        }
      ],
      "source": [
        "for i in categorical_list:\n",
        "    print('--------'+i+'---------\\n')\n",
        "    print(data[i].value_counts(normalize=True)*100)\n",
        "    print('\\n')"
      ]
    },
    {
      "cell_type": "markdown",
      "metadata": {
        "id": "I8ivxuhDVbJD"
      },
      "source": [
        "## Checking for null values"
      ]
    },
    {
      "cell_type": "code",
      "execution_count": null,
      "metadata": {
        "scrolled": false,
        "id": "6PC-ee2KVbJD",
        "outputId": "c9b5ca85-e1b9-4749-bd35-593c8eb280ec",
        "colab": {
          "base_uri": "https://localhost:8080/"
        }
      },
      "outputs": [
        {
          "output_type": "execute_result",
          "data": {
            "text/plain": [
              "rally                                 0\n",
              "serve                                 0\n",
              "hitpoint                              0\n",
              "speed                                 0\n",
              "net.clearance                         0\n",
              "distance.from.sideline                0\n",
              "depth                                 0\n",
              "outside.sideline                      0\n",
              "outside.baseline                      0\n",
              "player.distance.travelled             0\n",
              "player.impact.depth                   0\n",
              "player.impact.distance.from.center    0\n",
              "player.depth                          0\n",
              "player.distance.from.center           0\n",
              "previous.speed                        0\n",
              "previous.net.clearance                0\n",
              "previous.distance.from.sideline       0\n",
              "previous.depth                        0\n",
              "opponent.depth                        0\n",
              "opponent.distance.from.center         0\n",
              "same.side                             0\n",
              "previous.hitpoint                     0\n",
              "previous.time.to.net                  0\n",
              "server.is.impact.player               0\n",
              "outcome                               0\n",
              "gender                                0\n",
              "dtype: int64"
            ]
          },
          "metadata": {},
          "execution_count": 21
        }
      ],
      "source": [
        "data.isnull().sum()"
      ]
    },
    {
      "cell_type": "markdown",
      "source": [
        "* No null values are present in the data"
      ],
      "metadata": {
        "id": "t9DISh8CkbN9"
      }
    },
    {
      "cell_type": "markdown",
      "metadata": {
        "id": "P-hXLKU3VbJD"
      },
      "source": [
        "# Divide the data into train and test"
      ]
    },
    {
      "cell_type": "code",
      "execution_count": null,
      "metadata": {
        "id": "P0KOIKlhVbJD",
        "outputId": "d61e77d1-5962-4a37-bc35-4333b25bd012",
        "colab": {
          "base_uri": "https://localhost:8080/"
        }
      },
      "outputs": [
        {
          "output_type": "stream",
          "name": "stdout",
          "text": [
            "(5600, 25)\n",
            "(2401, 25)\n",
            "(5600,)\n",
            "(2401,)\n"
          ]
        }
      ],
      "source": [
        "y = data[\"outcome\"]\n",
        "X = data.drop('outcome', axis=1)\n",
        "\n",
        "X_train, X_test, y_train, y_test = train_test_split(X, y, test_size=0.30, random_state=123, stratify=y)\n",
        "\n",
        "print(X_train.shape)\n",
        "print(X_test.shape)\n",
        "print(y_train.shape)\n",
        "print(y_test.shape)"
      ]
    },
    {
      "cell_type": "markdown",
      "metadata": {
        "id": "rRK9Ug4wVbJD"
      },
      "source": [
        "# Preprocessing"
      ]
    },
    {
      "cell_type": "markdown",
      "metadata": {
        "id": "PuEWlqkzVbJD"
      },
      "source": [
        "## Display all the columns"
      ]
    },
    {
      "cell_type": "code",
      "execution_count": null,
      "metadata": {
        "id": "5LJmn52VVbJD",
        "outputId": "113e28e6-9dfc-4d64-c7db-13d4f1ccfb0e",
        "colab": {
          "base_uri": "https://localhost:8080/"
        }
      },
      "outputs": [
        {
          "output_type": "execute_result",
          "data": {
            "text/plain": [
              "Index(['rally', 'serve', 'hitpoint', 'speed', 'net.clearance',\n",
              "       'distance.from.sideline', 'depth', 'outside.sideline',\n",
              "       'outside.baseline', 'player.distance.travelled', 'player.impact.depth',\n",
              "       'player.impact.distance.from.center', 'player.depth',\n",
              "       'player.distance.from.center', 'previous.speed',\n",
              "       'previous.net.clearance', 'previous.distance.from.sideline',\n",
              "       'previous.depth', 'opponent.depth', 'opponent.distance.from.center',\n",
              "       'same.side', 'previous.hitpoint', 'previous.time.to.net',\n",
              "       'server.is.impact.player', 'outcome', 'gender'],\n",
              "      dtype='object')"
            ]
          },
          "metadata": {},
          "execution_count": 23
        }
      ],
      "source": [
        "data.columns"
      ]
    },
    {
      "cell_type": "markdown",
      "metadata": {
        "id": "hLgIbVWfVbJD"
      },
      "source": [
        "## Creating a list of numerical attributes and categorical list"
      ]
    },
    {
      "cell_type": "code",
      "execution_count": null,
      "metadata": {
        "id": "yeldR8jEVbJE"
      },
      "outputs": [],
      "source": [
        "numeric_list = ['rally', 'serve', 'speed', 'net.clearance',\n",
        "                'distance.from.sideline', 'depth',\n",
        "                'player.distance.travelled', 'player.impact.depth',\n",
        "                'player.impact.distance.from.center',\n",
        "                'player.depth', 'player.distance.from.center',\n",
        "                'previous.speed', 'previous.net.clearance',\n",
        "                'previous.distance.from.sideline', 'previous.depth',\n",
        "                'opponent.depth', 'opponent.distance.from.center',\n",
        "                'previous.time.to.net']\n",
        "\n",
        "categorical_list = [\"hitpoint\", \"outside.sideline\", \"outside.baseline\", \"same.side\",\n",
        "                    \"previous.hitpoint\", \"server.is.impact.player\", \"gender\"]"
      ]
    },
    {
      "cell_type": "code",
      "execution_count": null,
      "metadata": {
        "scrolled": true,
        "id": "I8u5n_qpVbJE",
        "outputId": "05fe50c0-a844-4bdf-8918-562ddcf9f1f2",
        "colab": {
          "base_uri": "https://localhost:8080/"
        }
      },
      "outputs": [
        {
          "output_type": "execute_result",
          "data": {
            "text/plain": [
              "18"
            ]
          },
          "metadata": {},
          "execution_count": 25
        }
      ],
      "source": [
        "len(numeric_list)"
      ]
    },
    {
      "cell_type": "code",
      "execution_count": null,
      "metadata": {
        "scrolled": true,
        "id": "QH0pqILLVbJE",
        "outputId": "ac3c091c-3bcc-41e4-d122-c2cd9a84c6d6",
        "colab": {
          "base_uri": "https://localhost:8080/"
        }
      },
      "outputs": [
        {
          "output_type": "execute_result",
          "data": {
            "text/plain": [
              "7"
            ]
          },
          "metadata": {},
          "execution_count": 26
        }
      ],
      "source": [
        "len(categorical_list)"
      ]
    },
    {
      "cell_type": "markdown",
      "metadata": {
        "id": "2M56iiu9VbJE"
      },
      "source": [
        "## LabelEncoder  : Target Attributes"
      ]
    },
    {
      "cell_type": "code",
      "execution_count": null,
      "metadata": {
        "id": "U9vYxHkEVbJE",
        "outputId": "ca28330f-9cfb-4b37-9ed8-0d34ebd4c61e",
        "colab": {
          "base_uri": "https://localhost:8080/"
        }
      },
      "outputs": [
        {
          "output_type": "execute_result",
          "data": {
            "text/plain": [
              "UE    2450\n",
              "W     1877\n",
              "FE    1273\n",
              "Name: outcome, dtype: int64"
            ]
          },
          "metadata": {},
          "execution_count": 27
        }
      ],
      "source": [
        "y_train.value_counts()"
      ]
    },
    {
      "cell_type": "code",
      "execution_count": null,
      "metadata": {
        "id": "fqa2B0UZVbJE"
      },
      "outputs": [],
      "source": [
        "le = LabelEncoder()\n",
        "\n",
        "le.fit(y_train)\n",
        "\n",
        "y_train = le.transform(y_train)\n",
        "y_test = le.transform(y_test)"
      ]
    },
    {
      "cell_type": "code",
      "execution_count": null,
      "metadata": {
        "id": "12PMpg0SVbJE",
        "outputId": "a6692f73-ac80-4685-9734-782f98fb1c67",
        "colab": {
          "base_uri": "https://localhost:8080/"
        }
      },
      "outputs": [
        {
          "output_type": "stream",
          "name": "stdout",
          "text": [
            "['FE' 'UE' 'W']\n"
          ]
        }
      ],
      "source": [
        "print(le.classes_)"
      ]
    },
    {
      "cell_type": "code",
      "execution_count": null,
      "metadata": {
        "id": "dTK7UggNVbJE",
        "outputId": "21c1ffb1-9284-4348-bc54-42b9ee89fafc",
        "colab": {
          "base_uri": "https://localhost:8080/"
        }
      },
      "outputs": [
        {
          "output_type": "stream",
          "name": "stdout",
          "text": [
            "['FE' 'UE' 'W']\n"
          ]
        }
      ],
      "source": [
        "print(le.inverse_transform([0, 1, 2]))"
      ]
    },
    {
      "cell_type": "code",
      "execution_count": null,
      "metadata": {
        "id": "OMhbtjoBVbJE",
        "outputId": "f76188d6-d143-4d25-96f6-38350947c203",
        "colab": {
          "base_uri": "https://localhost:8080/"
        }
      },
      "outputs": [
        {
          "output_type": "execute_result",
          "data": {
            "text/plain": [
              "(array([0, 1, 2]), array([1273, 2450, 1877]))"
            ]
          },
          "metadata": {},
          "execution_count": 31
        }
      ],
      "source": [
        "np.unique(y_train, return_counts=True)\n",
        "# 0 - Forced Error, 1 - Unforced Error, 2 - Winner"
      ]
    },
    {
      "cell_type": "code",
      "execution_count": null,
      "metadata": {
        "id": "emQhaMIvVbJE",
        "outputId": "570ea4b2-aaf2-47bf-b655-66b678932c00",
        "colab": {
          "base_uri": "https://localhost:8080/"
        }
      },
      "outputs": [
        {
          "output_type": "execute_result",
          "data": {
            "text/plain": [
              "(array([0, 1, 2]), array([ 545, 1051,  805]))"
            ]
          },
          "metadata": {},
          "execution_count": 32
        }
      ],
      "source": [
        "np.unique(y_test, return_counts=True)"
      ]
    },
    {
      "cell_type": "markdown",
      "metadata": {
        "id": "lDb_mh0pVbJF"
      },
      "source": [
        "## Standard Scaler : Independent Numberic Attributes"
      ]
    },
    {
      "cell_type": "code",
      "execution_count": null,
      "metadata": {
        "id": "HJjMrJKBVbJF"
      },
      "outputs": [],
      "source": [
        "scaler = StandardScaler()\n",
        "scaler.fit(X_train[numeric_list])\n",
        "\n",
        "X_train_num = pd.DataFrame(scaler.transform(X_train[numeric_list]), columns=numeric_list)\n",
        "X_test_num = pd.DataFrame(scaler.transform(X_test[numeric_list]), columns=numeric_list)"
      ]
    },
    {
      "cell_type": "code",
      "execution_count": null,
      "metadata": {
        "id": "eXhqthy9VbJF",
        "outputId": "006364f2-d4a4-480f-fe1a-0cc7534c4bde",
        "colab": {
          "base_uri": "https://localhost:8080/",
          "height": 270
        }
      },
      "outputs": [
        {
          "output_type": "execute_result",
          "data": {
            "text/plain": [
              "      rally     serve     speed  net.clearance  distance.from.sideline  \\\n",
              "0  2.206016  1.228398  1.121552      -0.730696               -0.175183   \n",
              "1  4.136322 -0.814069  1.170424       0.163662               -0.862930   \n",
              "2 -0.000049  1.228398  0.182863       0.532959               -1.015778   \n",
              "3 -0.827324 -0.814069  0.245147      -0.189687               -0.771740   \n",
              "4 -0.827324 -0.814069 -0.396162      -0.647252                1.065523   \n",
              "\n",
              "      depth  player.distance.travelled  player.impact.depth  \\\n",
              "0  0.988152                  -0.829916             1.120228   \n",
              "1 -1.148001                   0.014953             1.102595   \n",
              "2 -1.404791                   0.531566             0.340187   \n",
              "3 -0.467465                  -0.234643             0.107888   \n",
              "4  0.586853                  -1.105658            -0.557186   \n",
              "\n",
              "   player.impact.distance.from.center  player.depth  \\\n",
              "0                            0.808667      1.526350   \n",
              "1                            0.362499      0.702730   \n",
              "2                            0.245007      0.377467   \n",
              "3                            0.884055     -0.367821   \n",
              "4                           -0.463438     -1.017955   \n",
              "\n",
              "   player.distance.from.center  previous.speed  previous.net.clearance  \\\n",
              "0                     0.482096        0.548899                0.520014   \n",
              "1                    -1.249078        0.196423                0.152115   \n",
              "2                     0.154493        1.550284               -0.843765   \n",
              "3                    -0.410447        0.390784               -0.559132   \n",
              "4                    -0.630639        0.824545               -0.876408   \n",
              "\n",
              "   previous.distance.from.sideline  previous.depth  opponent.depth  \\\n",
              "0                         1.276148       -0.584783        0.454714   \n",
              "1                        -1.020791       -1.205634       -0.887901   \n",
              "2                        -0.169719       -0.079680        1.267120   \n",
              "3                        -0.237628        0.418002       -0.342972   \n",
              "4                         0.551589        0.361632       -0.144350   \n",
              "\n",
              "   opponent.distance.from.center  previous.time.to.net  \n",
              "0                      -0.368646             -0.231291  \n",
              "1                       0.331354             -0.808893  \n",
              "2                      -0.574296             -0.513104  \n",
              "3                       1.316556             -0.546510  \n",
              "4                       1.534831             -0.648883  "
            ],
            "text/html": [
              "\n",
              "  <div id=\"df-6616ccaf-2857-4363-badc-e3cb1a0729be\">\n",
              "    <div class=\"colab-df-container\">\n",
              "      <div>\n",
              "<style scoped>\n",
              "    .dataframe tbody tr th:only-of-type {\n",
              "        vertical-align: middle;\n",
              "    }\n",
              "\n",
              "    .dataframe tbody tr th {\n",
              "        vertical-align: top;\n",
              "    }\n",
              "\n",
              "    .dataframe thead th {\n",
              "        text-align: right;\n",
              "    }\n",
              "</style>\n",
              "<table border=\"1\" class=\"dataframe\">\n",
              "  <thead>\n",
              "    <tr style=\"text-align: right;\">\n",
              "      <th></th>\n",
              "      <th>rally</th>\n",
              "      <th>serve</th>\n",
              "      <th>speed</th>\n",
              "      <th>net.clearance</th>\n",
              "      <th>distance.from.sideline</th>\n",
              "      <th>depth</th>\n",
              "      <th>player.distance.travelled</th>\n",
              "      <th>player.impact.depth</th>\n",
              "      <th>player.impact.distance.from.center</th>\n",
              "      <th>player.depth</th>\n",
              "      <th>player.distance.from.center</th>\n",
              "      <th>previous.speed</th>\n",
              "      <th>previous.net.clearance</th>\n",
              "      <th>previous.distance.from.sideline</th>\n",
              "      <th>previous.depth</th>\n",
              "      <th>opponent.depth</th>\n",
              "      <th>opponent.distance.from.center</th>\n",
              "      <th>previous.time.to.net</th>\n",
              "    </tr>\n",
              "  </thead>\n",
              "  <tbody>\n",
              "    <tr>\n",
              "      <th>0</th>\n",
              "      <td>2.206016</td>\n",
              "      <td>1.228398</td>\n",
              "      <td>1.121552</td>\n",
              "      <td>-0.730696</td>\n",
              "      <td>-0.175183</td>\n",
              "      <td>0.988152</td>\n",
              "      <td>-0.829916</td>\n",
              "      <td>1.120228</td>\n",
              "      <td>0.808667</td>\n",
              "      <td>1.526350</td>\n",
              "      <td>0.482096</td>\n",
              "      <td>0.548899</td>\n",
              "      <td>0.520014</td>\n",
              "      <td>1.276148</td>\n",
              "      <td>-0.584783</td>\n",
              "      <td>0.454714</td>\n",
              "      <td>-0.368646</td>\n",
              "      <td>-0.231291</td>\n",
              "    </tr>\n",
              "    <tr>\n",
              "      <th>1</th>\n",
              "      <td>4.136322</td>\n",
              "      <td>-0.814069</td>\n",
              "      <td>1.170424</td>\n",
              "      <td>0.163662</td>\n",
              "      <td>-0.862930</td>\n",
              "      <td>-1.148001</td>\n",
              "      <td>0.014953</td>\n",
              "      <td>1.102595</td>\n",
              "      <td>0.362499</td>\n",
              "      <td>0.702730</td>\n",
              "      <td>-1.249078</td>\n",
              "      <td>0.196423</td>\n",
              "      <td>0.152115</td>\n",
              "      <td>-1.020791</td>\n",
              "      <td>-1.205634</td>\n",
              "      <td>-0.887901</td>\n",
              "      <td>0.331354</td>\n",
              "      <td>-0.808893</td>\n",
              "    </tr>\n",
              "    <tr>\n",
              "      <th>2</th>\n",
              "      <td>-0.000049</td>\n",
              "      <td>1.228398</td>\n",
              "      <td>0.182863</td>\n",
              "      <td>0.532959</td>\n",
              "      <td>-1.015778</td>\n",
              "      <td>-1.404791</td>\n",
              "      <td>0.531566</td>\n",
              "      <td>0.340187</td>\n",
              "      <td>0.245007</td>\n",
              "      <td>0.377467</td>\n",
              "      <td>0.154493</td>\n",
              "      <td>1.550284</td>\n",
              "      <td>-0.843765</td>\n",
              "      <td>-0.169719</td>\n",
              "      <td>-0.079680</td>\n",
              "      <td>1.267120</td>\n",
              "      <td>-0.574296</td>\n",
              "      <td>-0.513104</td>\n",
              "    </tr>\n",
              "    <tr>\n",
              "      <th>3</th>\n",
              "      <td>-0.827324</td>\n",
              "      <td>-0.814069</td>\n",
              "      <td>0.245147</td>\n",
              "      <td>-0.189687</td>\n",
              "      <td>-0.771740</td>\n",
              "      <td>-0.467465</td>\n",
              "      <td>-0.234643</td>\n",
              "      <td>0.107888</td>\n",
              "      <td>0.884055</td>\n",
              "      <td>-0.367821</td>\n",
              "      <td>-0.410447</td>\n",
              "      <td>0.390784</td>\n",
              "      <td>-0.559132</td>\n",
              "      <td>-0.237628</td>\n",
              "      <td>0.418002</td>\n",
              "      <td>-0.342972</td>\n",
              "      <td>1.316556</td>\n",
              "      <td>-0.546510</td>\n",
              "    </tr>\n",
              "    <tr>\n",
              "      <th>4</th>\n",
              "      <td>-0.827324</td>\n",
              "      <td>-0.814069</td>\n",
              "      <td>-0.396162</td>\n",
              "      <td>-0.647252</td>\n",
              "      <td>1.065523</td>\n",
              "      <td>0.586853</td>\n",
              "      <td>-1.105658</td>\n",
              "      <td>-0.557186</td>\n",
              "      <td>-0.463438</td>\n",
              "      <td>-1.017955</td>\n",
              "      <td>-0.630639</td>\n",
              "      <td>0.824545</td>\n",
              "      <td>-0.876408</td>\n",
              "      <td>0.551589</td>\n",
              "      <td>0.361632</td>\n",
              "      <td>-0.144350</td>\n",
              "      <td>1.534831</td>\n",
              "      <td>-0.648883</td>\n",
              "    </tr>\n",
              "  </tbody>\n",
              "</table>\n",
              "</div>\n",
              "      <button class=\"colab-df-convert\" onclick=\"convertToInteractive('df-6616ccaf-2857-4363-badc-e3cb1a0729be')\"\n",
              "              title=\"Convert this dataframe to an interactive table.\"\n",
              "              style=\"display:none;\">\n",
              "        \n",
              "  <svg xmlns=\"http://www.w3.org/2000/svg\" height=\"24px\"viewBox=\"0 0 24 24\"\n",
              "       width=\"24px\">\n",
              "    <path d=\"M0 0h24v24H0V0z\" fill=\"none\"/>\n",
              "    <path d=\"M18.56 5.44l.94 2.06.94-2.06 2.06-.94-2.06-.94-.94-2.06-.94 2.06-2.06.94zm-11 1L8.5 8.5l.94-2.06 2.06-.94-2.06-.94L8.5 2.5l-.94 2.06-2.06.94zm10 10l.94 2.06.94-2.06 2.06-.94-2.06-.94-.94-2.06-.94 2.06-2.06.94z\"/><path d=\"M17.41 7.96l-1.37-1.37c-.4-.4-.92-.59-1.43-.59-.52 0-1.04.2-1.43.59L10.3 9.45l-7.72 7.72c-.78.78-.78 2.05 0 2.83L4 21.41c.39.39.9.59 1.41.59.51 0 1.02-.2 1.41-.59l7.78-7.78 2.81-2.81c.8-.78.8-2.07 0-2.86zM5.41 20L4 18.59l7.72-7.72 1.47 1.35L5.41 20z\"/>\n",
              "  </svg>\n",
              "      </button>\n",
              "      \n",
              "  <style>\n",
              "    .colab-df-container {\n",
              "      display:flex;\n",
              "      flex-wrap:wrap;\n",
              "      gap: 12px;\n",
              "    }\n",
              "\n",
              "    .colab-df-convert {\n",
              "      background-color: #E8F0FE;\n",
              "      border: none;\n",
              "      border-radius: 50%;\n",
              "      cursor: pointer;\n",
              "      display: none;\n",
              "      fill: #1967D2;\n",
              "      height: 32px;\n",
              "      padding: 0 0 0 0;\n",
              "      width: 32px;\n",
              "    }\n",
              "\n",
              "    .colab-df-convert:hover {\n",
              "      background-color: #E2EBFA;\n",
              "      box-shadow: 0px 1px 2px rgba(60, 64, 67, 0.3), 0px 1px 3px 1px rgba(60, 64, 67, 0.15);\n",
              "      fill: #174EA6;\n",
              "    }\n",
              "\n",
              "    [theme=dark] .colab-df-convert {\n",
              "      background-color: #3B4455;\n",
              "      fill: #D2E3FC;\n",
              "    }\n",
              "\n",
              "    [theme=dark] .colab-df-convert:hover {\n",
              "      background-color: #434B5C;\n",
              "      box-shadow: 0px 1px 3px 1px rgba(0, 0, 0, 0.15);\n",
              "      filter: drop-shadow(0px 1px 2px rgba(0, 0, 0, 0.3));\n",
              "      fill: #FFFFFF;\n",
              "    }\n",
              "  </style>\n",
              "\n",
              "      <script>\n",
              "        const buttonEl =\n",
              "          document.querySelector('#df-6616ccaf-2857-4363-badc-e3cb1a0729be button.colab-df-convert');\n",
              "        buttonEl.style.display =\n",
              "          google.colab.kernel.accessAllowed ? 'block' : 'none';\n",
              "\n",
              "        async function convertToInteractive(key) {\n",
              "          const element = document.querySelector('#df-6616ccaf-2857-4363-badc-e3cb1a0729be');\n",
              "          const dataTable =\n",
              "            await google.colab.kernel.invokeFunction('convertToInteractive',\n",
              "                                                     [key], {});\n",
              "          if (!dataTable) return;\n",
              "\n",
              "          const docLinkHtml = 'Like what you see? Visit the ' +\n",
              "            '<a target=\"_blank\" href=https://colab.research.google.com/notebooks/data_table.ipynb>data table notebook</a>'\n",
              "            + ' to learn more about interactive tables.';\n",
              "          element.innerHTML = '';\n",
              "          dataTable['output_type'] = 'display_data';\n",
              "          await google.colab.output.renderOutput(dataTable, element);\n",
              "          const docLink = document.createElement('div');\n",
              "          docLink.innerHTML = docLinkHtml;\n",
              "          element.appendChild(docLink);\n",
              "        }\n",
              "      </script>\n",
              "    </div>\n",
              "  </div>\n",
              "  "
            ]
          },
          "metadata": {},
          "execution_count": 34
        }
      ],
      "source": [
        "X_train_num.head()"
      ]
    },
    {
      "cell_type": "markdown",
      "metadata": {
        "id": "IqprdZWqVbJF"
      },
      "source": [
        "## OneHotEncoder : Independent Categorical Attributes"
      ]
    },
    {
      "cell_type": "code",
      "execution_count": null,
      "metadata": {
        "id": "5xSY7mjTVbJF",
        "outputId": "2cd87f19-9bfc-49c3-ac8d-a317231d3e27",
        "colab": {
          "base_uri": "https://localhost:8080/"
        }
      },
      "outputs": [
        {
          "output_type": "stream",
          "name": "stdout",
          "text": [
            "['hitpoint_B', 'hitpoint_F', 'hitpoint_U', 'hitpoint_V', 'outside.sideline_0.0', 'outside.sideline_1.0', 'outside.baseline_0.0', 'outside.baseline_1.0', 'same.side_0.0', 'same.side_1.0', 'previous.hitpoint_B', 'previous.hitpoint_F', 'previous.hitpoint_U', 'previous.hitpoint_V', 'server.is.impact.player_0.0', 'server.is.impact.player_1.0', 'gender_mens', 'gender_womens']\n"
          ]
        }
      ],
      "source": [
        "ohe = OneHotEncoder()\n",
        "\n",
        "ohe.fit(X_train[categorical_list])\n",
        "\n",
        "columns_ohe = list(ohe.get_feature_names_out(categorical_list))\n",
        "print(columns_ohe)"
      ]
    },
    {
      "cell_type": "code",
      "execution_count": null,
      "metadata": {
        "id": "n4F4WVfMVbJF"
      },
      "outputs": [],
      "source": [
        "X_train_cat = ohe.transform(X_train[categorical_list])\n",
        "X_test_cat  = ohe.transform(X_test[categorical_list])"
      ]
    },
    {
      "cell_type": "code",
      "execution_count": null,
      "metadata": {
        "id": "k6BcDHm6VbJF",
        "colab": {
          "base_uri": "https://localhost:8080/",
          "height": 183
        },
        "outputId": "84b7bc22-6d41-4109-e324-dccdf88e9c99"
      },
      "outputs": [
        {
          "output_type": "error",
          "ename": "NameError",
          "evalue": "ignored",
          "traceback": [
            "\u001b[0;31m---------------------------------------------------------------------------\u001b[0m",
            "\u001b[0;31mNameError\u001b[0m                                 Traceback (most recent call last)",
            "\u001b[0;32m<ipython-input-1-a9a28aa4feb4>\u001b[0m in \u001b[0;36m<cell line: 1>\u001b[0;34m()\u001b[0m\n\u001b[0;32m----> 1\u001b[0;31m \u001b[0mX_train_cat\u001b[0m \u001b[0;34m=\u001b[0m \u001b[0mpd\u001b[0m\u001b[0;34m.\u001b[0m\u001b[0mDataFrame\u001b[0m\u001b[0;34m(\u001b[0m\u001b[0mX_train_cat\u001b[0m\u001b[0;34m.\u001b[0m\u001b[0mtodense\u001b[0m\u001b[0;34m(\u001b[0m\u001b[0;34m)\u001b[0m\u001b[0;34m,\u001b[0m \u001b[0mcolumns\u001b[0m\u001b[0;34m=\u001b[0m\u001b[0mcolumns_ohe\u001b[0m\u001b[0;34m)\u001b[0m\u001b[0;34m\u001b[0m\u001b[0;34m\u001b[0m\u001b[0m\n\u001b[0m\u001b[1;32m      2\u001b[0m \u001b[0mX_test_cat\u001b[0m  \u001b[0;34m=\u001b[0m \u001b[0mpd\u001b[0m\u001b[0;34m.\u001b[0m\u001b[0mDataFrame\u001b[0m\u001b[0;34m(\u001b[0m\u001b[0mX_test_cat\u001b[0m\u001b[0;34m.\u001b[0m\u001b[0mtodense\u001b[0m\u001b[0;34m(\u001b[0m\u001b[0;34m)\u001b[0m\u001b[0;34m,\u001b[0m \u001b[0mcolumns\u001b[0m\u001b[0;34m=\u001b[0m\u001b[0mcolumns_ohe\u001b[0m\u001b[0;34m)\u001b[0m\u001b[0;34m\u001b[0m\u001b[0;34m\u001b[0m\u001b[0m\n",
            "\u001b[0;31mNameError\u001b[0m: name 'pd' is not defined"
          ]
        }
      ],
      "source": [
        "X_train_cat = pd.DataFrame(X_train_cat.todense(), columns=columns_ohe)\n",
        "X_test_cat  = pd.DataFrame(X_test_cat.todense(), columns=columns_ohe)"
      ]
    },
    {
      "cell_type": "code",
      "execution_count": null,
      "metadata": {
        "id": "hDfhKTsFVbJF",
        "outputId": "d0502fa1-1c1b-4314-f678-b735a83070e9",
        "colab": {
          "base_uri": "https://localhost:8080/",
          "height": 270
        }
      },
      "outputs": [
        {
          "output_type": "execute_result",
          "data": {
            "text/plain": [
              "   hitpoint_B  hitpoint_F  hitpoint_U  hitpoint_V  outside.sideline_0.0  \\\n",
              "0         0.0         1.0         0.0         0.0                   1.0   \n",
              "1         1.0         0.0         0.0         0.0                   1.0   \n",
              "2         0.0         1.0         0.0         0.0                   0.0   \n",
              "3         0.0         1.0         0.0         0.0                   1.0   \n",
              "4         0.0         0.0         1.0         0.0                   1.0   \n",
              "\n",
              "   outside.sideline_1.0  outside.baseline_0.0  outside.baseline_1.0  \\\n",
              "0                   0.0                   1.0                   0.0   \n",
              "1                   0.0                   1.0                   0.0   \n",
              "2                   1.0                   1.0                   0.0   \n",
              "3                   0.0                   1.0                   0.0   \n",
              "4                   0.0                   1.0                   0.0   \n",
              "\n",
              "   same.side_0.0  same.side_1.0  previous.hitpoint_B  previous.hitpoint_F  \\\n",
              "0            1.0            0.0                  0.0                  1.0   \n",
              "1            1.0            0.0                  0.0                  1.0   \n",
              "2            0.0            1.0                  0.0                  1.0   \n",
              "3            1.0            0.0                  0.0                  1.0   \n",
              "4            1.0            0.0                  0.0                  1.0   \n",
              "\n",
              "   previous.hitpoint_U  previous.hitpoint_V  server.is.impact.player_0.0  \\\n",
              "0                  0.0                  0.0                          1.0   \n",
              "1                  0.0                  0.0                          0.0   \n",
              "2                  0.0                  0.0                          1.0   \n",
              "3                  0.0                  0.0                          0.0   \n",
              "4                  0.0                  0.0                          0.0   \n",
              "\n",
              "   server.is.impact.player_1.0  gender_mens  gender_womens  \n",
              "0                          0.0          1.0            0.0  \n",
              "1                          1.0          1.0            0.0  \n",
              "2                          0.0          1.0            0.0  \n",
              "3                          1.0          0.0            1.0  \n",
              "4                          1.0          0.0            1.0  "
            ],
            "text/html": [
              "\n",
              "  <div id=\"df-20b3db8f-3404-465f-9985-d3ec187f90ba\">\n",
              "    <div class=\"colab-df-container\">\n",
              "      <div>\n",
              "<style scoped>\n",
              "    .dataframe tbody tr th:only-of-type {\n",
              "        vertical-align: middle;\n",
              "    }\n",
              "\n",
              "    .dataframe tbody tr th {\n",
              "        vertical-align: top;\n",
              "    }\n",
              "\n",
              "    .dataframe thead th {\n",
              "        text-align: right;\n",
              "    }\n",
              "</style>\n",
              "<table border=\"1\" class=\"dataframe\">\n",
              "  <thead>\n",
              "    <tr style=\"text-align: right;\">\n",
              "      <th></th>\n",
              "      <th>hitpoint_B</th>\n",
              "      <th>hitpoint_F</th>\n",
              "      <th>hitpoint_U</th>\n",
              "      <th>hitpoint_V</th>\n",
              "      <th>outside.sideline_0.0</th>\n",
              "      <th>outside.sideline_1.0</th>\n",
              "      <th>outside.baseline_0.0</th>\n",
              "      <th>outside.baseline_1.0</th>\n",
              "      <th>same.side_0.0</th>\n",
              "      <th>same.side_1.0</th>\n",
              "      <th>previous.hitpoint_B</th>\n",
              "      <th>previous.hitpoint_F</th>\n",
              "      <th>previous.hitpoint_U</th>\n",
              "      <th>previous.hitpoint_V</th>\n",
              "      <th>server.is.impact.player_0.0</th>\n",
              "      <th>server.is.impact.player_1.0</th>\n",
              "      <th>gender_mens</th>\n",
              "      <th>gender_womens</th>\n",
              "    </tr>\n",
              "  </thead>\n",
              "  <tbody>\n",
              "    <tr>\n",
              "      <th>0</th>\n",
              "      <td>0.0</td>\n",
              "      <td>1.0</td>\n",
              "      <td>0.0</td>\n",
              "      <td>0.0</td>\n",
              "      <td>1.0</td>\n",
              "      <td>0.0</td>\n",
              "      <td>1.0</td>\n",
              "      <td>0.0</td>\n",
              "      <td>1.0</td>\n",
              "      <td>0.0</td>\n",
              "      <td>0.0</td>\n",
              "      <td>1.0</td>\n",
              "      <td>0.0</td>\n",
              "      <td>0.0</td>\n",
              "      <td>1.0</td>\n",
              "      <td>0.0</td>\n",
              "      <td>1.0</td>\n",
              "      <td>0.0</td>\n",
              "    </tr>\n",
              "    <tr>\n",
              "      <th>1</th>\n",
              "      <td>1.0</td>\n",
              "      <td>0.0</td>\n",
              "      <td>0.0</td>\n",
              "      <td>0.0</td>\n",
              "      <td>1.0</td>\n",
              "      <td>0.0</td>\n",
              "      <td>1.0</td>\n",
              "      <td>0.0</td>\n",
              "      <td>1.0</td>\n",
              "      <td>0.0</td>\n",
              "      <td>0.0</td>\n",
              "      <td>1.0</td>\n",
              "      <td>0.0</td>\n",
              "      <td>0.0</td>\n",
              "      <td>0.0</td>\n",
              "      <td>1.0</td>\n",
              "      <td>1.0</td>\n",
              "      <td>0.0</td>\n",
              "    </tr>\n",
              "    <tr>\n",
              "      <th>2</th>\n",
              "      <td>0.0</td>\n",
              "      <td>1.0</td>\n",
              "      <td>0.0</td>\n",
              "      <td>0.0</td>\n",
              "      <td>0.0</td>\n",
              "      <td>1.0</td>\n",
              "      <td>1.0</td>\n",
              "      <td>0.0</td>\n",
              "      <td>0.0</td>\n",
              "      <td>1.0</td>\n",
              "      <td>0.0</td>\n",
              "      <td>1.0</td>\n",
              "      <td>0.0</td>\n",
              "      <td>0.0</td>\n",
              "      <td>1.0</td>\n",
              "      <td>0.0</td>\n",
              "      <td>1.0</td>\n",
              "      <td>0.0</td>\n",
              "    </tr>\n",
              "    <tr>\n",
              "      <th>3</th>\n",
              "      <td>0.0</td>\n",
              "      <td>1.0</td>\n",
              "      <td>0.0</td>\n",
              "      <td>0.0</td>\n",
              "      <td>1.0</td>\n",
              "      <td>0.0</td>\n",
              "      <td>1.0</td>\n",
              "      <td>0.0</td>\n",
              "      <td>1.0</td>\n",
              "      <td>0.0</td>\n",
              "      <td>0.0</td>\n",
              "      <td>1.0</td>\n",
              "      <td>0.0</td>\n",
              "      <td>0.0</td>\n",
              "      <td>0.0</td>\n",
              "      <td>1.0</td>\n",
              "      <td>0.0</td>\n",
              "      <td>1.0</td>\n",
              "    </tr>\n",
              "    <tr>\n",
              "      <th>4</th>\n",
              "      <td>0.0</td>\n",
              "      <td>0.0</td>\n",
              "      <td>1.0</td>\n",
              "      <td>0.0</td>\n",
              "      <td>1.0</td>\n",
              "      <td>0.0</td>\n",
              "      <td>1.0</td>\n",
              "      <td>0.0</td>\n",
              "      <td>1.0</td>\n",
              "      <td>0.0</td>\n",
              "      <td>0.0</td>\n",
              "      <td>1.0</td>\n",
              "      <td>0.0</td>\n",
              "      <td>0.0</td>\n",
              "      <td>0.0</td>\n",
              "      <td>1.0</td>\n",
              "      <td>0.0</td>\n",
              "      <td>1.0</td>\n",
              "    </tr>\n",
              "  </tbody>\n",
              "</table>\n",
              "</div>\n",
              "      <button class=\"colab-df-convert\" onclick=\"convertToInteractive('df-20b3db8f-3404-465f-9985-d3ec187f90ba')\"\n",
              "              title=\"Convert this dataframe to an interactive table.\"\n",
              "              style=\"display:none;\">\n",
              "        \n",
              "  <svg xmlns=\"http://www.w3.org/2000/svg\" height=\"24px\"viewBox=\"0 0 24 24\"\n",
              "       width=\"24px\">\n",
              "    <path d=\"M0 0h24v24H0V0z\" fill=\"none\"/>\n",
              "    <path d=\"M18.56 5.44l.94 2.06.94-2.06 2.06-.94-2.06-.94-.94-2.06-.94 2.06-2.06.94zm-11 1L8.5 8.5l.94-2.06 2.06-.94-2.06-.94L8.5 2.5l-.94 2.06-2.06.94zm10 10l.94 2.06.94-2.06 2.06-.94-2.06-.94-.94-2.06-.94 2.06-2.06.94z\"/><path d=\"M17.41 7.96l-1.37-1.37c-.4-.4-.92-.59-1.43-.59-.52 0-1.04.2-1.43.59L10.3 9.45l-7.72 7.72c-.78.78-.78 2.05 0 2.83L4 21.41c.39.39.9.59 1.41.59.51 0 1.02-.2 1.41-.59l7.78-7.78 2.81-2.81c.8-.78.8-2.07 0-2.86zM5.41 20L4 18.59l7.72-7.72 1.47 1.35L5.41 20z\"/>\n",
              "  </svg>\n",
              "      </button>\n",
              "      \n",
              "  <style>\n",
              "    .colab-df-container {\n",
              "      display:flex;\n",
              "      flex-wrap:wrap;\n",
              "      gap: 12px;\n",
              "    }\n",
              "\n",
              "    .colab-df-convert {\n",
              "      background-color: #E8F0FE;\n",
              "      border: none;\n",
              "      border-radius: 50%;\n",
              "      cursor: pointer;\n",
              "      display: none;\n",
              "      fill: #1967D2;\n",
              "      height: 32px;\n",
              "      padding: 0 0 0 0;\n",
              "      width: 32px;\n",
              "    }\n",
              "\n",
              "    .colab-df-convert:hover {\n",
              "      background-color: #E2EBFA;\n",
              "      box-shadow: 0px 1px 2px rgba(60, 64, 67, 0.3), 0px 1px 3px 1px rgba(60, 64, 67, 0.15);\n",
              "      fill: #174EA6;\n",
              "    }\n",
              "\n",
              "    [theme=dark] .colab-df-convert {\n",
              "      background-color: #3B4455;\n",
              "      fill: #D2E3FC;\n",
              "    }\n",
              "\n",
              "    [theme=dark] .colab-df-convert:hover {\n",
              "      background-color: #434B5C;\n",
              "      box-shadow: 0px 1px 3px 1px rgba(0, 0, 0, 0.15);\n",
              "      filter: drop-shadow(0px 1px 2px rgba(0, 0, 0, 0.3));\n",
              "      fill: #FFFFFF;\n",
              "    }\n",
              "  </style>\n",
              "\n",
              "      <script>\n",
              "        const buttonEl =\n",
              "          document.querySelector('#df-20b3db8f-3404-465f-9985-d3ec187f90ba button.colab-df-convert');\n",
              "        buttonEl.style.display =\n",
              "          google.colab.kernel.accessAllowed ? 'block' : 'none';\n",
              "\n",
              "        async function convertToInteractive(key) {\n",
              "          const element = document.querySelector('#df-20b3db8f-3404-465f-9985-d3ec187f90ba');\n",
              "          const dataTable =\n",
              "            await google.colab.kernel.invokeFunction('convertToInteractive',\n",
              "                                                     [key], {});\n",
              "          if (!dataTable) return;\n",
              "\n",
              "          const docLinkHtml = 'Like what you see? Visit the ' +\n",
              "            '<a target=\"_blank\" href=https://colab.research.google.com/notebooks/data_table.ipynb>data table notebook</a>'\n",
              "            + ' to learn more about interactive tables.';\n",
              "          element.innerHTML = '';\n",
              "          dataTable['output_type'] = 'display_data';\n",
              "          await google.colab.output.renderOutput(dataTable, element);\n",
              "          const docLink = document.createElement('div');\n",
              "          docLink.innerHTML = docLinkHtml;\n",
              "          element.appendChild(docLink);\n",
              "        }\n",
              "      </script>\n",
              "    </div>\n",
              "  </div>\n",
              "  "
            ]
          },
          "metadata": {},
          "execution_count": 43
        }
      ],
      "source": [
        "X_train_cat.head()"
      ]
    },
    {
      "cell_type": "markdown",
      "metadata": {
        "id": "EaO1eia6VbJF"
      },
      "source": [
        "## Concatenate"
      ]
    },
    {
      "cell_type": "markdown",
      "source": [
        "Concatenating the standardized numerical variables and encoded catergorical variable as single dataframe."
      ],
      "metadata": {
        "id": "o5ZKudm0cMek"
      }
    },
    {
      "cell_type": "code",
      "execution_count": null,
      "metadata": {
        "id": "Ok_OSAZ3VbJF"
      },
      "outputs": [],
      "source": [
        "X_train = pd.concat([X_train_num, X_train_cat], axis=1)\n",
        "X_test = pd.concat([X_test_num, X_test_cat], axis=1)"
      ]
    },
    {
      "cell_type": "code",
      "execution_count": null,
      "metadata": {
        "id": "t8RVBSRAVbJF",
        "outputId": "3b3d7826-93fc-48ea-d829-ee07f0e4c7bc",
        "colab": {
          "base_uri": "https://localhost:8080/"
        }
      },
      "outputs": [
        {
          "output_type": "stream",
          "name": "stdout",
          "text": [
            "(5600, 36) (2401, 36)\n"
          ]
        }
      ],
      "source": [
        "print(X_train.shape, X_test.shape)"
      ]
    },
    {
      "cell_type": "code",
      "execution_count": null,
      "metadata": {
        "scrolled": true,
        "id": "fKKlpfQnVbJG",
        "outputId": "ec27edb6-1ecb-49f0-c5ee-c40126c52a79",
        "colab": {
          "base_uri": "https://localhost:8080/",
          "height": 299
        }
      },
      "outputs": [
        {
          "output_type": "execute_result",
          "data": {
            "text/plain": [
              "      rally     serve     speed  net.clearance  distance.from.sideline  \\\n",
              "0  2.206016  1.228398  1.121552      -0.730696               -0.175183   \n",
              "1  4.136322 -0.814069  1.170424       0.163662               -0.862930   \n",
              "2 -0.000049  1.228398  0.182863       0.532959               -1.015778   \n",
              "3 -0.827324 -0.814069  0.245147      -0.189687               -0.771740   \n",
              "4 -0.827324 -0.814069 -0.396162      -0.647252                1.065523   \n",
              "\n",
              "      depth  player.distance.travelled  player.impact.depth  \\\n",
              "0  0.988152                  -0.829916             1.120228   \n",
              "1 -1.148001                   0.014953             1.102595   \n",
              "2 -1.404791                   0.531566             0.340187   \n",
              "3 -0.467465                  -0.234643             0.107888   \n",
              "4  0.586853                  -1.105658            -0.557186   \n",
              "\n",
              "   player.impact.distance.from.center  player.depth  ...  same.side_0.0  \\\n",
              "0                            0.808667      1.526350  ...            1.0   \n",
              "1                            0.362499      0.702730  ...            1.0   \n",
              "2                            0.245007      0.377467  ...            0.0   \n",
              "3                            0.884055     -0.367821  ...            1.0   \n",
              "4                           -0.463438     -1.017955  ...            1.0   \n",
              "\n",
              "   same.side_1.0  previous.hitpoint_B  previous.hitpoint_F  \\\n",
              "0            0.0                  0.0                  1.0   \n",
              "1            0.0                  0.0                  1.0   \n",
              "2            1.0                  0.0                  1.0   \n",
              "3            0.0                  0.0                  1.0   \n",
              "4            0.0                  0.0                  1.0   \n",
              "\n",
              "   previous.hitpoint_U  previous.hitpoint_V  server.is.impact.player_0.0  \\\n",
              "0                  0.0                  0.0                          1.0   \n",
              "1                  0.0                  0.0                          0.0   \n",
              "2                  0.0                  0.0                          1.0   \n",
              "3                  0.0                  0.0                          0.0   \n",
              "4                  0.0                  0.0                          0.0   \n",
              "\n",
              "   server.is.impact.player_1.0  gender_mens  gender_womens  \n",
              "0                          0.0          1.0            0.0  \n",
              "1                          1.0          1.0            0.0  \n",
              "2                          0.0          1.0            0.0  \n",
              "3                          1.0          0.0            1.0  \n",
              "4                          1.0          0.0            1.0  \n",
              "\n",
              "[5 rows x 36 columns]"
            ],
            "text/html": [
              "\n",
              "  <div id=\"df-46a6d239-36a1-4317-846d-071ff6bed225\">\n",
              "    <div class=\"colab-df-container\">\n",
              "      <div>\n",
              "<style scoped>\n",
              "    .dataframe tbody tr th:only-of-type {\n",
              "        vertical-align: middle;\n",
              "    }\n",
              "\n",
              "    .dataframe tbody tr th {\n",
              "        vertical-align: top;\n",
              "    }\n",
              "\n",
              "    .dataframe thead th {\n",
              "        text-align: right;\n",
              "    }\n",
              "</style>\n",
              "<table border=\"1\" class=\"dataframe\">\n",
              "  <thead>\n",
              "    <tr style=\"text-align: right;\">\n",
              "      <th></th>\n",
              "      <th>rally</th>\n",
              "      <th>serve</th>\n",
              "      <th>speed</th>\n",
              "      <th>net.clearance</th>\n",
              "      <th>distance.from.sideline</th>\n",
              "      <th>depth</th>\n",
              "      <th>player.distance.travelled</th>\n",
              "      <th>player.impact.depth</th>\n",
              "      <th>player.impact.distance.from.center</th>\n",
              "      <th>player.depth</th>\n",
              "      <th>...</th>\n",
              "      <th>same.side_0.0</th>\n",
              "      <th>same.side_1.0</th>\n",
              "      <th>previous.hitpoint_B</th>\n",
              "      <th>previous.hitpoint_F</th>\n",
              "      <th>previous.hitpoint_U</th>\n",
              "      <th>previous.hitpoint_V</th>\n",
              "      <th>server.is.impact.player_0.0</th>\n",
              "      <th>server.is.impact.player_1.0</th>\n",
              "      <th>gender_mens</th>\n",
              "      <th>gender_womens</th>\n",
              "    </tr>\n",
              "  </thead>\n",
              "  <tbody>\n",
              "    <tr>\n",
              "      <th>0</th>\n",
              "      <td>2.206016</td>\n",
              "      <td>1.228398</td>\n",
              "      <td>1.121552</td>\n",
              "      <td>-0.730696</td>\n",
              "      <td>-0.175183</td>\n",
              "      <td>0.988152</td>\n",
              "      <td>-0.829916</td>\n",
              "      <td>1.120228</td>\n",
              "      <td>0.808667</td>\n",
              "      <td>1.526350</td>\n",
              "      <td>...</td>\n",
              "      <td>1.0</td>\n",
              "      <td>0.0</td>\n",
              "      <td>0.0</td>\n",
              "      <td>1.0</td>\n",
              "      <td>0.0</td>\n",
              "      <td>0.0</td>\n",
              "      <td>1.0</td>\n",
              "      <td>0.0</td>\n",
              "      <td>1.0</td>\n",
              "      <td>0.0</td>\n",
              "    </tr>\n",
              "    <tr>\n",
              "      <th>1</th>\n",
              "      <td>4.136322</td>\n",
              "      <td>-0.814069</td>\n",
              "      <td>1.170424</td>\n",
              "      <td>0.163662</td>\n",
              "      <td>-0.862930</td>\n",
              "      <td>-1.148001</td>\n",
              "      <td>0.014953</td>\n",
              "      <td>1.102595</td>\n",
              "      <td>0.362499</td>\n",
              "      <td>0.702730</td>\n",
              "      <td>...</td>\n",
              "      <td>1.0</td>\n",
              "      <td>0.0</td>\n",
              "      <td>0.0</td>\n",
              "      <td>1.0</td>\n",
              "      <td>0.0</td>\n",
              "      <td>0.0</td>\n",
              "      <td>0.0</td>\n",
              "      <td>1.0</td>\n",
              "      <td>1.0</td>\n",
              "      <td>0.0</td>\n",
              "    </tr>\n",
              "    <tr>\n",
              "      <th>2</th>\n",
              "      <td>-0.000049</td>\n",
              "      <td>1.228398</td>\n",
              "      <td>0.182863</td>\n",
              "      <td>0.532959</td>\n",
              "      <td>-1.015778</td>\n",
              "      <td>-1.404791</td>\n",
              "      <td>0.531566</td>\n",
              "      <td>0.340187</td>\n",
              "      <td>0.245007</td>\n",
              "      <td>0.377467</td>\n",
              "      <td>...</td>\n",
              "      <td>0.0</td>\n",
              "      <td>1.0</td>\n",
              "      <td>0.0</td>\n",
              "      <td>1.0</td>\n",
              "      <td>0.0</td>\n",
              "      <td>0.0</td>\n",
              "      <td>1.0</td>\n",
              "      <td>0.0</td>\n",
              "      <td>1.0</td>\n",
              "      <td>0.0</td>\n",
              "    </tr>\n",
              "    <tr>\n",
              "      <th>3</th>\n",
              "      <td>-0.827324</td>\n",
              "      <td>-0.814069</td>\n",
              "      <td>0.245147</td>\n",
              "      <td>-0.189687</td>\n",
              "      <td>-0.771740</td>\n",
              "      <td>-0.467465</td>\n",
              "      <td>-0.234643</td>\n",
              "      <td>0.107888</td>\n",
              "      <td>0.884055</td>\n",
              "      <td>-0.367821</td>\n",
              "      <td>...</td>\n",
              "      <td>1.0</td>\n",
              "      <td>0.0</td>\n",
              "      <td>0.0</td>\n",
              "      <td>1.0</td>\n",
              "      <td>0.0</td>\n",
              "      <td>0.0</td>\n",
              "      <td>0.0</td>\n",
              "      <td>1.0</td>\n",
              "      <td>0.0</td>\n",
              "      <td>1.0</td>\n",
              "    </tr>\n",
              "    <tr>\n",
              "      <th>4</th>\n",
              "      <td>-0.827324</td>\n",
              "      <td>-0.814069</td>\n",
              "      <td>-0.396162</td>\n",
              "      <td>-0.647252</td>\n",
              "      <td>1.065523</td>\n",
              "      <td>0.586853</td>\n",
              "      <td>-1.105658</td>\n",
              "      <td>-0.557186</td>\n",
              "      <td>-0.463438</td>\n",
              "      <td>-1.017955</td>\n",
              "      <td>...</td>\n",
              "      <td>1.0</td>\n",
              "      <td>0.0</td>\n",
              "      <td>0.0</td>\n",
              "      <td>1.0</td>\n",
              "      <td>0.0</td>\n",
              "      <td>0.0</td>\n",
              "      <td>0.0</td>\n",
              "      <td>1.0</td>\n",
              "      <td>0.0</td>\n",
              "      <td>1.0</td>\n",
              "    </tr>\n",
              "  </tbody>\n",
              "</table>\n",
              "<p>5 rows × 36 columns</p>\n",
              "</div>\n",
              "      <button class=\"colab-df-convert\" onclick=\"convertToInteractive('df-46a6d239-36a1-4317-846d-071ff6bed225')\"\n",
              "              title=\"Convert this dataframe to an interactive table.\"\n",
              "              style=\"display:none;\">\n",
              "        \n",
              "  <svg xmlns=\"http://www.w3.org/2000/svg\" height=\"24px\"viewBox=\"0 0 24 24\"\n",
              "       width=\"24px\">\n",
              "    <path d=\"M0 0h24v24H0V0z\" fill=\"none\"/>\n",
              "    <path d=\"M18.56 5.44l.94 2.06.94-2.06 2.06-.94-2.06-.94-.94-2.06-.94 2.06-2.06.94zm-11 1L8.5 8.5l.94-2.06 2.06-.94-2.06-.94L8.5 2.5l-.94 2.06-2.06.94zm10 10l.94 2.06.94-2.06 2.06-.94-2.06-.94-.94-2.06-.94 2.06-2.06.94z\"/><path d=\"M17.41 7.96l-1.37-1.37c-.4-.4-.92-.59-1.43-.59-.52 0-1.04.2-1.43.59L10.3 9.45l-7.72 7.72c-.78.78-.78 2.05 0 2.83L4 21.41c.39.39.9.59 1.41.59.51 0 1.02-.2 1.41-.59l7.78-7.78 2.81-2.81c.8-.78.8-2.07 0-2.86zM5.41 20L4 18.59l7.72-7.72 1.47 1.35L5.41 20z\"/>\n",
              "  </svg>\n",
              "      </button>\n",
              "      \n",
              "  <style>\n",
              "    .colab-df-container {\n",
              "      display:flex;\n",
              "      flex-wrap:wrap;\n",
              "      gap: 12px;\n",
              "    }\n",
              "\n",
              "    .colab-df-convert {\n",
              "      background-color: #E8F0FE;\n",
              "      border: none;\n",
              "      border-radius: 50%;\n",
              "      cursor: pointer;\n",
              "      display: none;\n",
              "      fill: #1967D2;\n",
              "      height: 32px;\n",
              "      padding: 0 0 0 0;\n",
              "      width: 32px;\n",
              "    }\n",
              "\n",
              "    .colab-df-convert:hover {\n",
              "      background-color: #E2EBFA;\n",
              "      box-shadow: 0px 1px 2px rgba(60, 64, 67, 0.3), 0px 1px 3px 1px rgba(60, 64, 67, 0.15);\n",
              "      fill: #174EA6;\n",
              "    }\n",
              "\n",
              "    [theme=dark] .colab-df-convert {\n",
              "      background-color: #3B4455;\n",
              "      fill: #D2E3FC;\n",
              "    }\n",
              "\n",
              "    [theme=dark] .colab-df-convert:hover {\n",
              "      background-color: #434B5C;\n",
              "      box-shadow: 0px 1px 3px 1px rgba(0, 0, 0, 0.15);\n",
              "      filter: drop-shadow(0px 1px 2px rgba(0, 0, 0, 0.3));\n",
              "      fill: #FFFFFF;\n",
              "    }\n",
              "  </style>\n",
              "\n",
              "      <script>\n",
              "        const buttonEl =\n",
              "          document.querySelector('#df-46a6d239-36a1-4317-846d-071ff6bed225 button.colab-df-convert');\n",
              "        buttonEl.style.display =\n",
              "          google.colab.kernel.accessAllowed ? 'block' : 'none';\n",
              "\n",
              "        async function convertToInteractive(key) {\n",
              "          const element = document.querySelector('#df-46a6d239-36a1-4317-846d-071ff6bed225');\n",
              "          const dataTable =\n",
              "            await google.colab.kernel.invokeFunction('convertToInteractive',\n",
              "                                                     [key], {});\n",
              "          if (!dataTable) return;\n",
              "\n",
              "          const docLinkHtml = 'Like what you see? Visit the ' +\n",
              "            '<a target=\"_blank\" href=https://colab.research.google.com/notebooks/data_table.ipynb>data table notebook</a>'\n",
              "            + ' to learn more about interactive tables.';\n",
              "          element.innerHTML = '';\n",
              "          dataTable['output_type'] = 'display_data';\n",
              "          await google.colab.output.renderOutput(dataTable, element);\n",
              "          const docLink = document.createElement('div');\n",
              "          docLink.innerHTML = docLinkHtml;\n",
              "          element.appendChild(docLink);\n",
              "        }\n",
              "      </script>\n",
              "    </div>\n",
              "  </div>\n",
              "  "
            ]
          },
          "metadata": {},
          "execution_count": 46
        }
      ],
      "source": [
        "X_train.head()"
      ]
    },
    {
      "cell_type": "code",
      "execution_count": null,
      "metadata": {
        "id": "xQDcQ0IeVbJG",
        "outputId": "d90bf356-4292-40e1-8b25-d432c982d161",
        "colab": {
          "base_uri": "https://localhost:8080/",
          "height": 299
        }
      },
      "outputs": [
        {
          "output_type": "execute_result",
          "data": {
            "text/plain": [
              "      rally     serve     speed  net.clearance  distance.from.sideline  \\\n",
              "0 -0.000049 -0.814069  1.915802      -0.209410               -0.993875   \n",
              "1 -0.827324 -0.814069  0.637883      -0.521776                0.027012   \n",
              "2 -0.827324  1.228398  1.285836      -0.255016               -0.385628   \n",
              "3 -0.827324  1.228398  0.191722      -0.185242               -0.566945   \n",
              "4 -0.827324 -0.814069 -0.623300      -0.431102               -0.535634   \n",
              "\n",
              "      depth  player.distance.travelled  player.impact.depth  \\\n",
              "0 -1.313488                  -1.414688             0.872303   \n",
              "1  0.172605                  -1.042676            -0.261741   \n",
              "2  0.103080                  -0.075567             0.665664   \n",
              "3 -0.193971                  -0.799147             0.413152   \n",
              "4  0.740060                  -1.082177             0.277543   \n",
              "\n",
              "   player.impact.distance.from.center  player.depth  ...  same.side_0.0  \\\n",
              "0                            0.124021      1.063491  ...            1.0   \n",
              "1                           -1.576280     -0.420140  ...            1.0   \n",
              "2                           -1.426336     -0.452510  ...            1.0   \n",
              "3                           -0.663473     -0.165681  ...            1.0   \n",
              "4                           -0.569446     -0.176144  ...            1.0   \n",
              "\n",
              "   same.side_1.0  previous.hitpoint_B  previous.hitpoint_F  \\\n",
              "0            0.0                  1.0                  0.0   \n",
              "1            0.0                  0.0                  1.0   \n",
              "2            0.0                  1.0                  0.0   \n",
              "3            0.0                  1.0                  0.0   \n",
              "4            0.0                  0.0                  1.0   \n",
              "\n",
              "   previous.hitpoint_U  previous.hitpoint_V  server.is.impact.player_0.0  \\\n",
              "0                  0.0                  0.0                          1.0   \n",
              "1                  0.0                  0.0                          0.0   \n",
              "2                  0.0                  0.0                          0.0   \n",
              "3                  0.0                  0.0                          0.0   \n",
              "4                  0.0                  0.0                          0.0   \n",
              "\n",
              "   server.is.impact.player_1.0  gender_mens  gender_womens  \n",
              "0                          0.0          1.0            0.0  \n",
              "1                          1.0          0.0            1.0  \n",
              "2                          1.0          1.0            0.0  \n",
              "3                          1.0          0.0            1.0  \n",
              "4                          1.0          0.0            1.0  \n",
              "\n",
              "[5 rows x 36 columns]"
            ],
            "text/html": [
              "\n",
              "  <div id=\"df-9ebc1f92-312f-464f-a0f5-1ac19b8205aa\">\n",
              "    <div class=\"colab-df-container\">\n",
              "      <div>\n",
              "<style scoped>\n",
              "    .dataframe tbody tr th:only-of-type {\n",
              "        vertical-align: middle;\n",
              "    }\n",
              "\n",
              "    .dataframe tbody tr th {\n",
              "        vertical-align: top;\n",
              "    }\n",
              "\n",
              "    .dataframe thead th {\n",
              "        text-align: right;\n",
              "    }\n",
              "</style>\n",
              "<table border=\"1\" class=\"dataframe\">\n",
              "  <thead>\n",
              "    <tr style=\"text-align: right;\">\n",
              "      <th></th>\n",
              "      <th>rally</th>\n",
              "      <th>serve</th>\n",
              "      <th>speed</th>\n",
              "      <th>net.clearance</th>\n",
              "      <th>distance.from.sideline</th>\n",
              "      <th>depth</th>\n",
              "      <th>player.distance.travelled</th>\n",
              "      <th>player.impact.depth</th>\n",
              "      <th>player.impact.distance.from.center</th>\n",
              "      <th>player.depth</th>\n",
              "      <th>...</th>\n",
              "      <th>same.side_0.0</th>\n",
              "      <th>same.side_1.0</th>\n",
              "      <th>previous.hitpoint_B</th>\n",
              "      <th>previous.hitpoint_F</th>\n",
              "      <th>previous.hitpoint_U</th>\n",
              "      <th>previous.hitpoint_V</th>\n",
              "      <th>server.is.impact.player_0.0</th>\n",
              "      <th>server.is.impact.player_1.0</th>\n",
              "      <th>gender_mens</th>\n",
              "      <th>gender_womens</th>\n",
              "    </tr>\n",
              "  </thead>\n",
              "  <tbody>\n",
              "    <tr>\n",
              "      <th>0</th>\n",
              "      <td>-0.000049</td>\n",
              "      <td>-0.814069</td>\n",
              "      <td>1.915802</td>\n",
              "      <td>-0.209410</td>\n",
              "      <td>-0.993875</td>\n",
              "      <td>-1.313488</td>\n",
              "      <td>-1.414688</td>\n",
              "      <td>0.872303</td>\n",
              "      <td>0.124021</td>\n",
              "      <td>1.063491</td>\n",
              "      <td>...</td>\n",
              "      <td>1.0</td>\n",
              "      <td>0.0</td>\n",
              "      <td>1.0</td>\n",
              "      <td>0.0</td>\n",
              "      <td>0.0</td>\n",
              "      <td>0.0</td>\n",
              "      <td>1.0</td>\n",
              "      <td>0.0</td>\n",
              "      <td>1.0</td>\n",
              "      <td>0.0</td>\n",
              "    </tr>\n",
              "    <tr>\n",
              "      <th>1</th>\n",
              "      <td>-0.827324</td>\n",
              "      <td>-0.814069</td>\n",
              "      <td>0.637883</td>\n",
              "      <td>-0.521776</td>\n",
              "      <td>0.027012</td>\n",
              "      <td>0.172605</td>\n",
              "      <td>-1.042676</td>\n",
              "      <td>-0.261741</td>\n",
              "      <td>-1.576280</td>\n",
              "      <td>-0.420140</td>\n",
              "      <td>...</td>\n",
              "      <td>1.0</td>\n",
              "      <td>0.0</td>\n",
              "      <td>0.0</td>\n",
              "      <td>1.0</td>\n",
              "      <td>0.0</td>\n",
              "      <td>0.0</td>\n",
              "      <td>0.0</td>\n",
              "      <td>1.0</td>\n",
              "      <td>0.0</td>\n",
              "      <td>1.0</td>\n",
              "    </tr>\n",
              "    <tr>\n",
              "      <th>2</th>\n",
              "      <td>-0.827324</td>\n",
              "      <td>1.228398</td>\n",
              "      <td>1.285836</td>\n",
              "      <td>-0.255016</td>\n",
              "      <td>-0.385628</td>\n",
              "      <td>0.103080</td>\n",
              "      <td>-0.075567</td>\n",
              "      <td>0.665664</td>\n",
              "      <td>-1.426336</td>\n",
              "      <td>-0.452510</td>\n",
              "      <td>...</td>\n",
              "      <td>1.0</td>\n",
              "      <td>0.0</td>\n",
              "      <td>1.0</td>\n",
              "      <td>0.0</td>\n",
              "      <td>0.0</td>\n",
              "      <td>0.0</td>\n",
              "      <td>0.0</td>\n",
              "      <td>1.0</td>\n",
              "      <td>1.0</td>\n",
              "      <td>0.0</td>\n",
              "    </tr>\n",
              "    <tr>\n",
              "      <th>3</th>\n",
              "      <td>-0.827324</td>\n",
              "      <td>1.228398</td>\n",
              "      <td>0.191722</td>\n",
              "      <td>-0.185242</td>\n",
              "      <td>-0.566945</td>\n",
              "      <td>-0.193971</td>\n",
              "      <td>-0.799147</td>\n",
              "      <td>0.413152</td>\n",
              "      <td>-0.663473</td>\n",
              "      <td>-0.165681</td>\n",
              "      <td>...</td>\n",
              "      <td>1.0</td>\n",
              "      <td>0.0</td>\n",
              "      <td>1.0</td>\n",
              "      <td>0.0</td>\n",
              "      <td>0.0</td>\n",
              "      <td>0.0</td>\n",
              "      <td>0.0</td>\n",
              "      <td>1.0</td>\n",
              "      <td>0.0</td>\n",
              "      <td>1.0</td>\n",
              "    </tr>\n",
              "    <tr>\n",
              "      <th>4</th>\n",
              "      <td>-0.827324</td>\n",
              "      <td>-0.814069</td>\n",
              "      <td>-0.623300</td>\n",
              "      <td>-0.431102</td>\n",
              "      <td>-0.535634</td>\n",
              "      <td>0.740060</td>\n",
              "      <td>-1.082177</td>\n",
              "      <td>0.277543</td>\n",
              "      <td>-0.569446</td>\n",
              "      <td>-0.176144</td>\n",
              "      <td>...</td>\n",
              "      <td>1.0</td>\n",
              "      <td>0.0</td>\n",
              "      <td>0.0</td>\n",
              "      <td>1.0</td>\n",
              "      <td>0.0</td>\n",
              "      <td>0.0</td>\n",
              "      <td>0.0</td>\n",
              "      <td>1.0</td>\n",
              "      <td>0.0</td>\n",
              "      <td>1.0</td>\n",
              "    </tr>\n",
              "  </tbody>\n",
              "</table>\n",
              "<p>5 rows × 36 columns</p>\n",
              "</div>\n",
              "      <button class=\"colab-df-convert\" onclick=\"convertToInteractive('df-9ebc1f92-312f-464f-a0f5-1ac19b8205aa')\"\n",
              "              title=\"Convert this dataframe to an interactive table.\"\n",
              "              style=\"display:none;\">\n",
              "        \n",
              "  <svg xmlns=\"http://www.w3.org/2000/svg\" height=\"24px\"viewBox=\"0 0 24 24\"\n",
              "       width=\"24px\">\n",
              "    <path d=\"M0 0h24v24H0V0z\" fill=\"none\"/>\n",
              "    <path d=\"M18.56 5.44l.94 2.06.94-2.06 2.06-.94-2.06-.94-.94-2.06-.94 2.06-2.06.94zm-11 1L8.5 8.5l.94-2.06 2.06-.94-2.06-.94L8.5 2.5l-.94 2.06-2.06.94zm10 10l.94 2.06.94-2.06 2.06-.94-2.06-.94-.94-2.06-.94 2.06-2.06.94z\"/><path d=\"M17.41 7.96l-1.37-1.37c-.4-.4-.92-.59-1.43-.59-.52 0-1.04.2-1.43.59L10.3 9.45l-7.72 7.72c-.78.78-.78 2.05 0 2.83L4 21.41c.39.39.9.59 1.41.59.51 0 1.02-.2 1.41-.59l7.78-7.78 2.81-2.81c.8-.78.8-2.07 0-2.86zM5.41 20L4 18.59l7.72-7.72 1.47 1.35L5.41 20z\"/>\n",
              "  </svg>\n",
              "      </button>\n",
              "      \n",
              "  <style>\n",
              "    .colab-df-container {\n",
              "      display:flex;\n",
              "      flex-wrap:wrap;\n",
              "      gap: 12px;\n",
              "    }\n",
              "\n",
              "    .colab-df-convert {\n",
              "      background-color: #E8F0FE;\n",
              "      border: none;\n",
              "      border-radius: 50%;\n",
              "      cursor: pointer;\n",
              "      display: none;\n",
              "      fill: #1967D2;\n",
              "      height: 32px;\n",
              "      padding: 0 0 0 0;\n",
              "      width: 32px;\n",
              "    }\n",
              "\n",
              "    .colab-df-convert:hover {\n",
              "      background-color: #E2EBFA;\n",
              "      box-shadow: 0px 1px 2px rgba(60, 64, 67, 0.3), 0px 1px 3px 1px rgba(60, 64, 67, 0.15);\n",
              "      fill: #174EA6;\n",
              "    }\n",
              "\n",
              "    [theme=dark] .colab-df-convert {\n",
              "      background-color: #3B4455;\n",
              "      fill: #D2E3FC;\n",
              "    }\n",
              "\n",
              "    [theme=dark] .colab-df-convert:hover {\n",
              "      background-color: #434B5C;\n",
              "      box-shadow: 0px 1px 3px 1px rgba(0, 0, 0, 0.15);\n",
              "      filter: drop-shadow(0px 1px 2px rgba(0, 0, 0, 0.3));\n",
              "      fill: #FFFFFF;\n",
              "    }\n",
              "  </style>\n",
              "\n",
              "      <script>\n",
              "        const buttonEl =\n",
              "          document.querySelector('#df-9ebc1f92-312f-464f-a0f5-1ac19b8205aa button.colab-df-convert');\n",
              "        buttonEl.style.display =\n",
              "          google.colab.kernel.accessAllowed ? 'block' : 'none';\n",
              "\n",
              "        async function convertToInteractive(key) {\n",
              "          const element = document.querySelector('#df-9ebc1f92-312f-464f-a0f5-1ac19b8205aa');\n",
              "          const dataTable =\n",
              "            await google.colab.kernel.invokeFunction('convertToInteractive',\n",
              "                                                     [key], {});\n",
              "          if (!dataTable) return;\n",
              "\n",
              "          const docLinkHtml = 'Like what you see? Visit the ' +\n",
              "            '<a target=\"_blank\" href=https://colab.research.google.com/notebooks/data_table.ipynb>data table notebook</a>'\n",
              "            + ' to learn more about interactive tables.';\n",
              "          element.innerHTML = '';\n",
              "          dataTable['output_type'] = 'display_data';\n",
              "          await google.colab.output.renderOutput(dataTable, element);\n",
              "          const docLink = document.createElement('div');\n",
              "          docLink.innerHTML = docLinkHtml;\n",
              "          element.appendChild(docLink);\n",
              "        }\n",
              "      </script>\n",
              "    </div>\n",
              "  </div>\n",
              "  "
            ]
          },
          "metadata": {},
          "execution_count": 47
        }
      ],
      "source": [
        "X_test.head()"
      ]
    },
    {
      "cell_type": "markdown",
      "metadata": {
        "id": "LaCrCouj867P"
      },
      "source": [
        "# Error Metrics"
      ]
    },
    {
      "cell_type": "markdown",
      "metadata": {
        "id": "DyJUYNE_VbJG"
      },
      "source": [
        "## Function to calculate accuracy, recall, precision and F1 score"
      ]
    },
    {
      "cell_type": "code",
      "execution_count": null,
      "metadata": {
        "ExecuteTime": {
          "end_time": "2020-03-06T10:32:34.925827Z",
          "start_time": "2020-03-06T10:32:34.910844Z"
        },
        "id": "JYJp3Qo5viNe"
      },
      "outputs": [],
      "source": [
        "scores = pd.DataFrame(columns=['Model', 'Train_Accuracy', 'Train_Recall', 'Train_Precision', 'Train_F1_Score',\n",
        "                               'Test_Accuracy', 'Test_Recall', 'Test_Precision', 'Test_F1_Score'])\n",
        "\n",
        "def get_metrics(train_actual, train_predicted, test_actual, test_predicted, model_description, dataframe):\n",
        "\n",
        "    train_accuracy  = accuracy_score(train_actual, train_predicted)\n",
        "    train_recall    = recall_score(train_actual, train_predicted, average=\"weighted\")\n",
        "    train_precision = precision_score(train_actual, train_predicted, average=\"weighted\")\n",
        "    train_f1score   = f1_score(train_actual, train_predicted, average=\"weighted\")\n",
        "\n",
        "    test_accuracy   = accuracy_score(test_actual, test_predicted)\n",
        "    test_recall     = recall_score(test_actual, test_predicted, average=\"weighted\")\n",
        "    test_precision  = precision_score(test_actual, test_predicted, average=\"weighted\")\n",
        "    test_f1score    = f1_score(test_actual, test_predicted, average=\"weighted\")\n",
        "\n",
        "    dataframe       = dataframe.append(pd.Series([model_description,\n",
        "                                                  train_accuracy, train_recall, train_precision, train_f1score,\n",
        "                                                  test_accuracy, test_recall, test_precision, test_f1score],\n",
        "                                                 index=scores.columns ),\n",
        "                                       ignore_index=True)\n",
        "\n",
        "    return(dataframe)"
      ]
    },
    {
      "cell_type": "markdown",
      "metadata": {
        "id": "NepyzKkIVbJG"
      },
      "source": [
        "## Function for Classification Report"
      ]
    },
    {
      "cell_type": "code",
      "execution_count": null,
      "metadata": {
        "ExecuteTime": {
          "end_time": "2020-03-06T10:32:35.165305Z",
          "start_time": "2020-03-06T10:32:34.927798Z"
        },
        "id": "Vd9891yaxMtM"
      },
      "outputs": [],
      "source": [
        "def classifcation_report_train_test(y_train, y_train_pred, y_test, y_test_pred):\n",
        "\n",
        "    print('''\n",
        "            =========================================\n",
        "               CLASSIFICATION REPORT FOR TRAIN DATA\n",
        "            =========================================\n",
        "            ''')\n",
        "    print(classification_report(y_train, y_train_pred, digits=4))\n",
        "\n",
        "    print('''\n",
        "            =========================================\n",
        "               CLASSIFICATION REPORT FOR TEST DATA\n",
        "            =========================================\n",
        "            ''')\n",
        "    print(classification_report(y_test, y_test_pred, digits=4))"
      ]
    },
    {
      "cell_type": "markdown",
      "metadata": {
        "id": "IJxL65gtVbJG"
      },
      "source": [
        "# Model Building"
      ]
    },
    {
      "cell_type": "markdown",
      "metadata": {
        "id": "v0QF6yrqVbJH"
      },
      "source": [
        "## Decision Trees"
      ]
    },
    {
      "cell_type": "code",
      "execution_count": null,
      "metadata": {
        "id": "283vmZFNVbJH"
      },
      "outputs": [],
      "source": [
        "clf_dt = DecisionTreeClassifier()"
      ]
    },
    {
      "cell_type": "code",
      "execution_count": null,
      "metadata": {
        "id": "lahzYhwOVbJH",
        "outputId": "9b345277-0371-4f6f-d923-49110a419efa",
        "colab": {
          "base_uri": "https://localhost:8080/",
          "height": 74
        }
      },
      "outputs": [
        {
          "output_type": "execute_result",
          "data": {
            "text/plain": [
              "DecisionTreeClassifier()"
            ],
            "text/html": [
              "<style>#sk-container-id-2 {color: black;background-color: white;}#sk-container-id-2 pre{padding: 0;}#sk-container-id-2 div.sk-toggleable {background-color: white;}#sk-container-id-2 label.sk-toggleable__label {cursor: pointer;display: block;width: 100%;margin-bottom: 0;padding: 0.3em;box-sizing: border-box;text-align: center;}#sk-container-id-2 label.sk-toggleable__label-arrow:before {content: \"▸\";float: left;margin-right: 0.25em;color: #696969;}#sk-container-id-2 label.sk-toggleable__label-arrow:hover:before {color: black;}#sk-container-id-2 div.sk-estimator:hover label.sk-toggleable__label-arrow:before {color: black;}#sk-container-id-2 div.sk-toggleable__content {max-height: 0;max-width: 0;overflow: hidden;text-align: left;background-color: #f0f8ff;}#sk-container-id-2 div.sk-toggleable__content pre {margin: 0.2em;color: black;border-radius: 0.25em;background-color: #f0f8ff;}#sk-container-id-2 input.sk-toggleable__control:checked~div.sk-toggleable__content {max-height: 200px;max-width: 100%;overflow: auto;}#sk-container-id-2 input.sk-toggleable__control:checked~label.sk-toggleable__label-arrow:before {content: \"▾\";}#sk-container-id-2 div.sk-estimator input.sk-toggleable__control:checked~label.sk-toggleable__label {background-color: #d4ebff;}#sk-container-id-2 div.sk-label input.sk-toggleable__control:checked~label.sk-toggleable__label {background-color: #d4ebff;}#sk-container-id-2 input.sk-hidden--visually {border: 0;clip: rect(1px 1px 1px 1px);clip: rect(1px, 1px, 1px, 1px);height: 1px;margin: -1px;overflow: hidden;padding: 0;position: absolute;width: 1px;}#sk-container-id-2 div.sk-estimator {font-family: monospace;background-color: #f0f8ff;border: 1px dotted black;border-radius: 0.25em;box-sizing: border-box;margin-bottom: 0.5em;}#sk-container-id-2 div.sk-estimator:hover {background-color: #d4ebff;}#sk-container-id-2 div.sk-parallel-item::after {content: \"\";width: 100%;border-bottom: 1px solid gray;flex-grow: 1;}#sk-container-id-2 div.sk-label:hover label.sk-toggleable__label {background-color: #d4ebff;}#sk-container-id-2 div.sk-serial::before {content: \"\";position: absolute;border-left: 1px solid gray;box-sizing: border-box;top: 0;bottom: 0;left: 50%;z-index: 0;}#sk-container-id-2 div.sk-serial {display: flex;flex-direction: column;align-items: center;background-color: white;padding-right: 0.2em;padding-left: 0.2em;position: relative;}#sk-container-id-2 div.sk-item {position: relative;z-index: 1;}#sk-container-id-2 div.sk-parallel {display: flex;align-items: stretch;justify-content: center;background-color: white;position: relative;}#sk-container-id-2 div.sk-item::before, #sk-container-id-2 div.sk-parallel-item::before {content: \"\";position: absolute;border-left: 1px solid gray;box-sizing: border-box;top: 0;bottom: 0;left: 50%;z-index: -1;}#sk-container-id-2 div.sk-parallel-item {display: flex;flex-direction: column;z-index: 1;position: relative;background-color: white;}#sk-container-id-2 div.sk-parallel-item:first-child::after {align-self: flex-end;width: 50%;}#sk-container-id-2 div.sk-parallel-item:last-child::after {align-self: flex-start;width: 50%;}#sk-container-id-2 div.sk-parallel-item:only-child::after {width: 0;}#sk-container-id-2 div.sk-dashed-wrapped {border: 1px dashed gray;margin: 0 0.4em 0.5em 0.4em;box-sizing: border-box;padding-bottom: 0.4em;background-color: white;}#sk-container-id-2 div.sk-label label {font-family: monospace;font-weight: bold;display: inline-block;line-height: 1.2em;}#sk-container-id-2 div.sk-label-container {text-align: center;}#sk-container-id-2 div.sk-container {/* jupyter's `normalize.less` sets `[hidden] { display: none; }` but bootstrap.min.css set `[hidden] { display: none !important; }` so we also need the `!important` here to be able to override the default hidden behavior on the sphinx rendered scikit-learn.org. See: https://github.com/scikit-learn/scikit-learn/issues/21755 */display: inline-block !important;position: relative;}#sk-container-id-2 div.sk-text-repr-fallback {display: none;}</style><div id=\"sk-container-id-2\" class=\"sk-top-container\"><div class=\"sk-text-repr-fallback\"><pre>DecisionTreeClassifier()</pre><b>In a Jupyter environment, please rerun this cell to show the HTML representation or trust the notebook. <br />On GitHub, the HTML representation is unable to render, please try loading this page with nbviewer.org.</b></div><div class=\"sk-container\" hidden><div class=\"sk-item\"><div class=\"sk-estimator sk-toggleable\"><input class=\"sk-toggleable__control sk-hidden--visually\" id=\"sk-estimator-id-2\" type=\"checkbox\" checked><label for=\"sk-estimator-id-2\" class=\"sk-toggleable__label sk-toggleable__label-arrow\">DecisionTreeClassifier</label><div class=\"sk-toggleable__content\"><pre>DecisionTreeClassifier()</pre></div></div></div></div></div>"
            ]
          },
          "metadata": {},
          "execution_count": 66
        }
      ],
      "source": [
        "clf_dt.fit(X_train, y_train)"
      ]
    },
    {
      "cell_type": "code",
      "execution_count": null,
      "metadata": {
        "id": "9fR7SI43VbJH"
      },
      "outputs": [],
      "source": [
        "y_pred_train = clf_dt.predict(X_train)\n",
        "y_pred_test = clf_dt.predict(X_test)"
      ]
    },
    {
      "cell_type": "code",
      "source": [
        "confusion_matrix(y_train, y_pred_train) # Confusion_matrix for the decision tree classifier"
      ],
      "metadata": {
        "colab": {
          "base_uri": "https://localhost:8080/"
        },
        "id": "hxkC1IVEhJlq",
        "outputId": "70639954-d0cf-451d-930d-6a0820ee831f"
      },
      "execution_count": null,
      "outputs": [
        {
          "output_type": "execute_result",
          "data": {
            "text/plain": [
              "array([[1273,    0,    0],\n",
              "       [   0, 2450,    0],\n",
              "       [   0,    0, 1877]])"
            ]
          },
          "metadata": {},
          "execution_count": 68
        }
      ]
    },
    {
      "cell_type": "code",
      "execution_count": null,
      "metadata": {
        "id": "7j0Dco89VbJH",
        "outputId": "0569fc3b-2128-473b-a0b6-724f1ffc0131",
        "colab": {
          "base_uri": "https://localhost:8080/"
        }
      },
      "outputs": [
        {
          "output_type": "stream",
          "name": "stdout",
          "text": [
            "\n",
            "            =========================================\n",
            "               CLASSIFICATION REPORT FOR TRAIN DATA\n",
            "            =========================================\n",
            "            \n",
            "              precision    recall  f1-score   support\n",
            "\n",
            "           0     1.0000    1.0000    1.0000      1273\n",
            "           1     1.0000    1.0000    1.0000      2450\n",
            "           2     1.0000    1.0000    1.0000      1877\n",
            "\n",
            "    accuracy                         1.0000      5600\n",
            "   macro avg     1.0000    1.0000    1.0000      5600\n",
            "weighted avg     1.0000    1.0000    1.0000      5600\n",
            "\n",
            "\n",
            "            =========================================\n",
            "               CLASSIFICATION REPORT FOR TEST DATA\n",
            "            =========================================\n",
            "            \n",
            "              precision    recall  f1-score   support\n",
            "\n",
            "           0     0.6382    0.6312    0.6347       545\n",
            "           1     0.7985    0.7992    0.7989      1051\n",
            "           2     0.9025    0.9081    0.9053       805\n",
            "\n",
            "    accuracy                         0.7976      2401\n",
            "   macro avg     0.7797    0.7795    0.7796      2401\n",
            "weighted avg     0.7970    0.7976    0.7973      2401\n",
            "\n"
          ]
        }
      ],
      "source": [
        "classifcation_report_train_test(y_train, y_pred_train, y_test, y_pred_test)"
      ]
    },
    {
      "cell_type": "code",
      "execution_count": null,
      "metadata": {
        "id": "JzQ-ZCEvVbJH",
        "outputId": "b9fce690-2ab7-496a-8b1f-42ac837e96ce",
        "colab": {
          "base_uri": "https://localhost:8080/",
          "height": 115
        }
      },
      "outputs": [
        {
          "output_type": "stream",
          "name": "stderr",
          "text": [
            "<ipython-input-63-3ef4ce65b0ea>:16: FutureWarning: The frame.append method is deprecated and will be removed from pandas in a future version. Use pandas.concat instead.\n",
            "  dataframe       = dataframe.append(pd.Series([model_description,\n"
          ]
        },
        {
          "output_type": "execute_result",
          "data": {
            "text/plain": [
              "           Model  Train_Accuracy  Train_Recall  Train_Precision  \\\n",
              "0  DecisionTrees             1.0           1.0              1.0   \n",
              "\n",
              "   Train_F1_Score  Test_Accuracy  Test_Recall  Test_Precision  Test_F1_Score  \n",
              "0             1.0       0.797584     0.797584        0.796967       0.797268  "
            ],
            "text/html": [
              "\n",
              "  <div id=\"df-aacf254b-20ec-4027-8bde-745287ceba88\">\n",
              "    <div class=\"colab-df-container\">\n",
              "      <div>\n",
              "<style scoped>\n",
              "    .dataframe tbody tr th:only-of-type {\n",
              "        vertical-align: middle;\n",
              "    }\n",
              "\n",
              "    .dataframe tbody tr th {\n",
              "        vertical-align: top;\n",
              "    }\n",
              "\n",
              "    .dataframe thead th {\n",
              "        text-align: right;\n",
              "    }\n",
              "</style>\n",
              "<table border=\"1\" class=\"dataframe\">\n",
              "  <thead>\n",
              "    <tr style=\"text-align: right;\">\n",
              "      <th></th>\n",
              "      <th>Model</th>\n",
              "      <th>Train_Accuracy</th>\n",
              "      <th>Train_Recall</th>\n",
              "      <th>Train_Precision</th>\n",
              "      <th>Train_F1_Score</th>\n",
              "      <th>Test_Accuracy</th>\n",
              "      <th>Test_Recall</th>\n",
              "      <th>Test_Precision</th>\n",
              "      <th>Test_F1_Score</th>\n",
              "    </tr>\n",
              "  </thead>\n",
              "  <tbody>\n",
              "    <tr>\n",
              "      <th>0</th>\n",
              "      <td>DecisionTrees</td>\n",
              "      <td>1.0</td>\n",
              "      <td>1.0</td>\n",
              "      <td>1.0</td>\n",
              "      <td>1.0</td>\n",
              "      <td>0.797584</td>\n",
              "      <td>0.797584</td>\n",
              "      <td>0.796967</td>\n",
              "      <td>0.797268</td>\n",
              "    </tr>\n",
              "  </tbody>\n",
              "</table>\n",
              "</div>\n",
              "      <button class=\"colab-df-convert\" onclick=\"convertToInteractive('df-aacf254b-20ec-4027-8bde-745287ceba88')\"\n",
              "              title=\"Convert this dataframe to an interactive table.\"\n",
              "              style=\"display:none;\">\n",
              "        \n",
              "  <svg xmlns=\"http://www.w3.org/2000/svg\" height=\"24px\"viewBox=\"0 0 24 24\"\n",
              "       width=\"24px\">\n",
              "    <path d=\"M0 0h24v24H0V0z\" fill=\"none\"/>\n",
              "    <path d=\"M18.56 5.44l.94 2.06.94-2.06 2.06-.94-2.06-.94-.94-2.06-.94 2.06-2.06.94zm-11 1L8.5 8.5l.94-2.06 2.06-.94-2.06-.94L8.5 2.5l-.94 2.06-2.06.94zm10 10l.94 2.06.94-2.06 2.06-.94-2.06-.94-.94-2.06-.94 2.06-2.06.94z\"/><path d=\"M17.41 7.96l-1.37-1.37c-.4-.4-.92-.59-1.43-.59-.52 0-1.04.2-1.43.59L10.3 9.45l-7.72 7.72c-.78.78-.78 2.05 0 2.83L4 21.41c.39.39.9.59 1.41.59.51 0 1.02-.2 1.41-.59l7.78-7.78 2.81-2.81c.8-.78.8-2.07 0-2.86zM5.41 20L4 18.59l7.72-7.72 1.47 1.35L5.41 20z\"/>\n",
              "  </svg>\n",
              "      </button>\n",
              "      \n",
              "  <style>\n",
              "    .colab-df-container {\n",
              "      display:flex;\n",
              "      flex-wrap:wrap;\n",
              "      gap: 12px;\n",
              "    }\n",
              "\n",
              "    .colab-df-convert {\n",
              "      background-color: #E8F0FE;\n",
              "      border: none;\n",
              "      border-radius: 50%;\n",
              "      cursor: pointer;\n",
              "      display: none;\n",
              "      fill: #1967D2;\n",
              "      height: 32px;\n",
              "      padding: 0 0 0 0;\n",
              "      width: 32px;\n",
              "    }\n",
              "\n",
              "    .colab-df-convert:hover {\n",
              "      background-color: #E2EBFA;\n",
              "      box-shadow: 0px 1px 2px rgba(60, 64, 67, 0.3), 0px 1px 3px 1px rgba(60, 64, 67, 0.15);\n",
              "      fill: #174EA6;\n",
              "    }\n",
              "\n",
              "    [theme=dark] .colab-df-convert {\n",
              "      background-color: #3B4455;\n",
              "      fill: #D2E3FC;\n",
              "    }\n",
              "\n",
              "    [theme=dark] .colab-df-convert:hover {\n",
              "      background-color: #434B5C;\n",
              "      box-shadow: 0px 1px 3px 1px rgba(0, 0, 0, 0.15);\n",
              "      filter: drop-shadow(0px 1px 2px rgba(0, 0, 0, 0.3));\n",
              "      fill: #FFFFFF;\n",
              "    }\n",
              "  </style>\n",
              "\n",
              "      <script>\n",
              "        const buttonEl =\n",
              "          document.querySelector('#df-aacf254b-20ec-4027-8bde-745287ceba88 button.colab-df-convert');\n",
              "        buttonEl.style.display =\n",
              "          google.colab.kernel.accessAllowed ? 'block' : 'none';\n",
              "\n",
              "        async function convertToInteractive(key) {\n",
              "          const element = document.querySelector('#df-aacf254b-20ec-4027-8bde-745287ceba88');\n",
              "          const dataTable =\n",
              "            await google.colab.kernel.invokeFunction('convertToInteractive',\n",
              "                                                     [key], {});\n",
              "          if (!dataTable) return;\n",
              "\n",
              "          const docLinkHtml = 'Like what you see? Visit the ' +\n",
              "            '<a target=\"_blank\" href=https://colab.research.google.com/notebooks/data_table.ipynb>data table notebook</a>'\n",
              "            + ' to learn more about interactive tables.';\n",
              "          element.innerHTML = '';\n",
              "          dataTable['output_type'] = 'display_data';\n",
              "          await google.colab.output.renderOutput(dataTable, element);\n",
              "          const docLink = document.createElement('div');\n",
              "          docLink.innerHTML = docLinkHtml;\n",
              "          element.appendChild(docLink);\n",
              "        }\n",
              "      </script>\n",
              "    </div>\n",
              "  </div>\n",
              "  "
            ]
          },
          "metadata": {},
          "execution_count": 70
        }
      ],
      "source": [
        "scores = get_metrics(y_train, y_pred_train, y_test, y_pred_test, \"DecisionTrees\", scores)\n",
        "scores"
      ]
    },
    {
      "cell_type": "markdown",
      "source": [
        "* By observing the performance metrics it is clearly observed that the decision tree model is overfitted."
      ],
      "metadata": {
        "id": "NpQrWbideg8F"
      }
    },
    {
      "cell_type": "markdown",
      "metadata": {
        "id": "Xoa8UvDGVbJH"
      },
      "source": [
        "## Random Forests"
      ]
    },
    {
      "cell_type": "code",
      "execution_count": null,
      "metadata": {
        "id": "6v_TcpWuVbJI"
      },
      "outputs": [],
      "source": [
        "clf_rf = RandomForestClassifier()"
      ]
    },
    {
      "cell_type": "code",
      "execution_count": null,
      "metadata": {
        "id": "Cvh4IuRoVbJI",
        "outputId": "5f50cbb7-33bd-45eb-df6c-ecefe36fd48f",
        "colab": {
          "base_uri": "https://localhost:8080/",
          "height": 74
        }
      },
      "outputs": [
        {
          "output_type": "execute_result",
          "data": {
            "text/plain": [
              "RandomForestClassifier()"
            ],
            "text/html": [
              "<style>#sk-container-id-3 {color: black;background-color: white;}#sk-container-id-3 pre{padding: 0;}#sk-container-id-3 div.sk-toggleable {background-color: white;}#sk-container-id-3 label.sk-toggleable__label {cursor: pointer;display: block;width: 100%;margin-bottom: 0;padding: 0.3em;box-sizing: border-box;text-align: center;}#sk-container-id-3 label.sk-toggleable__label-arrow:before {content: \"▸\";float: left;margin-right: 0.25em;color: #696969;}#sk-container-id-3 label.sk-toggleable__label-arrow:hover:before {color: black;}#sk-container-id-3 div.sk-estimator:hover label.sk-toggleable__label-arrow:before {color: black;}#sk-container-id-3 div.sk-toggleable__content {max-height: 0;max-width: 0;overflow: hidden;text-align: left;background-color: #f0f8ff;}#sk-container-id-3 div.sk-toggleable__content pre {margin: 0.2em;color: black;border-radius: 0.25em;background-color: #f0f8ff;}#sk-container-id-3 input.sk-toggleable__control:checked~div.sk-toggleable__content {max-height: 200px;max-width: 100%;overflow: auto;}#sk-container-id-3 input.sk-toggleable__control:checked~label.sk-toggleable__label-arrow:before {content: \"▾\";}#sk-container-id-3 div.sk-estimator input.sk-toggleable__control:checked~label.sk-toggleable__label {background-color: #d4ebff;}#sk-container-id-3 div.sk-label input.sk-toggleable__control:checked~label.sk-toggleable__label {background-color: #d4ebff;}#sk-container-id-3 input.sk-hidden--visually {border: 0;clip: rect(1px 1px 1px 1px);clip: rect(1px, 1px, 1px, 1px);height: 1px;margin: -1px;overflow: hidden;padding: 0;position: absolute;width: 1px;}#sk-container-id-3 div.sk-estimator {font-family: monospace;background-color: #f0f8ff;border: 1px dotted black;border-radius: 0.25em;box-sizing: border-box;margin-bottom: 0.5em;}#sk-container-id-3 div.sk-estimator:hover {background-color: #d4ebff;}#sk-container-id-3 div.sk-parallel-item::after {content: \"\";width: 100%;border-bottom: 1px solid gray;flex-grow: 1;}#sk-container-id-3 div.sk-label:hover label.sk-toggleable__label {background-color: #d4ebff;}#sk-container-id-3 div.sk-serial::before {content: \"\";position: absolute;border-left: 1px solid gray;box-sizing: border-box;top: 0;bottom: 0;left: 50%;z-index: 0;}#sk-container-id-3 div.sk-serial {display: flex;flex-direction: column;align-items: center;background-color: white;padding-right: 0.2em;padding-left: 0.2em;position: relative;}#sk-container-id-3 div.sk-item {position: relative;z-index: 1;}#sk-container-id-3 div.sk-parallel {display: flex;align-items: stretch;justify-content: center;background-color: white;position: relative;}#sk-container-id-3 div.sk-item::before, #sk-container-id-3 div.sk-parallel-item::before {content: \"\";position: absolute;border-left: 1px solid gray;box-sizing: border-box;top: 0;bottom: 0;left: 50%;z-index: -1;}#sk-container-id-3 div.sk-parallel-item {display: flex;flex-direction: column;z-index: 1;position: relative;background-color: white;}#sk-container-id-3 div.sk-parallel-item:first-child::after {align-self: flex-end;width: 50%;}#sk-container-id-3 div.sk-parallel-item:last-child::after {align-self: flex-start;width: 50%;}#sk-container-id-3 div.sk-parallel-item:only-child::after {width: 0;}#sk-container-id-3 div.sk-dashed-wrapped {border: 1px dashed gray;margin: 0 0.4em 0.5em 0.4em;box-sizing: border-box;padding-bottom: 0.4em;background-color: white;}#sk-container-id-3 div.sk-label label {font-family: monospace;font-weight: bold;display: inline-block;line-height: 1.2em;}#sk-container-id-3 div.sk-label-container {text-align: center;}#sk-container-id-3 div.sk-container {/* jupyter's `normalize.less` sets `[hidden] { display: none; }` but bootstrap.min.css set `[hidden] { display: none !important; }` so we also need the `!important` here to be able to override the default hidden behavior on the sphinx rendered scikit-learn.org. See: https://github.com/scikit-learn/scikit-learn/issues/21755 */display: inline-block !important;position: relative;}#sk-container-id-3 div.sk-text-repr-fallback {display: none;}</style><div id=\"sk-container-id-3\" class=\"sk-top-container\"><div class=\"sk-text-repr-fallback\"><pre>RandomForestClassifier()</pre><b>In a Jupyter environment, please rerun this cell to show the HTML representation or trust the notebook. <br />On GitHub, the HTML representation is unable to render, please try loading this page with nbviewer.org.</b></div><div class=\"sk-container\" hidden><div class=\"sk-item\"><div class=\"sk-estimator sk-toggleable\"><input class=\"sk-toggleable__control sk-hidden--visually\" id=\"sk-estimator-id-3\" type=\"checkbox\" checked><label for=\"sk-estimator-id-3\" class=\"sk-toggleable__label sk-toggleable__label-arrow\">RandomForestClassifier</label><div class=\"sk-toggleable__content\"><pre>RandomForestClassifier()</pre></div></div></div></div></div>"
            ]
          },
          "metadata": {},
          "execution_count": 72
        }
      ],
      "source": [
        "clf_rf.fit(X=X_train, y=y_train)"
      ]
    },
    {
      "cell_type": "code",
      "execution_count": null,
      "metadata": {
        "id": "YPawe20JVbJI"
      },
      "outputs": [],
      "source": [
        "y_pred_train = clf_rf.predict(X_train)\n",
        "y_pred_test = clf_rf.predict(X_test)"
      ]
    },
    {
      "cell_type": "code",
      "source": [
        "confusion_matrix(y_train, y_pred_train) # Confusion matrix for random forest."
      ],
      "metadata": {
        "colab": {
          "base_uri": "https://localhost:8080/"
        },
        "id": "soGRB-ZjiSZM",
        "outputId": "d009ea85-43df-4000-8921-146ce7d16932"
      },
      "execution_count": null,
      "outputs": [
        {
          "output_type": "execute_result",
          "data": {
            "text/plain": [
              "array([[1273,    0,    0],\n",
              "       [   0, 2450,    0],\n",
              "       [   0,    0, 1877]])"
            ]
          },
          "metadata": {},
          "execution_count": 76
        }
      ]
    },
    {
      "cell_type": "code",
      "execution_count": null,
      "metadata": {
        "id": "oN7UoBm6VbJI",
        "outputId": "3c7d5f8f-5d1a-47f8-c5cb-0fdb1f33356c",
        "colab": {
          "base_uri": "https://localhost:8080/"
        }
      },
      "outputs": [
        {
          "output_type": "stream",
          "name": "stdout",
          "text": [
            "\n",
            "            =========================================\n",
            "               CLASSIFICATION REPORT FOR TRAIN DATA\n",
            "            =========================================\n",
            "            \n",
            "              precision    recall  f1-score   support\n",
            "\n",
            "           0     1.0000    1.0000    1.0000      1273\n",
            "           1     1.0000    1.0000    1.0000      2450\n",
            "           2     1.0000    1.0000    1.0000      1877\n",
            "\n",
            "    accuracy                         1.0000      5600\n",
            "   macro avg     1.0000    1.0000    1.0000      5600\n",
            "weighted avg     1.0000    1.0000    1.0000      5600\n",
            "\n",
            "\n",
            "            =========================================\n",
            "               CLASSIFICATION REPORT FOR TEST DATA\n",
            "            =========================================\n",
            "            \n",
            "              precision    recall  f1-score   support\n",
            "\n",
            "           0     0.7809    0.7064    0.7418       545\n",
            "           1     0.8519    0.8754    0.8634      1051\n",
            "           2     0.9215    0.9478    0.9345       805\n",
            "\n",
            "    accuracy                         0.8613      2401\n",
            "   macro avg     0.8514    0.8432    0.8466      2401\n",
            "weighted avg     0.8591    0.8613    0.8597      2401\n",
            "\n"
          ]
        }
      ],
      "source": [
        "classifcation_report_train_test(y_train, y_pred_train, y_test, y_pred_test)"
      ]
    },
    {
      "cell_type": "code",
      "execution_count": null,
      "metadata": {
        "id": "nxxkociQVbJI",
        "outputId": "8dcaf4fd-f758-454c-a792-b817258b5071",
        "colab": {
          "base_uri": "https://localhost:8080/",
          "height": 147
        }
      },
      "outputs": [
        {
          "output_type": "stream",
          "name": "stderr",
          "text": [
            "<ipython-input-63-3ef4ce65b0ea>:16: FutureWarning: The frame.append method is deprecated and will be removed from pandas in a future version. Use pandas.concat instead.\n",
            "  dataframe       = dataframe.append(pd.Series([model_description,\n"
          ]
        },
        {
          "output_type": "execute_result",
          "data": {
            "text/plain": [
              "           Model  Train_Accuracy  Train_Recall  Train_Precision  \\\n",
              "0  DecisionTrees             1.0           1.0              1.0   \n",
              "1   RandomForest             1.0           1.0              1.0   \n",
              "\n",
              "   Train_F1_Score  Test_Accuracy  Test_Recall  Test_Precision  Test_F1_Score  \n",
              "0             1.0       0.797584     0.797584        0.796967       0.797268  \n",
              "1             1.0       0.861308     0.861308        0.859105       0.859650  "
            ],
            "text/html": [
              "\n",
              "  <div id=\"df-46d85dd1-d6de-4ecd-81bd-aa7b2ba568df\">\n",
              "    <div class=\"colab-df-container\">\n",
              "      <div>\n",
              "<style scoped>\n",
              "    .dataframe tbody tr th:only-of-type {\n",
              "        vertical-align: middle;\n",
              "    }\n",
              "\n",
              "    .dataframe tbody tr th {\n",
              "        vertical-align: top;\n",
              "    }\n",
              "\n",
              "    .dataframe thead th {\n",
              "        text-align: right;\n",
              "    }\n",
              "</style>\n",
              "<table border=\"1\" class=\"dataframe\">\n",
              "  <thead>\n",
              "    <tr style=\"text-align: right;\">\n",
              "      <th></th>\n",
              "      <th>Model</th>\n",
              "      <th>Train_Accuracy</th>\n",
              "      <th>Train_Recall</th>\n",
              "      <th>Train_Precision</th>\n",
              "      <th>Train_F1_Score</th>\n",
              "      <th>Test_Accuracy</th>\n",
              "      <th>Test_Recall</th>\n",
              "      <th>Test_Precision</th>\n",
              "      <th>Test_F1_Score</th>\n",
              "    </tr>\n",
              "  </thead>\n",
              "  <tbody>\n",
              "    <tr>\n",
              "      <th>0</th>\n",
              "      <td>DecisionTrees</td>\n",
              "      <td>1.0</td>\n",
              "      <td>1.0</td>\n",
              "      <td>1.0</td>\n",
              "      <td>1.0</td>\n",
              "      <td>0.797584</td>\n",
              "      <td>0.797584</td>\n",
              "      <td>0.796967</td>\n",
              "      <td>0.797268</td>\n",
              "    </tr>\n",
              "    <tr>\n",
              "      <th>1</th>\n",
              "      <td>RandomForest</td>\n",
              "      <td>1.0</td>\n",
              "      <td>1.0</td>\n",
              "      <td>1.0</td>\n",
              "      <td>1.0</td>\n",
              "      <td>0.861308</td>\n",
              "      <td>0.861308</td>\n",
              "      <td>0.859105</td>\n",
              "      <td>0.859650</td>\n",
              "    </tr>\n",
              "  </tbody>\n",
              "</table>\n",
              "</div>\n",
              "      <button class=\"colab-df-convert\" onclick=\"convertToInteractive('df-46d85dd1-d6de-4ecd-81bd-aa7b2ba568df')\"\n",
              "              title=\"Convert this dataframe to an interactive table.\"\n",
              "              style=\"display:none;\">\n",
              "        \n",
              "  <svg xmlns=\"http://www.w3.org/2000/svg\" height=\"24px\"viewBox=\"0 0 24 24\"\n",
              "       width=\"24px\">\n",
              "    <path d=\"M0 0h24v24H0V0z\" fill=\"none\"/>\n",
              "    <path d=\"M18.56 5.44l.94 2.06.94-2.06 2.06-.94-2.06-.94-.94-2.06-.94 2.06-2.06.94zm-11 1L8.5 8.5l.94-2.06 2.06-.94-2.06-.94L8.5 2.5l-.94 2.06-2.06.94zm10 10l.94 2.06.94-2.06 2.06-.94-2.06-.94-.94-2.06-.94 2.06-2.06.94z\"/><path d=\"M17.41 7.96l-1.37-1.37c-.4-.4-.92-.59-1.43-.59-.52 0-1.04.2-1.43.59L10.3 9.45l-7.72 7.72c-.78.78-.78 2.05 0 2.83L4 21.41c.39.39.9.59 1.41.59.51 0 1.02-.2 1.41-.59l7.78-7.78 2.81-2.81c.8-.78.8-2.07 0-2.86zM5.41 20L4 18.59l7.72-7.72 1.47 1.35L5.41 20z\"/>\n",
              "  </svg>\n",
              "      </button>\n",
              "      \n",
              "  <style>\n",
              "    .colab-df-container {\n",
              "      display:flex;\n",
              "      flex-wrap:wrap;\n",
              "      gap: 12px;\n",
              "    }\n",
              "\n",
              "    .colab-df-convert {\n",
              "      background-color: #E8F0FE;\n",
              "      border: none;\n",
              "      border-radius: 50%;\n",
              "      cursor: pointer;\n",
              "      display: none;\n",
              "      fill: #1967D2;\n",
              "      height: 32px;\n",
              "      padding: 0 0 0 0;\n",
              "      width: 32px;\n",
              "    }\n",
              "\n",
              "    .colab-df-convert:hover {\n",
              "      background-color: #E2EBFA;\n",
              "      box-shadow: 0px 1px 2px rgba(60, 64, 67, 0.3), 0px 1px 3px 1px rgba(60, 64, 67, 0.15);\n",
              "      fill: #174EA6;\n",
              "    }\n",
              "\n",
              "    [theme=dark] .colab-df-convert {\n",
              "      background-color: #3B4455;\n",
              "      fill: #D2E3FC;\n",
              "    }\n",
              "\n",
              "    [theme=dark] .colab-df-convert:hover {\n",
              "      background-color: #434B5C;\n",
              "      box-shadow: 0px 1px 3px 1px rgba(0, 0, 0, 0.15);\n",
              "      filter: drop-shadow(0px 1px 2px rgba(0, 0, 0, 0.3));\n",
              "      fill: #FFFFFF;\n",
              "    }\n",
              "  </style>\n",
              "\n",
              "      <script>\n",
              "        const buttonEl =\n",
              "          document.querySelector('#df-46d85dd1-d6de-4ecd-81bd-aa7b2ba568df button.colab-df-convert');\n",
              "        buttonEl.style.display =\n",
              "          google.colab.kernel.accessAllowed ? 'block' : 'none';\n",
              "\n",
              "        async function convertToInteractive(key) {\n",
              "          const element = document.querySelector('#df-46d85dd1-d6de-4ecd-81bd-aa7b2ba568df');\n",
              "          const dataTable =\n",
              "            await google.colab.kernel.invokeFunction('convertToInteractive',\n",
              "                                                     [key], {});\n",
              "          if (!dataTable) return;\n",
              "\n",
              "          const docLinkHtml = 'Like what you see? Visit the ' +\n",
              "            '<a target=\"_blank\" href=https://colab.research.google.com/notebooks/data_table.ipynb>data table notebook</a>'\n",
              "            + ' to learn more about interactive tables.';\n",
              "          element.innerHTML = '';\n",
              "          dataTable['output_type'] = 'display_data';\n",
              "          await google.colab.output.renderOutput(dataTable, element);\n",
              "          const docLink = document.createElement('div');\n",
              "          docLink.innerHTML = docLinkHtml;\n",
              "          element.appendChild(docLink);\n",
              "        }\n",
              "      </script>\n",
              "    </div>\n",
              "  </div>\n",
              "  "
            ]
          },
          "metadata": {},
          "execution_count": 78
        }
      ],
      "source": [
        "scores = get_metrics(y_train, y_pred_train, y_test, y_pred_test, \"RandomForest\", scores)\n",
        "scores"
      ]
    },
    {
      "cell_type": "markdown",
      "source": [
        "* By observing the performance metrics it is observed that random forest model also overfitted"
      ],
      "metadata": {
        "id": "ChlbwZ9cijVh"
      }
    },
    {
      "cell_type": "markdown",
      "metadata": {
        "id": "LpNcsVAYVbJJ"
      },
      "source": [
        "## Build Gradient Boosting Classifier"
      ]
    },
    {
      "cell_type": "code",
      "execution_count": null,
      "metadata": {
        "id": "6zLxdQnPVbJJ"
      },
      "outputs": [],
      "source": [
        "clf_gbm = GradientBoostingClassifier()"
      ]
    },
    {
      "cell_type": "code",
      "execution_count": null,
      "metadata": {
        "id": "atFoyw8YVbJJ",
        "outputId": "9c47191a-1b5c-4f90-fe01-b5aba68c795f",
        "colab": {
          "base_uri": "https://localhost:8080/",
          "height": 74
        }
      },
      "outputs": [
        {
          "output_type": "execute_result",
          "data": {
            "text/plain": [
              "GradientBoostingClassifier()"
            ],
            "text/html": [
              "<style>#sk-container-id-4 {color: black;background-color: white;}#sk-container-id-4 pre{padding: 0;}#sk-container-id-4 div.sk-toggleable {background-color: white;}#sk-container-id-4 label.sk-toggleable__label {cursor: pointer;display: block;width: 100%;margin-bottom: 0;padding: 0.3em;box-sizing: border-box;text-align: center;}#sk-container-id-4 label.sk-toggleable__label-arrow:before {content: \"▸\";float: left;margin-right: 0.25em;color: #696969;}#sk-container-id-4 label.sk-toggleable__label-arrow:hover:before {color: black;}#sk-container-id-4 div.sk-estimator:hover label.sk-toggleable__label-arrow:before {color: black;}#sk-container-id-4 div.sk-toggleable__content {max-height: 0;max-width: 0;overflow: hidden;text-align: left;background-color: #f0f8ff;}#sk-container-id-4 div.sk-toggleable__content pre {margin: 0.2em;color: black;border-radius: 0.25em;background-color: #f0f8ff;}#sk-container-id-4 input.sk-toggleable__control:checked~div.sk-toggleable__content {max-height: 200px;max-width: 100%;overflow: auto;}#sk-container-id-4 input.sk-toggleable__control:checked~label.sk-toggleable__label-arrow:before {content: \"▾\";}#sk-container-id-4 div.sk-estimator input.sk-toggleable__control:checked~label.sk-toggleable__label {background-color: #d4ebff;}#sk-container-id-4 div.sk-label input.sk-toggleable__control:checked~label.sk-toggleable__label {background-color: #d4ebff;}#sk-container-id-4 input.sk-hidden--visually {border: 0;clip: rect(1px 1px 1px 1px);clip: rect(1px, 1px, 1px, 1px);height: 1px;margin: -1px;overflow: hidden;padding: 0;position: absolute;width: 1px;}#sk-container-id-4 div.sk-estimator {font-family: monospace;background-color: #f0f8ff;border: 1px dotted black;border-radius: 0.25em;box-sizing: border-box;margin-bottom: 0.5em;}#sk-container-id-4 div.sk-estimator:hover {background-color: #d4ebff;}#sk-container-id-4 div.sk-parallel-item::after {content: \"\";width: 100%;border-bottom: 1px solid gray;flex-grow: 1;}#sk-container-id-4 div.sk-label:hover label.sk-toggleable__label {background-color: #d4ebff;}#sk-container-id-4 div.sk-serial::before {content: \"\";position: absolute;border-left: 1px solid gray;box-sizing: border-box;top: 0;bottom: 0;left: 50%;z-index: 0;}#sk-container-id-4 div.sk-serial {display: flex;flex-direction: column;align-items: center;background-color: white;padding-right: 0.2em;padding-left: 0.2em;position: relative;}#sk-container-id-4 div.sk-item {position: relative;z-index: 1;}#sk-container-id-4 div.sk-parallel {display: flex;align-items: stretch;justify-content: center;background-color: white;position: relative;}#sk-container-id-4 div.sk-item::before, #sk-container-id-4 div.sk-parallel-item::before {content: \"\";position: absolute;border-left: 1px solid gray;box-sizing: border-box;top: 0;bottom: 0;left: 50%;z-index: -1;}#sk-container-id-4 div.sk-parallel-item {display: flex;flex-direction: column;z-index: 1;position: relative;background-color: white;}#sk-container-id-4 div.sk-parallel-item:first-child::after {align-self: flex-end;width: 50%;}#sk-container-id-4 div.sk-parallel-item:last-child::after {align-self: flex-start;width: 50%;}#sk-container-id-4 div.sk-parallel-item:only-child::after {width: 0;}#sk-container-id-4 div.sk-dashed-wrapped {border: 1px dashed gray;margin: 0 0.4em 0.5em 0.4em;box-sizing: border-box;padding-bottom: 0.4em;background-color: white;}#sk-container-id-4 div.sk-label label {font-family: monospace;font-weight: bold;display: inline-block;line-height: 1.2em;}#sk-container-id-4 div.sk-label-container {text-align: center;}#sk-container-id-4 div.sk-container {/* jupyter's `normalize.less` sets `[hidden] { display: none; }` but bootstrap.min.css set `[hidden] { display: none !important; }` so we also need the `!important` here to be able to override the default hidden behavior on the sphinx rendered scikit-learn.org. See: https://github.com/scikit-learn/scikit-learn/issues/21755 */display: inline-block !important;position: relative;}#sk-container-id-4 div.sk-text-repr-fallback {display: none;}</style><div id=\"sk-container-id-4\" class=\"sk-top-container\"><div class=\"sk-text-repr-fallback\"><pre>GradientBoostingClassifier()</pre><b>In a Jupyter environment, please rerun this cell to show the HTML representation or trust the notebook. <br />On GitHub, the HTML representation is unable to render, please try loading this page with nbviewer.org.</b></div><div class=\"sk-container\" hidden><div class=\"sk-item\"><div class=\"sk-estimator sk-toggleable\"><input class=\"sk-toggleable__control sk-hidden--visually\" id=\"sk-estimator-id-4\" type=\"checkbox\" checked><label for=\"sk-estimator-id-4\" class=\"sk-toggleable__label sk-toggleable__label-arrow\">GradientBoostingClassifier</label><div class=\"sk-toggleable__content\"><pre>GradientBoostingClassifier()</pre></div></div></div></div></div>"
            ]
          },
          "metadata": {},
          "execution_count": 80
        }
      ],
      "source": [
        "clf_gbm.fit(X=X_train, y=y_train)"
      ]
    },
    {
      "cell_type": "code",
      "execution_count": null,
      "metadata": {
        "id": "hNHBDXW4VbJJ"
      },
      "outputs": [],
      "source": [
        "y_pred_train = clf_gbm.predict(X_train)\n",
        "y_pred_test = clf_gbm.predict(X_test)"
      ]
    },
    {
      "cell_type": "code",
      "source": [
        "confusion_matrix(y_train, y_pred_train) # confusion matrix for Gradient Boosting Classifier"
      ],
      "metadata": {
        "colab": {
          "base_uri": "https://localhost:8080/"
        },
        "id": "ktSYOJwujHd6",
        "outputId": "04b13b82-3cf4-48ff-c0c4-0645505b590a"
      },
      "execution_count": null,
      "outputs": [
        {
          "output_type": "execute_result",
          "data": {
            "text/plain": [
              "array([[1047,  198,   28],\n",
              "       [ 111, 2268,   71],\n",
              "       [  15,   29, 1833]])"
            ]
          },
          "metadata": {},
          "execution_count": 82
        }
      ]
    },
    {
      "cell_type": "code",
      "execution_count": null,
      "metadata": {
        "scrolled": true,
        "id": "jAGf8ohaVbJJ",
        "outputId": "462dd551-05dd-4e4f-ca08-bdb46ffa1bd9",
        "colab": {
          "base_uri": "https://localhost:8080/"
        }
      },
      "outputs": [
        {
          "output_type": "stream",
          "name": "stdout",
          "text": [
            "\n",
            "            =========================================\n",
            "               CLASSIFICATION REPORT FOR TRAIN DATA\n",
            "            =========================================\n",
            "            \n",
            "              precision    recall  f1-score   support\n",
            "\n",
            "           0     0.8926    0.8225    0.8561      1273\n",
            "           1     0.9090    0.9257    0.9173      2450\n",
            "           2     0.9488    0.9766    0.9625      1877\n",
            "\n",
            "    accuracy                         0.9193      5600\n",
            "   macro avg     0.9168    0.9082    0.9119      5600\n",
            "weighted avg     0.9186    0.9193    0.9185      5600\n",
            "\n",
            "\n",
            "            =========================================\n",
            "               CLASSIFICATION REPORT FOR TEST DATA\n",
            "            =========================================\n",
            "            \n",
            "              precision    recall  f1-score   support\n",
            "\n",
            "           0     0.7859    0.7138    0.7481       545\n",
            "           1     0.8629    0.8744    0.8686      1051\n",
            "           2     0.9180    0.9590    0.9380       805\n",
            "\n",
            "    accuracy                         0.8663      2401\n",
            "   macro avg     0.8556    0.8491    0.8516      2401\n",
            "weighted avg     0.8639    0.8663    0.8645      2401\n",
            "\n"
          ]
        }
      ],
      "source": [
        "classifcation_report_train_test(y_train, y_pred_train, y_test, y_pred_test)"
      ]
    },
    {
      "cell_type": "code",
      "execution_count": null,
      "metadata": {
        "id": "orXs4PvzVbJJ",
        "outputId": "e739dc1b-62af-441c-d21a-93c92732e7c4",
        "colab": {
          "base_uri": "https://localhost:8080/",
          "height": 178
        }
      },
      "outputs": [
        {
          "output_type": "stream",
          "name": "stderr",
          "text": [
            "<ipython-input-63-3ef4ce65b0ea>:16: FutureWarning: The frame.append method is deprecated and will be removed from pandas in a future version. Use pandas.concat instead.\n",
            "  dataframe       = dataframe.append(pd.Series([model_description,\n"
          ]
        },
        {
          "output_type": "execute_result",
          "data": {
            "text/plain": [
              "           Model  Train_Accuracy  Train_Recall  Train_Precision  \\\n",
              "0  DecisionTrees        1.000000      1.000000         1.000000   \n",
              "1   RandomForest        1.000000      1.000000         1.000000   \n",
              "2            GBM        0.919286      0.919286         0.918602   \n",
              "\n",
              "   Train_F1_Score  Test_Accuracy  Test_Recall  Test_Precision  Test_F1_Score  \n",
              "0        1.000000       0.797584     0.797584        0.796967       0.797268  \n",
              "1        1.000000       0.861308     0.861308        0.859105       0.859650  \n",
              "2        0.918517       0.866306     0.866306        0.863876       0.864530  "
            ],
            "text/html": [
              "\n",
              "  <div id=\"df-70b7bb5b-c18b-4aef-af00-1933113f1f66\">\n",
              "    <div class=\"colab-df-container\">\n",
              "      <div>\n",
              "<style scoped>\n",
              "    .dataframe tbody tr th:only-of-type {\n",
              "        vertical-align: middle;\n",
              "    }\n",
              "\n",
              "    .dataframe tbody tr th {\n",
              "        vertical-align: top;\n",
              "    }\n",
              "\n",
              "    .dataframe thead th {\n",
              "        text-align: right;\n",
              "    }\n",
              "</style>\n",
              "<table border=\"1\" class=\"dataframe\">\n",
              "  <thead>\n",
              "    <tr style=\"text-align: right;\">\n",
              "      <th></th>\n",
              "      <th>Model</th>\n",
              "      <th>Train_Accuracy</th>\n",
              "      <th>Train_Recall</th>\n",
              "      <th>Train_Precision</th>\n",
              "      <th>Train_F1_Score</th>\n",
              "      <th>Test_Accuracy</th>\n",
              "      <th>Test_Recall</th>\n",
              "      <th>Test_Precision</th>\n",
              "      <th>Test_F1_Score</th>\n",
              "    </tr>\n",
              "  </thead>\n",
              "  <tbody>\n",
              "    <tr>\n",
              "      <th>0</th>\n",
              "      <td>DecisionTrees</td>\n",
              "      <td>1.000000</td>\n",
              "      <td>1.000000</td>\n",
              "      <td>1.000000</td>\n",
              "      <td>1.000000</td>\n",
              "      <td>0.797584</td>\n",
              "      <td>0.797584</td>\n",
              "      <td>0.796967</td>\n",
              "      <td>0.797268</td>\n",
              "    </tr>\n",
              "    <tr>\n",
              "      <th>1</th>\n",
              "      <td>RandomForest</td>\n",
              "      <td>1.000000</td>\n",
              "      <td>1.000000</td>\n",
              "      <td>1.000000</td>\n",
              "      <td>1.000000</td>\n",
              "      <td>0.861308</td>\n",
              "      <td>0.861308</td>\n",
              "      <td>0.859105</td>\n",
              "      <td>0.859650</td>\n",
              "    </tr>\n",
              "    <tr>\n",
              "      <th>2</th>\n",
              "      <td>GBM</td>\n",
              "      <td>0.919286</td>\n",
              "      <td>0.919286</td>\n",
              "      <td>0.918602</td>\n",
              "      <td>0.918517</td>\n",
              "      <td>0.866306</td>\n",
              "      <td>0.866306</td>\n",
              "      <td>0.863876</td>\n",
              "      <td>0.864530</td>\n",
              "    </tr>\n",
              "  </tbody>\n",
              "</table>\n",
              "</div>\n",
              "      <button class=\"colab-df-convert\" onclick=\"convertToInteractive('df-70b7bb5b-c18b-4aef-af00-1933113f1f66')\"\n",
              "              title=\"Convert this dataframe to an interactive table.\"\n",
              "              style=\"display:none;\">\n",
              "        \n",
              "  <svg xmlns=\"http://www.w3.org/2000/svg\" height=\"24px\"viewBox=\"0 0 24 24\"\n",
              "       width=\"24px\">\n",
              "    <path d=\"M0 0h24v24H0V0z\" fill=\"none\"/>\n",
              "    <path d=\"M18.56 5.44l.94 2.06.94-2.06 2.06-.94-2.06-.94-.94-2.06-.94 2.06-2.06.94zm-11 1L8.5 8.5l.94-2.06 2.06-.94-2.06-.94L8.5 2.5l-.94 2.06-2.06.94zm10 10l.94 2.06.94-2.06 2.06-.94-2.06-.94-.94-2.06-.94 2.06-2.06.94z\"/><path d=\"M17.41 7.96l-1.37-1.37c-.4-.4-.92-.59-1.43-.59-.52 0-1.04.2-1.43.59L10.3 9.45l-7.72 7.72c-.78.78-.78 2.05 0 2.83L4 21.41c.39.39.9.59 1.41.59.51 0 1.02-.2 1.41-.59l7.78-7.78 2.81-2.81c.8-.78.8-2.07 0-2.86zM5.41 20L4 18.59l7.72-7.72 1.47 1.35L5.41 20z\"/>\n",
              "  </svg>\n",
              "      </button>\n",
              "      \n",
              "  <style>\n",
              "    .colab-df-container {\n",
              "      display:flex;\n",
              "      flex-wrap:wrap;\n",
              "      gap: 12px;\n",
              "    }\n",
              "\n",
              "    .colab-df-convert {\n",
              "      background-color: #E8F0FE;\n",
              "      border: none;\n",
              "      border-radius: 50%;\n",
              "      cursor: pointer;\n",
              "      display: none;\n",
              "      fill: #1967D2;\n",
              "      height: 32px;\n",
              "      padding: 0 0 0 0;\n",
              "      width: 32px;\n",
              "    }\n",
              "\n",
              "    .colab-df-convert:hover {\n",
              "      background-color: #E2EBFA;\n",
              "      box-shadow: 0px 1px 2px rgba(60, 64, 67, 0.3), 0px 1px 3px 1px rgba(60, 64, 67, 0.15);\n",
              "      fill: #174EA6;\n",
              "    }\n",
              "\n",
              "    [theme=dark] .colab-df-convert {\n",
              "      background-color: #3B4455;\n",
              "      fill: #D2E3FC;\n",
              "    }\n",
              "\n",
              "    [theme=dark] .colab-df-convert:hover {\n",
              "      background-color: #434B5C;\n",
              "      box-shadow: 0px 1px 3px 1px rgba(0, 0, 0, 0.15);\n",
              "      filter: drop-shadow(0px 1px 2px rgba(0, 0, 0, 0.3));\n",
              "      fill: #FFFFFF;\n",
              "    }\n",
              "  </style>\n",
              "\n",
              "      <script>\n",
              "        const buttonEl =\n",
              "          document.querySelector('#df-70b7bb5b-c18b-4aef-af00-1933113f1f66 button.colab-df-convert');\n",
              "        buttonEl.style.display =\n",
              "          google.colab.kernel.accessAllowed ? 'block' : 'none';\n",
              "\n",
              "        async function convertToInteractive(key) {\n",
              "          const element = document.querySelector('#df-70b7bb5b-c18b-4aef-af00-1933113f1f66');\n",
              "          const dataTable =\n",
              "            await google.colab.kernel.invokeFunction('convertToInteractive',\n",
              "                                                     [key], {});\n",
              "          if (!dataTable) return;\n",
              "\n",
              "          const docLinkHtml = 'Like what you see? Visit the ' +\n",
              "            '<a target=\"_blank\" href=https://colab.research.google.com/notebooks/data_table.ipynb>data table notebook</a>'\n",
              "            + ' to learn more about interactive tables.';\n",
              "          element.innerHTML = '';\n",
              "          dataTable['output_type'] = 'display_data';\n",
              "          await google.colab.output.renderOutput(dataTable, element);\n",
              "          const docLink = document.createElement('div');\n",
              "          docLink.innerHTML = docLinkHtml;\n",
              "          element.appendChild(docLink);\n",
              "        }\n",
              "      </script>\n",
              "    </div>\n",
              "  </div>\n",
              "  "
            ]
          },
          "metadata": {},
          "execution_count": 84
        }
      ],
      "source": [
        "scores = get_metrics(y_train, y_pred_train, y_test, y_pred_test, \"GBM\", scores)\n",
        "scores"
      ]
    },
    {
      "cell_type": "markdown",
      "source": [
        "* By observing the performace metrics Gradient Boostig is better than decision tree and random forest"
      ],
      "metadata": {
        "id": "NebF_qFCkTpT"
      }
    },
    {
      "cell_type": "markdown",
      "metadata": {
        "id": "qxnlCT-AVbJI"
      },
      "source": [
        "## AdaBoost"
      ]
    },
    {
      "cell_type": "code",
      "execution_count": null,
      "metadata": {
        "id": "pZNHioKYVbJI"
      },
      "outputs": [],
      "source": [
        "clf_adaboost =  AdaBoostClassifier()"
      ]
    },
    {
      "cell_type": "code",
      "execution_count": null,
      "metadata": {
        "id": "RVIoNQCUVbJI",
        "outputId": "0316cfad-19b0-4e8e-f400-e9a576a0fc6e",
        "colab": {
          "base_uri": "https://localhost:8080/",
          "height": 74
        }
      },
      "outputs": [
        {
          "output_type": "execute_result",
          "data": {
            "text/plain": [
              "AdaBoostClassifier()"
            ],
            "text/html": [
              "<style>#sk-container-id-5 {color: black;background-color: white;}#sk-container-id-5 pre{padding: 0;}#sk-container-id-5 div.sk-toggleable {background-color: white;}#sk-container-id-5 label.sk-toggleable__label {cursor: pointer;display: block;width: 100%;margin-bottom: 0;padding: 0.3em;box-sizing: border-box;text-align: center;}#sk-container-id-5 label.sk-toggleable__label-arrow:before {content: \"▸\";float: left;margin-right: 0.25em;color: #696969;}#sk-container-id-5 label.sk-toggleable__label-arrow:hover:before {color: black;}#sk-container-id-5 div.sk-estimator:hover label.sk-toggleable__label-arrow:before {color: black;}#sk-container-id-5 div.sk-toggleable__content {max-height: 0;max-width: 0;overflow: hidden;text-align: left;background-color: #f0f8ff;}#sk-container-id-5 div.sk-toggleable__content pre {margin: 0.2em;color: black;border-radius: 0.25em;background-color: #f0f8ff;}#sk-container-id-5 input.sk-toggleable__control:checked~div.sk-toggleable__content {max-height: 200px;max-width: 100%;overflow: auto;}#sk-container-id-5 input.sk-toggleable__control:checked~label.sk-toggleable__label-arrow:before {content: \"▾\";}#sk-container-id-5 div.sk-estimator input.sk-toggleable__control:checked~label.sk-toggleable__label {background-color: #d4ebff;}#sk-container-id-5 div.sk-label input.sk-toggleable__control:checked~label.sk-toggleable__label {background-color: #d4ebff;}#sk-container-id-5 input.sk-hidden--visually {border: 0;clip: rect(1px 1px 1px 1px);clip: rect(1px, 1px, 1px, 1px);height: 1px;margin: -1px;overflow: hidden;padding: 0;position: absolute;width: 1px;}#sk-container-id-5 div.sk-estimator {font-family: monospace;background-color: #f0f8ff;border: 1px dotted black;border-radius: 0.25em;box-sizing: border-box;margin-bottom: 0.5em;}#sk-container-id-5 div.sk-estimator:hover {background-color: #d4ebff;}#sk-container-id-5 div.sk-parallel-item::after {content: \"\";width: 100%;border-bottom: 1px solid gray;flex-grow: 1;}#sk-container-id-5 div.sk-label:hover label.sk-toggleable__label {background-color: #d4ebff;}#sk-container-id-5 div.sk-serial::before {content: \"\";position: absolute;border-left: 1px solid gray;box-sizing: border-box;top: 0;bottom: 0;left: 50%;z-index: 0;}#sk-container-id-5 div.sk-serial {display: flex;flex-direction: column;align-items: center;background-color: white;padding-right: 0.2em;padding-left: 0.2em;position: relative;}#sk-container-id-5 div.sk-item {position: relative;z-index: 1;}#sk-container-id-5 div.sk-parallel {display: flex;align-items: stretch;justify-content: center;background-color: white;position: relative;}#sk-container-id-5 div.sk-item::before, #sk-container-id-5 div.sk-parallel-item::before {content: \"\";position: absolute;border-left: 1px solid gray;box-sizing: border-box;top: 0;bottom: 0;left: 50%;z-index: -1;}#sk-container-id-5 div.sk-parallel-item {display: flex;flex-direction: column;z-index: 1;position: relative;background-color: white;}#sk-container-id-5 div.sk-parallel-item:first-child::after {align-self: flex-end;width: 50%;}#sk-container-id-5 div.sk-parallel-item:last-child::after {align-self: flex-start;width: 50%;}#sk-container-id-5 div.sk-parallel-item:only-child::after {width: 0;}#sk-container-id-5 div.sk-dashed-wrapped {border: 1px dashed gray;margin: 0 0.4em 0.5em 0.4em;box-sizing: border-box;padding-bottom: 0.4em;background-color: white;}#sk-container-id-5 div.sk-label label {font-family: monospace;font-weight: bold;display: inline-block;line-height: 1.2em;}#sk-container-id-5 div.sk-label-container {text-align: center;}#sk-container-id-5 div.sk-container {/* jupyter's `normalize.less` sets `[hidden] { display: none; }` but bootstrap.min.css set `[hidden] { display: none !important; }` so we also need the `!important` here to be able to override the default hidden behavior on the sphinx rendered scikit-learn.org. See: https://github.com/scikit-learn/scikit-learn/issues/21755 */display: inline-block !important;position: relative;}#sk-container-id-5 div.sk-text-repr-fallback {display: none;}</style><div id=\"sk-container-id-5\" class=\"sk-top-container\"><div class=\"sk-text-repr-fallback\"><pre>AdaBoostClassifier()</pre><b>In a Jupyter environment, please rerun this cell to show the HTML representation or trust the notebook. <br />On GitHub, the HTML representation is unable to render, please try loading this page with nbviewer.org.</b></div><div class=\"sk-container\" hidden><div class=\"sk-item\"><div class=\"sk-estimator sk-toggleable\"><input class=\"sk-toggleable__control sk-hidden--visually\" id=\"sk-estimator-id-5\" type=\"checkbox\" checked><label for=\"sk-estimator-id-5\" class=\"sk-toggleable__label sk-toggleable__label-arrow\">AdaBoostClassifier</label><div class=\"sk-toggleable__content\"><pre>AdaBoostClassifier()</pre></div></div></div></div></div>"
            ]
          },
          "metadata": {},
          "execution_count": 86
        }
      ],
      "source": [
        "clf_adaboost.fit(X_train, y_train)"
      ]
    },
    {
      "cell_type": "code",
      "execution_count": null,
      "metadata": {
        "scrolled": false,
        "id": "axM3PysCVbJJ"
      },
      "outputs": [],
      "source": [
        "y_pred_train = clf_adaboost.predict(X_train)\n",
        "y_pred_test = clf_adaboost.predict(X_test)"
      ]
    },
    {
      "cell_type": "code",
      "execution_count": null,
      "metadata": {
        "scrolled": false,
        "id": "xAMPEekBVbJJ",
        "outputId": "c558b4e8-0908-4770-83c4-d97a5139490f",
        "colab": {
          "base_uri": "https://localhost:8080/"
        }
      },
      "outputs": [
        {
          "output_type": "stream",
          "name": "stdout",
          "text": [
            "\n",
            "            =========================================\n",
            "               CLASSIFICATION REPORT FOR TRAIN DATA\n",
            "            =========================================\n",
            "            \n",
            "              precision    recall  f1-score   support\n",
            "\n",
            "           0     0.7465    0.6779    0.7106      1273\n",
            "           1     0.8365    0.8665    0.8512      2450\n",
            "           2     0.9297    0.9441    0.9368      1877\n",
            "\n",
            "    accuracy                         0.8496      5600\n",
            "   macro avg     0.8376    0.8295    0.8329      5600\n",
            "weighted avg     0.8473    0.8496    0.8480      5600\n",
            "\n",
            "\n",
            "            =========================================\n",
            "               CLASSIFICATION REPORT FOR TEST DATA\n",
            "            =========================================\n",
            "            \n",
            "              precision    recall  f1-score   support\n",
            "\n",
            "           0     0.7166    0.6587    0.6864       545\n",
            "           1     0.8341    0.8516    0.8427      1051\n",
            "           2     0.9117    0.9366    0.9240       805\n",
            "\n",
            "    accuracy                         0.8363      2401\n",
            "   macro avg     0.8208    0.8156    0.8177      2401\n",
            "weighted avg     0.8335    0.8363    0.8345      2401\n",
            "\n"
          ]
        }
      ],
      "source": [
        "classifcation_report_train_test(y_train, y_pred_train, y_test, y_pred_test)"
      ]
    },
    {
      "cell_type": "code",
      "execution_count": null,
      "metadata": {
        "id": "tr-7pshpVbJJ",
        "outputId": "a0327682-b1f3-46dd-d009-042595f3be26",
        "colab": {
          "base_uri": "https://localhost:8080/",
          "height": 209
        }
      },
      "outputs": [
        {
          "output_type": "stream",
          "name": "stderr",
          "text": [
            "<ipython-input-63-3ef4ce65b0ea>:16: FutureWarning: The frame.append method is deprecated and will be removed from pandas in a future version. Use pandas.concat instead.\n",
            "  dataframe       = dataframe.append(pd.Series([model_description,\n"
          ]
        },
        {
          "output_type": "execute_result",
          "data": {
            "text/plain": [
              "           Model  Train_Accuracy  Train_Recall  Train_Precision  \\\n",
              "0  DecisionTrees        1.000000      1.000000         1.000000   \n",
              "1   RandomForest        1.000000      1.000000         1.000000   \n",
              "2            GBM        0.919286      0.919286         0.918602   \n",
              "3       Adaboost        0.849643      0.849643         0.847281   \n",
              "\n",
              "   Train_F1_Score  Test_Accuracy  Test_Recall  Test_Precision  Test_F1_Score  \n",
              "0        1.000000       0.797584     0.797584        0.796967       0.797268  \n",
              "1        1.000000       0.861308     0.861308        0.859105       0.859650  \n",
              "2        0.918517       0.866306     0.866306        0.863876       0.864530  \n",
              "3        0.847952       0.836318     0.836318        0.833453       0.834513  "
            ],
            "text/html": [
              "\n",
              "  <div id=\"df-ac2e53a7-ee93-46a1-a9e2-85ac52472580\">\n",
              "    <div class=\"colab-df-container\">\n",
              "      <div>\n",
              "<style scoped>\n",
              "    .dataframe tbody tr th:only-of-type {\n",
              "        vertical-align: middle;\n",
              "    }\n",
              "\n",
              "    .dataframe tbody tr th {\n",
              "        vertical-align: top;\n",
              "    }\n",
              "\n",
              "    .dataframe thead th {\n",
              "        text-align: right;\n",
              "    }\n",
              "</style>\n",
              "<table border=\"1\" class=\"dataframe\">\n",
              "  <thead>\n",
              "    <tr style=\"text-align: right;\">\n",
              "      <th></th>\n",
              "      <th>Model</th>\n",
              "      <th>Train_Accuracy</th>\n",
              "      <th>Train_Recall</th>\n",
              "      <th>Train_Precision</th>\n",
              "      <th>Train_F1_Score</th>\n",
              "      <th>Test_Accuracy</th>\n",
              "      <th>Test_Recall</th>\n",
              "      <th>Test_Precision</th>\n",
              "      <th>Test_F1_Score</th>\n",
              "    </tr>\n",
              "  </thead>\n",
              "  <tbody>\n",
              "    <tr>\n",
              "      <th>0</th>\n",
              "      <td>DecisionTrees</td>\n",
              "      <td>1.000000</td>\n",
              "      <td>1.000000</td>\n",
              "      <td>1.000000</td>\n",
              "      <td>1.000000</td>\n",
              "      <td>0.797584</td>\n",
              "      <td>0.797584</td>\n",
              "      <td>0.796967</td>\n",
              "      <td>0.797268</td>\n",
              "    </tr>\n",
              "    <tr>\n",
              "      <th>1</th>\n",
              "      <td>RandomForest</td>\n",
              "      <td>1.000000</td>\n",
              "      <td>1.000000</td>\n",
              "      <td>1.000000</td>\n",
              "      <td>1.000000</td>\n",
              "      <td>0.861308</td>\n",
              "      <td>0.861308</td>\n",
              "      <td>0.859105</td>\n",
              "      <td>0.859650</td>\n",
              "    </tr>\n",
              "    <tr>\n",
              "      <th>2</th>\n",
              "      <td>GBM</td>\n",
              "      <td>0.919286</td>\n",
              "      <td>0.919286</td>\n",
              "      <td>0.918602</td>\n",
              "      <td>0.918517</td>\n",
              "      <td>0.866306</td>\n",
              "      <td>0.866306</td>\n",
              "      <td>0.863876</td>\n",
              "      <td>0.864530</td>\n",
              "    </tr>\n",
              "    <tr>\n",
              "      <th>3</th>\n",
              "      <td>Adaboost</td>\n",
              "      <td>0.849643</td>\n",
              "      <td>0.849643</td>\n",
              "      <td>0.847281</td>\n",
              "      <td>0.847952</td>\n",
              "      <td>0.836318</td>\n",
              "      <td>0.836318</td>\n",
              "      <td>0.833453</td>\n",
              "      <td>0.834513</td>\n",
              "    </tr>\n",
              "  </tbody>\n",
              "</table>\n",
              "</div>\n",
              "      <button class=\"colab-df-convert\" onclick=\"convertToInteractive('df-ac2e53a7-ee93-46a1-a9e2-85ac52472580')\"\n",
              "              title=\"Convert this dataframe to an interactive table.\"\n",
              "              style=\"display:none;\">\n",
              "        \n",
              "  <svg xmlns=\"http://www.w3.org/2000/svg\" height=\"24px\"viewBox=\"0 0 24 24\"\n",
              "       width=\"24px\">\n",
              "    <path d=\"M0 0h24v24H0V0z\" fill=\"none\"/>\n",
              "    <path d=\"M18.56 5.44l.94 2.06.94-2.06 2.06-.94-2.06-.94-.94-2.06-.94 2.06-2.06.94zm-11 1L8.5 8.5l.94-2.06 2.06-.94-2.06-.94L8.5 2.5l-.94 2.06-2.06.94zm10 10l.94 2.06.94-2.06 2.06-.94-2.06-.94-.94-2.06-.94 2.06-2.06.94z\"/><path d=\"M17.41 7.96l-1.37-1.37c-.4-.4-.92-.59-1.43-.59-.52 0-1.04.2-1.43.59L10.3 9.45l-7.72 7.72c-.78.78-.78 2.05 0 2.83L4 21.41c.39.39.9.59 1.41.59.51 0 1.02-.2 1.41-.59l7.78-7.78 2.81-2.81c.8-.78.8-2.07 0-2.86zM5.41 20L4 18.59l7.72-7.72 1.47 1.35L5.41 20z\"/>\n",
              "  </svg>\n",
              "      </button>\n",
              "      \n",
              "  <style>\n",
              "    .colab-df-container {\n",
              "      display:flex;\n",
              "      flex-wrap:wrap;\n",
              "      gap: 12px;\n",
              "    }\n",
              "\n",
              "    .colab-df-convert {\n",
              "      background-color: #E8F0FE;\n",
              "      border: none;\n",
              "      border-radius: 50%;\n",
              "      cursor: pointer;\n",
              "      display: none;\n",
              "      fill: #1967D2;\n",
              "      height: 32px;\n",
              "      padding: 0 0 0 0;\n",
              "      width: 32px;\n",
              "    }\n",
              "\n",
              "    .colab-df-convert:hover {\n",
              "      background-color: #E2EBFA;\n",
              "      box-shadow: 0px 1px 2px rgba(60, 64, 67, 0.3), 0px 1px 3px 1px rgba(60, 64, 67, 0.15);\n",
              "      fill: #174EA6;\n",
              "    }\n",
              "\n",
              "    [theme=dark] .colab-df-convert {\n",
              "      background-color: #3B4455;\n",
              "      fill: #D2E3FC;\n",
              "    }\n",
              "\n",
              "    [theme=dark] .colab-df-convert:hover {\n",
              "      background-color: #434B5C;\n",
              "      box-shadow: 0px 1px 3px 1px rgba(0, 0, 0, 0.15);\n",
              "      filter: drop-shadow(0px 1px 2px rgba(0, 0, 0, 0.3));\n",
              "      fill: #FFFFFF;\n",
              "    }\n",
              "  </style>\n",
              "\n",
              "      <script>\n",
              "        const buttonEl =\n",
              "          document.querySelector('#df-ac2e53a7-ee93-46a1-a9e2-85ac52472580 button.colab-df-convert');\n",
              "        buttonEl.style.display =\n",
              "          google.colab.kernel.accessAllowed ? 'block' : 'none';\n",
              "\n",
              "        async function convertToInteractive(key) {\n",
              "          const element = document.querySelector('#df-ac2e53a7-ee93-46a1-a9e2-85ac52472580');\n",
              "          const dataTable =\n",
              "            await google.colab.kernel.invokeFunction('convertToInteractive',\n",
              "                                                     [key], {});\n",
              "          if (!dataTable) return;\n",
              "\n",
              "          const docLinkHtml = 'Like what you see? Visit the ' +\n",
              "            '<a target=\"_blank\" href=https://colab.research.google.com/notebooks/data_table.ipynb>data table notebook</a>'\n",
              "            + ' to learn more about interactive tables.';\n",
              "          element.innerHTML = '';\n",
              "          dataTable['output_type'] = 'display_data';\n",
              "          await google.colab.output.renderOutput(dataTable, element);\n",
              "          const docLink = document.createElement('div');\n",
              "          docLink.innerHTML = docLinkHtml;\n",
              "          element.appendChild(docLink);\n",
              "        }\n",
              "      </script>\n",
              "    </div>\n",
              "  </div>\n",
              "  "
            ]
          },
          "metadata": {},
          "execution_count": 89
        }
      ],
      "source": [
        "scores = get_metrics(y_train, y_pred_train, y_test, y_pred_test, \"Adaboost\", scores)\n",
        "scores"
      ]
    },
    {
      "cell_type": "markdown",
      "source": [
        "* By observing the performance metrics we can say that the AdaBoost model fitted good."
      ],
      "metadata": {
        "id": "77FEiKYukajv"
      }
    },
    {
      "cell_type": "markdown",
      "metadata": {
        "id": "r3mfVCTUVbJK"
      },
      "source": [
        "## XGBOOST"
      ]
    },
    {
      "cell_type": "code",
      "execution_count": null,
      "metadata": {
        "id": "J0uJX8FdVbJK"
      },
      "outputs": [],
      "source": [
        "clf_xgb = XGBClassifier()"
      ]
    },
    {
      "cell_type": "code",
      "execution_count": null,
      "metadata": {
        "id": "f1bEBFZ7VbJK",
        "outputId": "2d1f3326-8957-40d9-9919-91a7684ddb68",
        "colab": {
          "base_uri": "https://localhost:8080/",
          "height": 248
        }
      },
      "outputs": [
        {
          "output_type": "execute_result",
          "data": {
            "text/plain": [
              "XGBClassifier(base_score=None, booster=None, callbacks=None,\n",
              "              colsample_bylevel=None, colsample_bynode=None,\n",
              "              colsample_bytree=None, early_stopping_rounds=None,\n",
              "              enable_categorical=False, eval_metric=None, feature_types=None,\n",
              "              gamma=None, gpu_id=None, grow_policy=None, importance_type=None,\n",
              "              interaction_constraints=None, learning_rate=None, max_bin=None,\n",
              "              max_cat_threshold=None, max_cat_to_onehot=None,\n",
              "              max_delta_step=None, max_depth=None, max_leaves=None,\n",
              "              min_child_weight=None, missing=nan, monotone_constraints=None,\n",
              "              n_estimators=100, n_jobs=None, num_parallel_tree=None,\n",
              "              objective='multi:softprob', predictor=None, ...)"
            ],
            "text/html": [
              "<style>#sk-container-id-6 {color: black;background-color: white;}#sk-container-id-6 pre{padding: 0;}#sk-container-id-6 div.sk-toggleable {background-color: white;}#sk-container-id-6 label.sk-toggleable__label {cursor: pointer;display: block;width: 100%;margin-bottom: 0;padding: 0.3em;box-sizing: border-box;text-align: center;}#sk-container-id-6 label.sk-toggleable__label-arrow:before {content: \"▸\";float: left;margin-right: 0.25em;color: #696969;}#sk-container-id-6 label.sk-toggleable__label-arrow:hover:before {color: black;}#sk-container-id-6 div.sk-estimator:hover label.sk-toggleable__label-arrow:before {color: black;}#sk-container-id-6 div.sk-toggleable__content {max-height: 0;max-width: 0;overflow: hidden;text-align: left;background-color: #f0f8ff;}#sk-container-id-6 div.sk-toggleable__content pre {margin: 0.2em;color: black;border-radius: 0.25em;background-color: #f0f8ff;}#sk-container-id-6 input.sk-toggleable__control:checked~div.sk-toggleable__content {max-height: 200px;max-width: 100%;overflow: auto;}#sk-container-id-6 input.sk-toggleable__control:checked~label.sk-toggleable__label-arrow:before {content: \"▾\";}#sk-container-id-6 div.sk-estimator input.sk-toggleable__control:checked~label.sk-toggleable__label {background-color: #d4ebff;}#sk-container-id-6 div.sk-label input.sk-toggleable__control:checked~label.sk-toggleable__label {background-color: #d4ebff;}#sk-container-id-6 input.sk-hidden--visually {border: 0;clip: rect(1px 1px 1px 1px);clip: rect(1px, 1px, 1px, 1px);height: 1px;margin: -1px;overflow: hidden;padding: 0;position: absolute;width: 1px;}#sk-container-id-6 div.sk-estimator {font-family: monospace;background-color: #f0f8ff;border: 1px dotted black;border-radius: 0.25em;box-sizing: border-box;margin-bottom: 0.5em;}#sk-container-id-6 div.sk-estimator:hover {background-color: #d4ebff;}#sk-container-id-6 div.sk-parallel-item::after {content: \"\";width: 100%;border-bottom: 1px solid gray;flex-grow: 1;}#sk-container-id-6 div.sk-label:hover label.sk-toggleable__label {background-color: #d4ebff;}#sk-container-id-6 div.sk-serial::before {content: \"\";position: absolute;border-left: 1px solid gray;box-sizing: border-box;top: 0;bottom: 0;left: 50%;z-index: 0;}#sk-container-id-6 div.sk-serial {display: flex;flex-direction: column;align-items: center;background-color: white;padding-right: 0.2em;padding-left: 0.2em;position: relative;}#sk-container-id-6 div.sk-item {position: relative;z-index: 1;}#sk-container-id-6 div.sk-parallel {display: flex;align-items: stretch;justify-content: center;background-color: white;position: relative;}#sk-container-id-6 div.sk-item::before, #sk-container-id-6 div.sk-parallel-item::before {content: \"\";position: absolute;border-left: 1px solid gray;box-sizing: border-box;top: 0;bottom: 0;left: 50%;z-index: -1;}#sk-container-id-6 div.sk-parallel-item {display: flex;flex-direction: column;z-index: 1;position: relative;background-color: white;}#sk-container-id-6 div.sk-parallel-item:first-child::after {align-self: flex-end;width: 50%;}#sk-container-id-6 div.sk-parallel-item:last-child::after {align-self: flex-start;width: 50%;}#sk-container-id-6 div.sk-parallel-item:only-child::after {width: 0;}#sk-container-id-6 div.sk-dashed-wrapped {border: 1px dashed gray;margin: 0 0.4em 0.5em 0.4em;box-sizing: border-box;padding-bottom: 0.4em;background-color: white;}#sk-container-id-6 div.sk-label label {font-family: monospace;font-weight: bold;display: inline-block;line-height: 1.2em;}#sk-container-id-6 div.sk-label-container {text-align: center;}#sk-container-id-6 div.sk-container {/* jupyter's `normalize.less` sets `[hidden] { display: none; }` but bootstrap.min.css set `[hidden] { display: none !important; }` so we also need the `!important` here to be able to override the default hidden behavior on the sphinx rendered scikit-learn.org. See: https://github.com/scikit-learn/scikit-learn/issues/21755 */display: inline-block !important;position: relative;}#sk-container-id-6 div.sk-text-repr-fallback {display: none;}</style><div id=\"sk-container-id-6\" class=\"sk-top-container\"><div class=\"sk-text-repr-fallback\"><pre>XGBClassifier(base_score=None, booster=None, callbacks=None,\n",
              "              colsample_bylevel=None, colsample_bynode=None,\n",
              "              colsample_bytree=None, early_stopping_rounds=None,\n",
              "              enable_categorical=False, eval_metric=None, feature_types=None,\n",
              "              gamma=None, gpu_id=None, grow_policy=None, importance_type=None,\n",
              "              interaction_constraints=None, learning_rate=None, max_bin=None,\n",
              "              max_cat_threshold=None, max_cat_to_onehot=None,\n",
              "              max_delta_step=None, max_depth=None, max_leaves=None,\n",
              "              min_child_weight=None, missing=nan, monotone_constraints=None,\n",
              "              n_estimators=100, n_jobs=None, num_parallel_tree=None,\n",
              "              objective=&#x27;multi:softprob&#x27;, predictor=None, ...)</pre><b>In a Jupyter environment, please rerun this cell to show the HTML representation or trust the notebook. <br />On GitHub, the HTML representation is unable to render, please try loading this page with nbviewer.org.</b></div><div class=\"sk-container\" hidden><div class=\"sk-item\"><div class=\"sk-estimator sk-toggleable\"><input class=\"sk-toggleable__control sk-hidden--visually\" id=\"sk-estimator-id-6\" type=\"checkbox\" checked><label for=\"sk-estimator-id-6\" class=\"sk-toggleable__label sk-toggleable__label-arrow\">XGBClassifier</label><div class=\"sk-toggleable__content\"><pre>XGBClassifier(base_score=None, booster=None, callbacks=None,\n",
              "              colsample_bylevel=None, colsample_bynode=None,\n",
              "              colsample_bytree=None, early_stopping_rounds=None,\n",
              "              enable_categorical=False, eval_metric=None, feature_types=None,\n",
              "              gamma=None, gpu_id=None, grow_policy=None, importance_type=None,\n",
              "              interaction_constraints=None, learning_rate=None, max_bin=None,\n",
              "              max_cat_threshold=None, max_cat_to_onehot=None,\n",
              "              max_delta_step=None, max_depth=None, max_leaves=None,\n",
              "              min_child_weight=None, missing=nan, monotone_constraints=None,\n",
              "              n_estimators=100, n_jobs=None, num_parallel_tree=None,\n",
              "              objective=&#x27;multi:softprob&#x27;, predictor=None, ...)</pre></div></div></div></div></div>"
            ]
          },
          "metadata": {},
          "execution_count": 91
        }
      ],
      "source": [
        "clf_xgb.fit(X_train, y_train)"
      ]
    },
    {
      "cell_type": "code",
      "execution_count": null,
      "metadata": {
        "id": "lswWAhqvVbJK"
      },
      "outputs": [],
      "source": [
        "y_pred_train = clf_xgb.predict(X_train)\n",
        "y_pred_test = clf_xgb.predict(X_test)"
      ]
    },
    {
      "cell_type": "code",
      "execution_count": null,
      "metadata": {
        "id": "SB9MbC90VbJK",
        "outputId": "062bfa9b-927d-4bce-b464-9ea97e25f278",
        "colab": {
          "base_uri": "https://localhost:8080/"
        }
      },
      "outputs": [
        {
          "output_type": "stream",
          "name": "stdout",
          "text": [
            "\n",
            "            =========================================\n",
            "               CLASSIFICATION REPORT FOR TRAIN DATA\n",
            "            =========================================\n",
            "            \n",
            "              precision    recall  f1-score   support\n",
            "\n",
            "           0     1.0000    1.0000    1.0000      1273\n",
            "           1     1.0000    1.0000    1.0000      2450\n",
            "           2     1.0000    1.0000    1.0000      1877\n",
            "\n",
            "    accuracy                         1.0000      5600\n",
            "   macro avg     1.0000    1.0000    1.0000      5600\n",
            "weighted avg     1.0000    1.0000    1.0000      5600\n",
            "\n",
            "\n",
            "            =========================================\n",
            "               CLASSIFICATION REPORT FOR TEST DATA\n",
            "            =========================================\n",
            "            \n",
            "              precision    recall  f1-score   support\n",
            "\n",
            "           0     0.7857    0.7468    0.7658       545\n",
            "           1     0.8757    0.8716    0.8736      1051\n",
            "           2     0.9164    0.9528    0.9342       805\n",
            "\n",
            "    accuracy                         0.8705      2401\n",
            "   macro avg     0.8593    0.8570    0.8579      2401\n",
            "weighted avg     0.8689    0.8705    0.8695      2401\n",
            "\n"
          ]
        }
      ],
      "source": [
        "classifcation_report_train_test(y_train, y_pred_train, y_test, y_pred_test)"
      ]
    },
    {
      "cell_type": "markdown",
      "source": [
        "# Performing grid search for better hyper parameters"
      ],
      "metadata": {
        "id": "G8qKZQNklO71"
      }
    },
    {
      "cell_type": "code",
      "execution_count": null,
      "metadata": {
        "id": "vd05nh1fVbJK"
      },
      "outputs": [],
      "source": [
        "XGB = XGBClassifier(n_jobs=-1)\n",
        "\n",
        "# Use a grid over parameters of interest\n",
        "param_grid = {\n",
        "    'colsample_bytree': np.linspace(0.6, 0.8, 2),\n",
        "    'n_estimators': [50, 100],\n",
        "    'max_depth': [5, 6]}\n",
        "\n",
        "CV_XGB = GridSearchCV(estimator=XGB, param_grid=param_grid, cv=3)"
      ]
    },
    {
      "cell_type": "code",
      "execution_count": null,
      "metadata": {
        "id": "MHySTR4vVbJK",
        "outputId": "bfee0c5f-9557-4c83-f230-e658bf7112e1",
        "colab": {
          "base_uri": "https://localhost:8080/",
          "height": 117
        }
      },
      "outputs": [
        {
          "output_type": "execute_result",
          "data": {
            "text/plain": [
              "GridSearchCV(cv=3,\n",
              "             estimator=XGBClassifier(base_score=None, booster=None,\n",
              "                                     callbacks=None, colsample_bylevel=None,\n",
              "                                     colsample_bynode=None,\n",
              "                                     colsample_bytree=None,\n",
              "                                     early_stopping_rounds=None,\n",
              "                                     enable_categorical=False, eval_metric=None,\n",
              "                                     feature_types=None, gamma=None,\n",
              "                                     gpu_id=None, grow_policy=None,\n",
              "                                     importance_type=None,\n",
              "                                     interaction_constraints=None,\n",
              "                                     learning_rate=None, max_bin=None,\n",
              "                                     max_cat_threshold=None,\n",
              "                                     max_cat_to_onehot=None,\n",
              "                                     max_delta_step=None, max_depth=None,\n",
              "                                     max_leaves=None, min_child_weight=None,\n",
              "                                     missing=nan, monotone_constraints=None,\n",
              "                                     n_estimators=100, n_jobs=-1,\n",
              "                                     num_parallel_tree=None, predictor=None,\n",
              "                                     random_state=None, ...),\n",
              "             param_grid={'colsample_bytree': array([0.6, 0.8]),\n",
              "                         'max_depth': [5, 6], 'n_estimators': [50, 100]})"
            ],
            "text/html": [
              "<style>#sk-container-id-7 {color: black;background-color: white;}#sk-container-id-7 pre{padding: 0;}#sk-container-id-7 div.sk-toggleable {background-color: white;}#sk-container-id-7 label.sk-toggleable__label {cursor: pointer;display: block;width: 100%;margin-bottom: 0;padding: 0.3em;box-sizing: border-box;text-align: center;}#sk-container-id-7 label.sk-toggleable__label-arrow:before {content: \"▸\";float: left;margin-right: 0.25em;color: #696969;}#sk-container-id-7 label.sk-toggleable__label-arrow:hover:before {color: black;}#sk-container-id-7 div.sk-estimator:hover label.sk-toggleable__label-arrow:before {color: black;}#sk-container-id-7 div.sk-toggleable__content {max-height: 0;max-width: 0;overflow: hidden;text-align: left;background-color: #f0f8ff;}#sk-container-id-7 div.sk-toggleable__content pre {margin: 0.2em;color: black;border-radius: 0.25em;background-color: #f0f8ff;}#sk-container-id-7 input.sk-toggleable__control:checked~div.sk-toggleable__content {max-height: 200px;max-width: 100%;overflow: auto;}#sk-container-id-7 input.sk-toggleable__control:checked~label.sk-toggleable__label-arrow:before {content: \"▾\";}#sk-container-id-7 div.sk-estimator input.sk-toggleable__control:checked~label.sk-toggleable__label {background-color: #d4ebff;}#sk-container-id-7 div.sk-label input.sk-toggleable__control:checked~label.sk-toggleable__label {background-color: #d4ebff;}#sk-container-id-7 input.sk-hidden--visually {border: 0;clip: rect(1px 1px 1px 1px);clip: rect(1px, 1px, 1px, 1px);height: 1px;margin: -1px;overflow: hidden;padding: 0;position: absolute;width: 1px;}#sk-container-id-7 div.sk-estimator {font-family: monospace;background-color: #f0f8ff;border: 1px dotted black;border-radius: 0.25em;box-sizing: border-box;margin-bottom: 0.5em;}#sk-container-id-7 div.sk-estimator:hover {background-color: #d4ebff;}#sk-container-id-7 div.sk-parallel-item::after {content: \"\";width: 100%;border-bottom: 1px solid gray;flex-grow: 1;}#sk-container-id-7 div.sk-label:hover label.sk-toggleable__label {background-color: #d4ebff;}#sk-container-id-7 div.sk-serial::before {content: \"\";position: absolute;border-left: 1px solid gray;box-sizing: border-box;top: 0;bottom: 0;left: 50%;z-index: 0;}#sk-container-id-7 div.sk-serial {display: flex;flex-direction: column;align-items: center;background-color: white;padding-right: 0.2em;padding-left: 0.2em;position: relative;}#sk-container-id-7 div.sk-item {position: relative;z-index: 1;}#sk-container-id-7 div.sk-parallel {display: flex;align-items: stretch;justify-content: center;background-color: white;position: relative;}#sk-container-id-7 div.sk-item::before, #sk-container-id-7 div.sk-parallel-item::before {content: \"\";position: absolute;border-left: 1px solid gray;box-sizing: border-box;top: 0;bottom: 0;left: 50%;z-index: -1;}#sk-container-id-7 div.sk-parallel-item {display: flex;flex-direction: column;z-index: 1;position: relative;background-color: white;}#sk-container-id-7 div.sk-parallel-item:first-child::after {align-self: flex-end;width: 50%;}#sk-container-id-7 div.sk-parallel-item:last-child::after {align-self: flex-start;width: 50%;}#sk-container-id-7 div.sk-parallel-item:only-child::after {width: 0;}#sk-container-id-7 div.sk-dashed-wrapped {border: 1px dashed gray;margin: 0 0.4em 0.5em 0.4em;box-sizing: border-box;padding-bottom: 0.4em;background-color: white;}#sk-container-id-7 div.sk-label label {font-family: monospace;font-weight: bold;display: inline-block;line-height: 1.2em;}#sk-container-id-7 div.sk-label-container {text-align: center;}#sk-container-id-7 div.sk-container {/* jupyter's `normalize.less` sets `[hidden] { display: none; }` but bootstrap.min.css set `[hidden] { display: none !important; }` so we also need the `!important` here to be able to override the default hidden behavior on the sphinx rendered scikit-learn.org. See: https://github.com/scikit-learn/scikit-learn/issues/21755 */display: inline-block !important;position: relative;}#sk-container-id-7 div.sk-text-repr-fallback {display: none;}</style><div id=\"sk-container-id-7\" class=\"sk-top-container\"><div class=\"sk-text-repr-fallback\"><pre>GridSearchCV(cv=3,\n",
              "             estimator=XGBClassifier(base_score=None, booster=None,\n",
              "                                     callbacks=None, colsample_bylevel=None,\n",
              "                                     colsample_bynode=None,\n",
              "                                     colsample_bytree=None,\n",
              "                                     early_stopping_rounds=None,\n",
              "                                     enable_categorical=False, eval_metric=None,\n",
              "                                     feature_types=None, gamma=None,\n",
              "                                     gpu_id=None, grow_policy=None,\n",
              "                                     importance_type=None,\n",
              "                                     interaction_constraints=None,\n",
              "                                     learning_rate=None, max_bin=None,\n",
              "                                     max_cat_threshold=None,\n",
              "                                     max_cat_to_onehot=None,\n",
              "                                     max_delta_step=None, max_depth=None,\n",
              "                                     max_leaves=None, min_child_weight=None,\n",
              "                                     missing=nan, monotone_constraints=None,\n",
              "                                     n_estimators=100, n_jobs=-1,\n",
              "                                     num_parallel_tree=None, predictor=None,\n",
              "                                     random_state=None, ...),\n",
              "             param_grid={&#x27;colsample_bytree&#x27;: array([0.6, 0.8]),\n",
              "                         &#x27;max_depth&#x27;: [5, 6], &#x27;n_estimators&#x27;: [50, 100]})</pre><b>In a Jupyter environment, please rerun this cell to show the HTML representation or trust the notebook. <br />On GitHub, the HTML representation is unable to render, please try loading this page with nbviewer.org.</b></div><div class=\"sk-container\" hidden><div class=\"sk-item sk-dashed-wrapped\"><div class=\"sk-label-container\"><div class=\"sk-label sk-toggleable\"><input class=\"sk-toggleable__control sk-hidden--visually\" id=\"sk-estimator-id-7\" type=\"checkbox\" ><label for=\"sk-estimator-id-7\" class=\"sk-toggleable__label sk-toggleable__label-arrow\">GridSearchCV</label><div class=\"sk-toggleable__content\"><pre>GridSearchCV(cv=3,\n",
              "             estimator=XGBClassifier(base_score=None, booster=None,\n",
              "                                     callbacks=None, colsample_bylevel=None,\n",
              "                                     colsample_bynode=None,\n",
              "                                     colsample_bytree=None,\n",
              "                                     early_stopping_rounds=None,\n",
              "                                     enable_categorical=False, eval_metric=None,\n",
              "                                     feature_types=None, gamma=None,\n",
              "                                     gpu_id=None, grow_policy=None,\n",
              "                                     importance_type=None,\n",
              "                                     interaction_constraints=None,\n",
              "                                     learning_rate=None, max_bin=None,\n",
              "                                     max_cat_threshold=None,\n",
              "                                     max_cat_to_onehot=None,\n",
              "                                     max_delta_step=None, max_depth=None,\n",
              "                                     max_leaves=None, min_child_weight=None,\n",
              "                                     missing=nan, monotone_constraints=None,\n",
              "                                     n_estimators=100, n_jobs=-1,\n",
              "                                     num_parallel_tree=None, predictor=None,\n",
              "                                     random_state=None, ...),\n",
              "             param_grid={&#x27;colsample_bytree&#x27;: array([0.6, 0.8]),\n",
              "                         &#x27;max_depth&#x27;: [5, 6], &#x27;n_estimators&#x27;: [50, 100]})</pre></div></div></div><div class=\"sk-parallel\"><div class=\"sk-parallel-item\"><div class=\"sk-item\"><div class=\"sk-label-container\"><div class=\"sk-label sk-toggleable\"><input class=\"sk-toggleable__control sk-hidden--visually\" id=\"sk-estimator-id-8\" type=\"checkbox\" ><label for=\"sk-estimator-id-8\" class=\"sk-toggleable__label sk-toggleable__label-arrow\">estimator: XGBClassifier</label><div class=\"sk-toggleable__content\"><pre>XGBClassifier(base_score=None, booster=None, callbacks=None,\n",
              "              colsample_bylevel=None, colsample_bynode=None,\n",
              "              colsample_bytree=None, early_stopping_rounds=None,\n",
              "              enable_categorical=False, eval_metric=None, feature_types=None,\n",
              "              gamma=None, gpu_id=None, grow_policy=None, importance_type=None,\n",
              "              interaction_constraints=None, learning_rate=None, max_bin=None,\n",
              "              max_cat_threshold=None, max_cat_to_onehot=None,\n",
              "              max_delta_step=None, max_depth=None, max_leaves=None,\n",
              "              min_child_weight=None, missing=nan, monotone_constraints=None,\n",
              "              n_estimators=100, n_jobs=-1, num_parallel_tree=None,\n",
              "              predictor=None, random_state=None, ...)</pre></div></div></div><div class=\"sk-serial\"><div class=\"sk-item\"><div class=\"sk-estimator sk-toggleable\"><input class=\"sk-toggleable__control sk-hidden--visually\" id=\"sk-estimator-id-9\" type=\"checkbox\" ><label for=\"sk-estimator-id-9\" class=\"sk-toggleable__label sk-toggleable__label-arrow\">XGBClassifier</label><div class=\"sk-toggleable__content\"><pre>XGBClassifier(base_score=None, booster=None, callbacks=None,\n",
              "              colsample_bylevel=None, colsample_bynode=None,\n",
              "              colsample_bytree=None, early_stopping_rounds=None,\n",
              "              enable_categorical=False, eval_metric=None, feature_types=None,\n",
              "              gamma=None, gpu_id=None, grow_policy=None, importance_type=None,\n",
              "              interaction_constraints=None, learning_rate=None, max_bin=None,\n",
              "              max_cat_threshold=None, max_cat_to_onehot=None,\n",
              "              max_delta_step=None, max_depth=None, max_leaves=None,\n",
              "              min_child_weight=None, missing=nan, monotone_constraints=None,\n",
              "              n_estimators=100, n_jobs=-1, num_parallel_tree=None,\n",
              "              predictor=None, random_state=None, ...)</pre></div></div></div></div></div></div></div></div></div></div>"
            ]
          },
          "metadata": {},
          "execution_count": 95
        }
      ],
      "source": [
        "CV_XGB.fit(X=X_train, y=y_train)"
      ]
    },
    {
      "cell_type": "markdown",
      "metadata": {
        "id": "ADHPc_DwVbJL"
      },
      "source": [
        "Find best model"
      ]
    },
    {
      "cell_type": "code",
      "execution_count": null,
      "metadata": {
        "id": "OylsJ6dbVbJL"
      },
      "outputs": [],
      "source": [
        "best_xgb_model = CV_XGB.best_estimator_"
      ]
    },
    {
      "cell_type": "code",
      "execution_count": null,
      "metadata": {
        "id": "ZO-0GlZhVbJL",
        "outputId": "61493b9d-4775-4d83-8c1e-385a2268ee70",
        "colab": {
          "base_uri": "https://localhost:8080/"
        }
      },
      "outputs": [
        {
          "output_type": "stream",
          "name": "stdout",
          "text": [
            "0.8728583148048322 {'colsample_bytree': 0.6, 'max_depth': 6, 'n_estimators': 100}\n"
          ]
        }
      ],
      "source": [
        "print(CV_XGB.best_score_, CV_XGB.best_params_)"
      ]
    },
    {
      "cell_type": "code",
      "execution_count": null,
      "metadata": {
        "id": "2WRy0sYPVbJL",
        "outputId": "a010bddf-668e-4d71-cdb0-e9c255b39c04",
        "colab": {
          "base_uri": "https://localhost:8080/",
          "height": 248
        }
      },
      "outputs": [
        {
          "output_type": "execute_result",
          "data": {
            "text/plain": [
              "XGBClassifier(base_score=None, booster=None, callbacks=None,\n",
              "              colsample_bylevel=None, colsample_bynode=None,\n",
              "              colsample_bytree=0.6, early_stopping_rounds=None,\n",
              "              enable_categorical=False, eval_metric=None, feature_types=None,\n",
              "              gamma=None, gpu_id=None, grow_policy=None, importance_type=None,\n",
              "              interaction_constraints=None, learning_rate=None, max_bin=None,\n",
              "              max_cat_threshold=None, max_cat_to_onehot=None,\n",
              "              max_delta_step=None, max_depth=6, max_leaves=None,\n",
              "              min_child_weight=None, missing=nan, monotone_constraints=None,\n",
              "              n_estimators=100, n_jobs=-1, num_parallel_tree=None,\n",
              "              objective='multi:softprob', predictor=None, ...)"
            ],
            "text/html": [
              "<style>#sk-container-id-8 {color: black;background-color: white;}#sk-container-id-8 pre{padding: 0;}#sk-container-id-8 div.sk-toggleable {background-color: white;}#sk-container-id-8 label.sk-toggleable__label {cursor: pointer;display: block;width: 100%;margin-bottom: 0;padding: 0.3em;box-sizing: border-box;text-align: center;}#sk-container-id-8 label.sk-toggleable__label-arrow:before {content: \"▸\";float: left;margin-right: 0.25em;color: #696969;}#sk-container-id-8 label.sk-toggleable__label-arrow:hover:before {color: black;}#sk-container-id-8 div.sk-estimator:hover label.sk-toggleable__label-arrow:before {color: black;}#sk-container-id-8 div.sk-toggleable__content {max-height: 0;max-width: 0;overflow: hidden;text-align: left;background-color: #f0f8ff;}#sk-container-id-8 div.sk-toggleable__content pre {margin: 0.2em;color: black;border-radius: 0.25em;background-color: #f0f8ff;}#sk-container-id-8 input.sk-toggleable__control:checked~div.sk-toggleable__content {max-height: 200px;max-width: 100%;overflow: auto;}#sk-container-id-8 input.sk-toggleable__control:checked~label.sk-toggleable__label-arrow:before {content: \"▾\";}#sk-container-id-8 div.sk-estimator input.sk-toggleable__control:checked~label.sk-toggleable__label {background-color: #d4ebff;}#sk-container-id-8 div.sk-label input.sk-toggleable__control:checked~label.sk-toggleable__label {background-color: #d4ebff;}#sk-container-id-8 input.sk-hidden--visually {border: 0;clip: rect(1px 1px 1px 1px);clip: rect(1px, 1px, 1px, 1px);height: 1px;margin: -1px;overflow: hidden;padding: 0;position: absolute;width: 1px;}#sk-container-id-8 div.sk-estimator {font-family: monospace;background-color: #f0f8ff;border: 1px dotted black;border-radius: 0.25em;box-sizing: border-box;margin-bottom: 0.5em;}#sk-container-id-8 div.sk-estimator:hover {background-color: #d4ebff;}#sk-container-id-8 div.sk-parallel-item::after {content: \"\";width: 100%;border-bottom: 1px solid gray;flex-grow: 1;}#sk-container-id-8 div.sk-label:hover label.sk-toggleable__label {background-color: #d4ebff;}#sk-container-id-8 div.sk-serial::before {content: \"\";position: absolute;border-left: 1px solid gray;box-sizing: border-box;top: 0;bottom: 0;left: 50%;z-index: 0;}#sk-container-id-8 div.sk-serial {display: flex;flex-direction: column;align-items: center;background-color: white;padding-right: 0.2em;padding-left: 0.2em;position: relative;}#sk-container-id-8 div.sk-item {position: relative;z-index: 1;}#sk-container-id-8 div.sk-parallel {display: flex;align-items: stretch;justify-content: center;background-color: white;position: relative;}#sk-container-id-8 div.sk-item::before, #sk-container-id-8 div.sk-parallel-item::before {content: \"\";position: absolute;border-left: 1px solid gray;box-sizing: border-box;top: 0;bottom: 0;left: 50%;z-index: -1;}#sk-container-id-8 div.sk-parallel-item {display: flex;flex-direction: column;z-index: 1;position: relative;background-color: white;}#sk-container-id-8 div.sk-parallel-item:first-child::after {align-self: flex-end;width: 50%;}#sk-container-id-8 div.sk-parallel-item:last-child::after {align-self: flex-start;width: 50%;}#sk-container-id-8 div.sk-parallel-item:only-child::after {width: 0;}#sk-container-id-8 div.sk-dashed-wrapped {border: 1px dashed gray;margin: 0 0.4em 0.5em 0.4em;box-sizing: border-box;padding-bottom: 0.4em;background-color: white;}#sk-container-id-8 div.sk-label label {font-family: monospace;font-weight: bold;display: inline-block;line-height: 1.2em;}#sk-container-id-8 div.sk-label-container {text-align: center;}#sk-container-id-8 div.sk-container {/* jupyter's `normalize.less` sets `[hidden] { display: none; }` but bootstrap.min.css set `[hidden] { display: none !important; }` so we also need the `!important` here to be able to override the default hidden behavior on the sphinx rendered scikit-learn.org. See: https://github.com/scikit-learn/scikit-learn/issues/21755 */display: inline-block !important;position: relative;}#sk-container-id-8 div.sk-text-repr-fallback {display: none;}</style><div id=\"sk-container-id-8\" class=\"sk-top-container\"><div class=\"sk-text-repr-fallback\"><pre>XGBClassifier(base_score=None, booster=None, callbacks=None,\n",
              "              colsample_bylevel=None, colsample_bynode=None,\n",
              "              colsample_bytree=0.6, early_stopping_rounds=None,\n",
              "              enable_categorical=False, eval_metric=None, feature_types=None,\n",
              "              gamma=None, gpu_id=None, grow_policy=None, importance_type=None,\n",
              "              interaction_constraints=None, learning_rate=None, max_bin=None,\n",
              "              max_cat_threshold=None, max_cat_to_onehot=None,\n",
              "              max_delta_step=None, max_depth=6, max_leaves=None,\n",
              "              min_child_weight=None, missing=nan, monotone_constraints=None,\n",
              "              n_estimators=100, n_jobs=-1, num_parallel_tree=None,\n",
              "              objective=&#x27;multi:softprob&#x27;, predictor=None, ...)</pre><b>In a Jupyter environment, please rerun this cell to show the HTML representation or trust the notebook. <br />On GitHub, the HTML representation is unable to render, please try loading this page with nbviewer.org.</b></div><div class=\"sk-container\" hidden><div class=\"sk-item\"><div class=\"sk-estimator sk-toggleable\"><input class=\"sk-toggleable__control sk-hidden--visually\" id=\"sk-estimator-id-10\" type=\"checkbox\" checked><label for=\"sk-estimator-id-10\" class=\"sk-toggleable__label sk-toggleable__label-arrow\">XGBClassifier</label><div class=\"sk-toggleable__content\"><pre>XGBClassifier(base_score=None, booster=None, callbacks=None,\n",
              "              colsample_bylevel=None, colsample_bynode=None,\n",
              "              colsample_bytree=0.6, early_stopping_rounds=None,\n",
              "              enable_categorical=False, eval_metric=None, feature_types=None,\n",
              "              gamma=None, gpu_id=None, grow_policy=None, importance_type=None,\n",
              "              interaction_constraints=None, learning_rate=None, max_bin=None,\n",
              "              max_cat_threshold=None, max_cat_to_onehot=None,\n",
              "              max_delta_step=None, max_depth=6, max_leaves=None,\n",
              "              min_child_weight=None, missing=nan, monotone_constraints=None,\n",
              "              n_estimators=100, n_jobs=-1, num_parallel_tree=None,\n",
              "              objective=&#x27;multi:softprob&#x27;, predictor=None, ...)</pre></div></div></div></div></div>"
            ]
          },
          "metadata": {},
          "execution_count": 98
        }
      ],
      "source": [
        "best_xgb_model"
      ]
    },
    {
      "cell_type": "code",
      "execution_count": null,
      "metadata": {
        "id": "Vp39XagSVbJL"
      },
      "outputs": [],
      "source": [
        "y_pred_train = best_xgb_model.predict(X_train)\n",
        "y_pred_test = best_xgb_model.predict(X_test)"
      ]
    },
    {
      "cell_type": "code",
      "source": [
        "confusion_matrix(y_train,y_pred_train)"
      ],
      "metadata": {
        "colab": {
          "base_uri": "https://localhost:8080/"
        },
        "id": "t2mDvcpUlzUW",
        "outputId": "ed2fb5a8-6941-4bab-a5d2-f129c9996404"
      },
      "execution_count": null,
      "outputs": [
        {
          "output_type": "execute_result",
          "data": {
            "text/plain": [
              "array([[1273,    0,    0],\n",
              "       [   0, 2450,    0],\n",
              "       [   0,    0, 1877]])"
            ]
          },
          "metadata": {},
          "execution_count": 100
        }
      ]
    },
    {
      "cell_type": "code",
      "execution_count": null,
      "metadata": {
        "id": "CqXL4hw1VbJL",
        "outputId": "3af4a8e1-4462-4240-877d-c617e5b0a536",
        "colab": {
          "base_uri": "https://localhost:8080/"
        }
      },
      "outputs": [
        {
          "output_type": "stream",
          "name": "stdout",
          "text": [
            "\n",
            "            =========================================\n",
            "               CLASSIFICATION REPORT FOR TRAIN DATA\n",
            "            =========================================\n",
            "            \n",
            "              precision    recall  f1-score   support\n",
            "\n",
            "           0     1.0000    1.0000    1.0000      1273\n",
            "           1     1.0000    1.0000    1.0000      2450\n",
            "           2     1.0000    1.0000    1.0000      1877\n",
            "\n",
            "    accuracy                         1.0000      5600\n",
            "   macro avg     1.0000    1.0000    1.0000      5600\n",
            "weighted avg     1.0000    1.0000    1.0000      5600\n",
            "\n",
            "\n",
            "            =========================================\n",
            "               CLASSIFICATION REPORT FOR TEST DATA\n",
            "            =========================================\n",
            "            \n",
            "              precision    recall  f1-score   support\n",
            "\n",
            "           0     0.7964    0.7394    0.7669       545\n",
            "           1     0.8700    0.8849    0.8774      1051\n",
            "           2     0.9310    0.9553    0.9430       805\n",
            "\n",
            "    accuracy                         0.8755      2401\n",
            "   macro avg     0.8658    0.8599    0.8624      2401\n",
            "weighted avg     0.8737    0.8755    0.8743      2401\n",
            "\n"
          ]
        }
      ],
      "source": [
        "classifcation_report_train_test(y_train, y_pred_train, y_test, y_pred_test)"
      ]
    },
    {
      "cell_type": "code",
      "execution_count": null,
      "metadata": {
        "id": "ujthtUoHVbJL",
        "outputId": "4a1071ac-cbe9-4d13-ad00-3d5afed6fb33",
        "colab": {
          "base_uri": "https://localhost:8080/",
          "height": 241
        }
      },
      "outputs": [
        {
          "output_type": "stream",
          "name": "stderr",
          "text": [
            "<ipython-input-63-3ef4ce65b0ea>:16: FutureWarning: The frame.append method is deprecated and will be removed from pandas in a future version. Use pandas.concat instead.\n",
            "  dataframe       = dataframe.append(pd.Series([model_description,\n"
          ]
        },
        {
          "output_type": "execute_result",
          "data": {
            "text/plain": [
              "           Model  Train_Accuracy  Train_Recall  Train_Precision  \\\n",
              "0  DecisionTrees        1.000000      1.000000         1.000000   \n",
              "1   RandomForest        1.000000      1.000000         1.000000   \n",
              "2            GBM        0.919286      0.919286         0.918602   \n",
              "3       Adaboost        0.849643      0.849643         0.847281   \n",
              "4        XGBoost        1.000000      1.000000         1.000000   \n",
              "\n",
              "   Train_F1_Score  Test_Accuracy  Test_Recall  Test_Precision  Test_F1_Score  \n",
              "0        1.000000       0.797584     0.797584        0.796967       0.797268  \n",
              "1        1.000000       0.861308     0.861308        0.859105       0.859650  \n",
              "2        0.918517       0.866306     0.866306        0.863876       0.864530  \n",
              "3        0.847952       0.836318     0.836318        0.833453       0.834513  \n",
              "4        1.000000       0.875469     0.875469        0.873740       0.874284  "
            ],
            "text/html": [
              "\n",
              "  <div id=\"df-15a78130-42b1-4739-92c1-aec1caf947a8\">\n",
              "    <div class=\"colab-df-container\">\n",
              "      <div>\n",
              "<style scoped>\n",
              "    .dataframe tbody tr th:only-of-type {\n",
              "        vertical-align: middle;\n",
              "    }\n",
              "\n",
              "    .dataframe tbody tr th {\n",
              "        vertical-align: top;\n",
              "    }\n",
              "\n",
              "    .dataframe thead th {\n",
              "        text-align: right;\n",
              "    }\n",
              "</style>\n",
              "<table border=\"1\" class=\"dataframe\">\n",
              "  <thead>\n",
              "    <tr style=\"text-align: right;\">\n",
              "      <th></th>\n",
              "      <th>Model</th>\n",
              "      <th>Train_Accuracy</th>\n",
              "      <th>Train_Recall</th>\n",
              "      <th>Train_Precision</th>\n",
              "      <th>Train_F1_Score</th>\n",
              "      <th>Test_Accuracy</th>\n",
              "      <th>Test_Recall</th>\n",
              "      <th>Test_Precision</th>\n",
              "      <th>Test_F1_Score</th>\n",
              "    </tr>\n",
              "  </thead>\n",
              "  <tbody>\n",
              "    <tr>\n",
              "      <th>0</th>\n",
              "      <td>DecisionTrees</td>\n",
              "      <td>1.000000</td>\n",
              "      <td>1.000000</td>\n",
              "      <td>1.000000</td>\n",
              "      <td>1.000000</td>\n",
              "      <td>0.797584</td>\n",
              "      <td>0.797584</td>\n",
              "      <td>0.796967</td>\n",
              "      <td>0.797268</td>\n",
              "    </tr>\n",
              "    <tr>\n",
              "      <th>1</th>\n",
              "      <td>RandomForest</td>\n",
              "      <td>1.000000</td>\n",
              "      <td>1.000000</td>\n",
              "      <td>1.000000</td>\n",
              "      <td>1.000000</td>\n",
              "      <td>0.861308</td>\n",
              "      <td>0.861308</td>\n",
              "      <td>0.859105</td>\n",
              "      <td>0.859650</td>\n",
              "    </tr>\n",
              "    <tr>\n",
              "      <th>2</th>\n",
              "      <td>GBM</td>\n",
              "      <td>0.919286</td>\n",
              "      <td>0.919286</td>\n",
              "      <td>0.918602</td>\n",
              "      <td>0.918517</td>\n",
              "      <td>0.866306</td>\n",
              "      <td>0.866306</td>\n",
              "      <td>0.863876</td>\n",
              "      <td>0.864530</td>\n",
              "    </tr>\n",
              "    <tr>\n",
              "      <th>3</th>\n",
              "      <td>Adaboost</td>\n",
              "      <td>0.849643</td>\n",
              "      <td>0.849643</td>\n",
              "      <td>0.847281</td>\n",
              "      <td>0.847952</td>\n",
              "      <td>0.836318</td>\n",
              "      <td>0.836318</td>\n",
              "      <td>0.833453</td>\n",
              "      <td>0.834513</td>\n",
              "    </tr>\n",
              "    <tr>\n",
              "      <th>4</th>\n",
              "      <td>XGBoost</td>\n",
              "      <td>1.000000</td>\n",
              "      <td>1.000000</td>\n",
              "      <td>1.000000</td>\n",
              "      <td>1.000000</td>\n",
              "      <td>0.875469</td>\n",
              "      <td>0.875469</td>\n",
              "      <td>0.873740</td>\n",
              "      <td>0.874284</td>\n",
              "    </tr>\n",
              "  </tbody>\n",
              "</table>\n",
              "</div>\n",
              "      <button class=\"colab-df-convert\" onclick=\"convertToInteractive('df-15a78130-42b1-4739-92c1-aec1caf947a8')\"\n",
              "              title=\"Convert this dataframe to an interactive table.\"\n",
              "              style=\"display:none;\">\n",
              "        \n",
              "  <svg xmlns=\"http://www.w3.org/2000/svg\" height=\"24px\"viewBox=\"0 0 24 24\"\n",
              "       width=\"24px\">\n",
              "    <path d=\"M0 0h24v24H0V0z\" fill=\"none\"/>\n",
              "    <path d=\"M18.56 5.44l.94 2.06.94-2.06 2.06-.94-2.06-.94-.94-2.06-.94 2.06-2.06.94zm-11 1L8.5 8.5l.94-2.06 2.06-.94-2.06-.94L8.5 2.5l-.94 2.06-2.06.94zm10 10l.94 2.06.94-2.06 2.06-.94-2.06-.94-.94-2.06-.94 2.06-2.06.94z\"/><path d=\"M17.41 7.96l-1.37-1.37c-.4-.4-.92-.59-1.43-.59-.52 0-1.04.2-1.43.59L10.3 9.45l-7.72 7.72c-.78.78-.78 2.05 0 2.83L4 21.41c.39.39.9.59 1.41.59.51 0 1.02-.2 1.41-.59l7.78-7.78 2.81-2.81c.8-.78.8-2.07 0-2.86zM5.41 20L4 18.59l7.72-7.72 1.47 1.35L5.41 20z\"/>\n",
              "  </svg>\n",
              "      </button>\n",
              "      \n",
              "  <style>\n",
              "    .colab-df-container {\n",
              "      display:flex;\n",
              "      flex-wrap:wrap;\n",
              "      gap: 12px;\n",
              "    }\n",
              "\n",
              "    .colab-df-convert {\n",
              "      background-color: #E8F0FE;\n",
              "      border: none;\n",
              "      border-radius: 50%;\n",
              "      cursor: pointer;\n",
              "      display: none;\n",
              "      fill: #1967D2;\n",
              "      height: 32px;\n",
              "      padding: 0 0 0 0;\n",
              "      width: 32px;\n",
              "    }\n",
              "\n",
              "    .colab-df-convert:hover {\n",
              "      background-color: #E2EBFA;\n",
              "      box-shadow: 0px 1px 2px rgba(60, 64, 67, 0.3), 0px 1px 3px 1px rgba(60, 64, 67, 0.15);\n",
              "      fill: #174EA6;\n",
              "    }\n",
              "\n",
              "    [theme=dark] .colab-df-convert {\n",
              "      background-color: #3B4455;\n",
              "      fill: #D2E3FC;\n",
              "    }\n",
              "\n",
              "    [theme=dark] .colab-df-convert:hover {\n",
              "      background-color: #434B5C;\n",
              "      box-shadow: 0px 1px 3px 1px rgba(0, 0, 0, 0.15);\n",
              "      filter: drop-shadow(0px 1px 2px rgba(0, 0, 0, 0.3));\n",
              "      fill: #FFFFFF;\n",
              "    }\n",
              "  </style>\n",
              "\n",
              "      <script>\n",
              "        const buttonEl =\n",
              "          document.querySelector('#df-15a78130-42b1-4739-92c1-aec1caf947a8 button.colab-df-convert');\n",
              "        buttonEl.style.display =\n",
              "          google.colab.kernel.accessAllowed ? 'block' : 'none';\n",
              "\n",
              "        async function convertToInteractive(key) {\n",
              "          const element = document.querySelector('#df-15a78130-42b1-4739-92c1-aec1caf947a8');\n",
              "          const dataTable =\n",
              "            await google.colab.kernel.invokeFunction('convertToInteractive',\n",
              "                                                     [key], {});\n",
              "          if (!dataTable) return;\n",
              "\n",
              "          const docLinkHtml = 'Like what you see? Visit the ' +\n",
              "            '<a target=\"_blank\" href=https://colab.research.google.com/notebooks/data_table.ipynb>data table notebook</a>'\n",
              "            + ' to learn more about interactive tables.';\n",
              "          element.innerHTML = '';\n",
              "          dataTable['output_type'] = 'display_data';\n",
              "          await google.colab.output.renderOutput(dataTable, element);\n",
              "          const docLink = document.createElement('div');\n",
              "          docLink.innerHTML = docLinkHtml;\n",
              "          element.appendChild(docLink);\n",
              "        }\n",
              "      </script>\n",
              "    </div>\n",
              "  </div>\n",
              "  "
            ]
          },
          "metadata": {},
          "execution_count": 102
        }
      ],
      "source": [
        "scores = get_metrics(y_train, y_pred_train, y_test, y_pred_test, \"XGBoost\", scores)\n",
        "scores"
      ]
    },
    {
      "cell_type": "markdown",
      "source": [
        "* It is also over-fitted"
      ],
      "metadata": {
        "id": "q8XV95gimJ0x"
      }
    },
    {
      "cell_type": "markdown",
      "metadata": {
        "id": "EJHQj4DWVbJL"
      },
      "source": [
        "### Extracting the important features"
      ]
    },
    {
      "cell_type": "code",
      "execution_count": null,
      "metadata": {
        "id": "1kggnMj9VbJL",
        "outputId": "5140f49e-8c4b-4247-945f-de364e88a9a7",
        "colab": {
          "base_uri": "https://localhost:8080/"
        }
      },
      "outputs": [
        {
          "output_type": "execute_result",
          "data": {
            "text/plain": [
              "array([0.00408087, 0.00487313, 0.02100447, 0.04538264, 0.01060886,\n",
              "       0.00699862, 0.00889624, 0.0147527 , 0.0052189 , 0.00640659,\n",
              "       0.00480575, 0.01083328, 0.00612646, 0.01140627, 0.00753237,\n",
              "       0.01317193, 0.00468756, 0.01694987, 0.00630965, 0.00554302,\n",
              "       0.00549452, 0.0099254 , 0.09896749, 0.3801331 , 0.07668985,\n",
              "       0.13505888, 0.00354781, 0.00364734, 0.00381278, 0.00439561,\n",
              "       0.00824566, 0.03941387, 0.00536041, 0.00173649, 0.00292472,\n",
              "       0.00505691], dtype=float32)"
            ]
          },
          "metadata": {},
          "execution_count": 103
        }
      ],
      "source": [
        "best_xgb_model.feature_importances_"
      ]
    },
    {
      "cell_type": "code",
      "execution_count": null,
      "metadata": {
        "id": "Xaw1JJY0VbJL",
        "outputId": "2f308035-1b5e-4eb6-c6cd-a0952f4b6099",
        "colab": {
          "base_uri": "https://localhost:8080/"
        }
      },
      "outputs": [
        {
          "output_type": "stream",
          "name": "stdout",
          "text": [
            "[33 34 26 27 28  0 29 16 10  1 35  8 32 20 19 12 18  9  5 14 30  6 21  4\n",
            " 11 13 15  7 17  2 31  3 24 22 25 23]\n"
          ]
        }
      ],
      "source": [
        "importances = best_xgb_model.feature_importances_\n",
        "indices = np.argsort(importances)\n",
        "print(indices)"
      ]
    },
    {
      "cell_type": "code",
      "execution_count": null,
      "metadata": {
        "scrolled": true,
        "id": "4QfckC3TVbJL",
        "outputId": "4ac900e3-00be-4753-81d9-a8199c10a87e",
        "colab": {
          "base_uri": "https://localhost:8080/",
          "height": 205
        }
      },
      "outputs": [
        {
          "output_type": "execute_result",
          "data": {
            "text/plain": [
              "                     0                     1                     2   \\\n",
              "0  outside.sideline_1.0  outside.baseline_1.0  outside.sideline_0.0   \n",
              "1              0.380133              0.135059              0.098967   \n",
              "\n",
              "                     3              4                    5         6   \\\n",
              "0  outside.baseline_0.0  net.clearance  previous.hitpoint_V     speed   \n",
              "1               0.07669       0.045383             0.039414  0.021004   \n",
              "\n",
              "                     7                    8               9   ...        26  \\\n",
              "0  previous.time.to.net  player.impact.depth  opponent.depth  ...     serve   \n",
              "1               0.01695             0.014753        0.013172  ...  0.004873   \n",
              "\n",
              "                            27                             28  \\\n",
              "0  player.distance.from.center  opponent.distance.from.center   \n",
              "1                     0.004806                       0.004688   \n",
              "\n",
              "                    29        30                   31             32  \\\n",
              "0  previous.hitpoint_F     rally  previous.hitpoint_B  same.side_1.0   \n",
              "1             0.004396  0.004081             0.003813       0.003647   \n",
              "\n",
              "              33           34                           35  \n",
              "0  same.side_0.0  gender_mens  server.is.impact.player_1.0  \n",
              "1       0.003548     0.002925                     0.001736  \n",
              "\n",
              "[2 rows x 36 columns]"
            ],
            "text/html": [
              "\n",
              "  <div id=\"df-ffdd6dc6-3928-4415-b13e-62998af593bc\">\n",
              "    <div class=\"colab-df-container\">\n",
              "      <div>\n",
              "<style scoped>\n",
              "    .dataframe tbody tr th:only-of-type {\n",
              "        vertical-align: middle;\n",
              "    }\n",
              "\n",
              "    .dataframe tbody tr th {\n",
              "        vertical-align: top;\n",
              "    }\n",
              "\n",
              "    .dataframe thead th {\n",
              "        text-align: right;\n",
              "    }\n",
              "</style>\n",
              "<table border=\"1\" class=\"dataframe\">\n",
              "  <thead>\n",
              "    <tr style=\"text-align: right;\">\n",
              "      <th></th>\n",
              "      <th>0</th>\n",
              "      <th>1</th>\n",
              "      <th>2</th>\n",
              "      <th>3</th>\n",
              "      <th>4</th>\n",
              "      <th>5</th>\n",
              "      <th>6</th>\n",
              "      <th>7</th>\n",
              "      <th>8</th>\n",
              "      <th>9</th>\n",
              "      <th>...</th>\n",
              "      <th>26</th>\n",
              "      <th>27</th>\n",
              "      <th>28</th>\n",
              "      <th>29</th>\n",
              "      <th>30</th>\n",
              "      <th>31</th>\n",
              "      <th>32</th>\n",
              "      <th>33</th>\n",
              "      <th>34</th>\n",
              "      <th>35</th>\n",
              "    </tr>\n",
              "  </thead>\n",
              "  <tbody>\n",
              "    <tr>\n",
              "      <th>0</th>\n",
              "      <td>outside.sideline_1.0</td>\n",
              "      <td>outside.baseline_1.0</td>\n",
              "      <td>outside.sideline_0.0</td>\n",
              "      <td>outside.baseline_0.0</td>\n",
              "      <td>net.clearance</td>\n",
              "      <td>previous.hitpoint_V</td>\n",
              "      <td>speed</td>\n",
              "      <td>previous.time.to.net</td>\n",
              "      <td>player.impact.depth</td>\n",
              "      <td>opponent.depth</td>\n",
              "      <td>...</td>\n",
              "      <td>serve</td>\n",
              "      <td>player.distance.from.center</td>\n",
              "      <td>opponent.distance.from.center</td>\n",
              "      <td>previous.hitpoint_F</td>\n",
              "      <td>rally</td>\n",
              "      <td>previous.hitpoint_B</td>\n",
              "      <td>same.side_1.0</td>\n",
              "      <td>same.side_0.0</td>\n",
              "      <td>gender_mens</td>\n",
              "      <td>server.is.impact.player_1.0</td>\n",
              "    </tr>\n",
              "    <tr>\n",
              "      <th>1</th>\n",
              "      <td>0.380133</td>\n",
              "      <td>0.135059</td>\n",
              "      <td>0.098967</td>\n",
              "      <td>0.07669</td>\n",
              "      <td>0.045383</td>\n",
              "      <td>0.039414</td>\n",
              "      <td>0.021004</td>\n",
              "      <td>0.01695</td>\n",
              "      <td>0.014753</td>\n",
              "      <td>0.013172</td>\n",
              "      <td>...</td>\n",
              "      <td>0.004873</td>\n",
              "      <td>0.004806</td>\n",
              "      <td>0.004688</td>\n",
              "      <td>0.004396</td>\n",
              "      <td>0.004081</td>\n",
              "      <td>0.003813</td>\n",
              "      <td>0.003647</td>\n",
              "      <td>0.003548</td>\n",
              "      <td>0.002925</td>\n",
              "      <td>0.001736</td>\n",
              "    </tr>\n",
              "  </tbody>\n",
              "</table>\n",
              "<p>2 rows × 36 columns</p>\n",
              "</div>\n",
              "      <button class=\"colab-df-convert\" onclick=\"convertToInteractive('df-ffdd6dc6-3928-4415-b13e-62998af593bc')\"\n",
              "              title=\"Convert this dataframe to an interactive table.\"\n",
              "              style=\"display:none;\">\n",
              "        \n",
              "  <svg xmlns=\"http://www.w3.org/2000/svg\" height=\"24px\"viewBox=\"0 0 24 24\"\n",
              "       width=\"24px\">\n",
              "    <path d=\"M0 0h24v24H0V0z\" fill=\"none\"/>\n",
              "    <path d=\"M18.56 5.44l.94 2.06.94-2.06 2.06-.94-2.06-.94-.94-2.06-.94 2.06-2.06.94zm-11 1L8.5 8.5l.94-2.06 2.06-.94-2.06-.94L8.5 2.5l-.94 2.06-2.06.94zm10 10l.94 2.06.94-2.06 2.06-.94-2.06-.94-.94-2.06-.94 2.06-2.06.94z\"/><path d=\"M17.41 7.96l-1.37-1.37c-.4-.4-.92-.59-1.43-.59-.52 0-1.04.2-1.43.59L10.3 9.45l-7.72 7.72c-.78.78-.78 2.05 0 2.83L4 21.41c.39.39.9.59 1.41.59.51 0 1.02-.2 1.41-.59l7.78-7.78 2.81-2.81c.8-.78.8-2.07 0-2.86zM5.41 20L4 18.59l7.72-7.72 1.47 1.35L5.41 20z\"/>\n",
              "  </svg>\n",
              "      </button>\n",
              "      \n",
              "  <style>\n",
              "    .colab-df-container {\n",
              "      display:flex;\n",
              "      flex-wrap:wrap;\n",
              "      gap: 12px;\n",
              "    }\n",
              "\n",
              "    .colab-df-convert {\n",
              "      background-color: #E8F0FE;\n",
              "      border: none;\n",
              "      border-radius: 50%;\n",
              "      cursor: pointer;\n",
              "      display: none;\n",
              "      fill: #1967D2;\n",
              "      height: 32px;\n",
              "      padding: 0 0 0 0;\n",
              "      width: 32px;\n",
              "    }\n",
              "\n",
              "    .colab-df-convert:hover {\n",
              "      background-color: #E2EBFA;\n",
              "      box-shadow: 0px 1px 2px rgba(60, 64, 67, 0.3), 0px 1px 3px 1px rgba(60, 64, 67, 0.15);\n",
              "      fill: #174EA6;\n",
              "    }\n",
              "\n",
              "    [theme=dark] .colab-df-convert {\n",
              "      background-color: #3B4455;\n",
              "      fill: #D2E3FC;\n",
              "    }\n",
              "\n",
              "    [theme=dark] .colab-df-convert:hover {\n",
              "      background-color: #434B5C;\n",
              "      box-shadow: 0px 1px 3px 1px rgba(0, 0, 0, 0.15);\n",
              "      filter: drop-shadow(0px 1px 2px rgba(0, 0, 0, 0.3));\n",
              "      fill: #FFFFFF;\n",
              "    }\n",
              "  </style>\n",
              "\n",
              "      <script>\n",
              "        const buttonEl =\n",
              "          document.querySelector('#df-ffdd6dc6-3928-4415-b13e-62998af593bc button.colab-df-convert');\n",
              "        buttonEl.style.display =\n",
              "          google.colab.kernel.accessAllowed ? 'block' : 'none';\n",
              "\n",
              "        async function convertToInteractive(key) {\n",
              "          const element = document.querySelector('#df-ffdd6dc6-3928-4415-b13e-62998af593bc');\n",
              "          const dataTable =\n",
              "            await google.colab.kernel.invokeFunction('convertToInteractive',\n",
              "                                                     [key], {});\n",
              "          if (!dataTable) return;\n",
              "\n",
              "          const docLinkHtml = 'Like what you see? Visit the ' +\n",
              "            '<a target=\"_blank\" href=https://colab.research.google.com/notebooks/data_table.ipynb>data table notebook</a>'\n",
              "            + ' to learn more about interactive tables.';\n",
              "          element.innerHTML = '';\n",
              "          dataTable['output_type'] = 'display_data';\n",
              "          await google.colab.output.renderOutput(dataTable, element);\n",
              "          const docLink = document.createElement('div');\n",
              "          docLink.innerHTML = docLinkHtml;\n",
              "          element.appendChild(docLink);\n",
              "        }\n",
              "      </script>\n",
              "    </div>\n",
              "  </div>\n",
              "  "
            ]
          },
          "metadata": {},
          "execution_count": 105
        }
      ],
      "source": [
        "indices = np.argsort(importances)[::-1] # np.argsort returns the indices that would sort an array.\n",
        "pd.DataFrame([X_train.columns[indices], np.sort(importances)[::-1]])"
      ]
    },
    {
      "cell_type": "markdown",
      "metadata": {
        "id": "PAiHtbljVbJM"
      },
      "source": [
        "## Stacking:"
      ]
    },
    {
      "cell_type": "code",
      "execution_count": null,
      "metadata": {
        "id": "zsziTiNeVbJM"
      },
      "outputs": [],
      "source": [
        "voting_clf = VotingClassifier(estimators=[('clf_dt', clf_dt), ('clf_rf', clf_rf), ('clf_adaboost', clf_adaboost)])"
      ]
    },
    {
      "cell_type": "code",
      "execution_count": null,
      "metadata": {
        "id": "8fw-vsWNVbJM",
        "outputId": "ec8312c6-4bc6-42ef-834f-68018f0061b7",
        "colab": {
          "base_uri": "https://localhost:8080/",
          "height": 109
        }
      },
      "outputs": [
        {
          "output_type": "execute_result",
          "data": {
            "text/plain": [
              "VotingClassifier(estimators=[('clf_dt', DecisionTreeClassifier()),\n",
              "                             ('clf_rf', RandomForestClassifier()),\n",
              "                             ('clf_adaboost', AdaBoostClassifier())])"
            ],
            "text/html": [
              "<style>#sk-container-id-9 {color: black;background-color: white;}#sk-container-id-9 pre{padding: 0;}#sk-container-id-9 div.sk-toggleable {background-color: white;}#sk-container-id-9 label.sk-toggleable__label {cursor: pointer;display: block;width: 100%;margin-bottom: 0;padding: 0.3em;box-sizing: border-box;text-align: center;}#sk-container-id-9 label.sk-toggleable__label-arrow:before {content: \"▸\";float: left;margin-right: 0.25em;color: #696969;}#sk-container-id-9 label.sk-toggleable__label-arrow:hover:before {color: black;}#sk-container-id-9 div.sk-estimator:hover label.sk-toggleable__label-arrow:before {color: black;}#sk-container-id-9 div.sk-toggleable__content {max-height: 0;max-width: 0;overflow: hidden;text-align: left;background-color: #f0f8ff;}#sk-container-id-9 div.sk-toggleable__content pre {margin: 0.2em;color: black;border-radius: 0.25em;background-color: #f0f8ff;}#sk-container-id-9 input.sk-toggleable__control:checked~div.sk-toggleable__content {max-height: 200px;max-width: 100%;overflow: auto;}#sk-container-id-9 input.sk-toggleable__control:checked~label.sk-toggleable__label-arrow:before {content: \"▾\";}#sk-container-id-9 div.sk-estimator input.sk-toggleable__control:checked~label.sk-toggleable__label {background-color: #d4ebff;}#sk-container-id-9 div.sk-label input.sk-toggleable__control:checked~label.sk-toggleable__label {background-color: #d4ebff;}#sk-container-id-9 input.sk-hidden--visually {border: 0;clip: rect(1px 1px 1px 1px);clip: rect(1px, 1px, 1px, 1px);height: 1px;margin: -1px;overflow: hidden;padding: 0;position: absolute;width: 1px;}#sk-container-id-9 div.sk-estimator {font-family: monospace;background-color: #f0f8ff;border: 1px dotted black;border-radius: 0.25em;box-sizing: border-box;margin-bottom: 0.5em;}#sk-container-id-9 div.sk-estimator:hover {background-color: #d4ebff;}#sk-container-id-9 div.sk-parallel-item::after {content: \"\";width: 100%;border-bottom: 1px solid gray;flex-grow: 1;}#sk-container-id-9 div.sk-label:hover label.sk-toggleable__label {background-color: #d4ebff;}#sk-container-id-9 div.sk-serial::before {content: \"\";position: absolute;border-left: 1px solid gray;box-sizing: border-box;top: 0;bottom: 0;left: 50%;z-index: 0;}#sk-container-id-9 div.sk-serial {display: flex;flex-direction: column;align-items: center;background-color: white;padding-right: 0.2em;padding-left: 0.2em;position: relative;}#sk-container-id-9 div.sk-item {position: relative;z-index: 1;}#sk-container-id-9 div.sk-parallel {display: flex;align-items: stretch;justify-content: center;background-color: white;position: relative;}#sk-container-id-9 div.sk-item::before, #sk-container-id-9 div.sk-parallel-item::before {content: \"\";position: absolute;border-left: 1px solid gray;box-sizing: border-box;top: 0;bottom: 0;left: 50%;z-index: -1;}#sk-container-id-9 div.sk-parallel-item {display: flex;flex-direction: column;z-index: 1;position: relative;background-color: white;}#sk-container-id-9 div.sk-parallel-item:first-child::after {align-self: flex-end;width: 50%;}#sk-container-id-9 div.sk-parallel-item:last-child::after {align-self: flex-start;width: 50%;}#sk-container-id-9 div.sk-parallel-item:only-child::after {width: 0;}#sk-container-id-9 div.sk-dashed-wrapped {border: 1px dashed gray;margin: 0 0.4em 0.5em 0.4em;box-sizing: border-box;padding-bottom: 0.4em;background-color: white;}#sk-container-id-9 div.sk-label label {font-family: monospace;font-weight: bold;display: inline-block;line-height: 1.2em;}#sk-container-id-9 div.sk-label-container {text-align: center;}#sk-container-id-9 div.sk-container {/* jupyter's `normalize.less` sets `[hidden] { display: none; }` but bootstrap.min.css set `[hidden] { display: none !important; }` so we also need the `!important` here to be able to override the default hidden behavior on the sphinx rendered scikit-learn.org. See: https://github.com/scikit-learn/scikit-learn/issues/21755 */display: inline-block !important;position: relative;}#sk-container-id-9 div.sk-text-repr-fallback {display: none;}</style><div id=\"sk-container-id-9\" class=\"sk-top-container\"><div class=\"sk-text-repr-fallback\"><pre>VotingClassifier(estimators=[(&#x27;clf_dt&#x27;, DecisionTreeClassifier()),\n",
              "                             (&#x27;clf_rf&#x27;, RandomForestClassifier()),\n",
              "                             (&#x27;clf_adaboost&#x27;, AdaBoostClassifier())])</pre><b>In a Jupyter environment, please rerun this cell to show the HTML representation or trust the notebook. <br />On GitHub, the HTML representation is unable to render, please try loading this page with nbviewer.org.</b></div><div class=\"sk-container\" hidden><div class=\"sk-item sk-dashed-wrapped\"><div class=\"sk-label-container\"><div class=\"sk-label sk-toggleable\"><input class=\"sk-toggleable__control sk-hidden--visually\" id=\"sk-estimator-id-11\" type=\"checkbox\" ><label for=\"sk-estimator-id-11\" class=\"sk-toggleable__label sk-toggleable__label-arrow\">VotingClassifier</label><div class=\"sk-toggleable__content\"><pre>VotingClassifier(estimators=[(&#x27;clf_dt&#x27;, DecisionTreeClassifier()),\n",
              "                             (&#x27;clf_rf&#x27;, RandomForestClassifier()),\n",
              "                             (&#x27;clf_adaboost&#x27;, AdaBoostClassifier())])</pre></div></div></div><div class=\"sk-parallel\"><div class=\"sk-parallel-item\"><div class=\"sk-item\"><div class=\"sk-label-container\"><div class=\"sk-label sk-toggleable\"><label>clf_dt</label></div></div><div class=\"sk-serial\"><div class=\"sk-item\"><div class=\"sk-estimator sk-toggleable\"><input class=\"sk-toggleable__control sk-hidden--visually\" id=\"sk-estimator-id-12\" type=\"checkbox\" ><label for=\"sk-estimator-id-12\" class=\"sk-toggleable__label sk-toggleable__label-arrow\">DecisionTreeClassifier</label><div class=\"sk-toggleable__content\"><pre>DecisionTreeClassifier()</pre></div></div></div></div></div></div><div class=\"sk-parallel-item\"><div class=\"sk-item\"><div class=\"sk-label-container\"><div class=\"sk-label sk-toggleable\"><label>clf_rf</label></div></div><div class=\"sk-serial\"><div class=\"sk-item\"><div class=\"sk-estimator sk-toggleable\"><input class=\"sk-toggleable__control sk-hidden--visually\" id=\"sk-estimator-id-13\" type=\"checkbox\" ><label for=\"sk-estimator-id-13\" class=\"sk-toggleable__label sk-toggleable__label-arrow\">RandomForestClassifier</label><div class=\"sk-toggleable__content\"><pre>RandomForestClassifier()</pre></div></div></div></div></div></div><div class=\"sk-parallel-item\"><div class=\"sk-item\"><div class=\"sk-label-container\"><div class=\"sk-label sk-toggleable\"><label>clf_adaboost</label></div></div><div class=\"sk-serial\"><div class=\"sk-item\"><div class=\"sk-estimator sk-toggleable\"><input class=\"sk-toggleable__control sk-hidden--visually\" id=\"sk-estimator-id-14\" type=\"checkbox\" ><label for=\"sk-estimator-id-14\" class=\"sk-toggleable__label sk-toggleable__label-arrow\">AdaBoostClassifier</label><div class=\"sk-toggleable__content\"><pre>AdaBoostClassifier()</pre></div></div></div></div></div></div></div></div></div></div>"
            ]
          },
          "metadata": {},
          "execution_count": 107
        }
      ],
      "source": [
        "voting_clf"
      ]
    },
    {
      "cell_type": "code",
      "execution_count": null,
      "metadata": {
        "id": "26_-1fYMVbJM",
        "outputId": "28ebe162-d9d6-4fe8-d28b-7419c1e3f897",
        "colab": {
          "base_uri": "https://localhost:8080/",
          "height": 109
        }
      },
      "outputs": [
        {
          "output_type": "execute_result",
          "data": {
            "text/plain": [
              "VotingClassifier(estimators=[('clf_dt', DecisionTreeClassifier()),\n",
              "                             ('clf_rf', RandomForestClassifier()),\n",
              "                             ('clf_adaboost', AdaBoostClassifier())])"
            ],
            "text/html": [
              "<style>#sk-container-id-10 {color: black;background-color: white;}#sk-container-id-10 pre{padding: 0;}#sk-container-id-10 div.sk-toggleable {background-color: white;}#sk-container-id-10 label.sk-toggleable__label {cursor: pointer;display: block;width: 100%;margin-bottom: 0;padding: 0.3em;box-sizing: border-box;text-align: center;}#sk-container-id-10 label.sk-toggleable__label-arrow:before {content: \"▸\";float: left;margin-right: 0.25em;color: #696969;}#sk-container-id-10 label.sk-toggleable__label-arrow:hover:before {color: black;}#sk-container-id-10 div.sk-estimator:hover label.sk-toggleable__label-arrow:before {color: black;}#sk-container-id-10 div.sk-toggleable__content {max-height: 0;max-width: 0;overflow: hidden;text-align: left;background-color: #f0f8ff;}#sk-container-id-10 div.sk-toggleable__content pre {margin: 0.2em;color: black;border-radius: 0.25em;background-color: #f0f8ff;}#sk-container-id-10 input.sk-toggleable__control:checked~div.sk-toggleable__content {max-height: 200px;max-width: 100%;overflow: auto;}#sk-container-id-10 input.sk-toggleable__control:checked~label.sk-toggleable__label-arrow:before {content: \"▾\";}#sk-container-id-10 div.sk-estimator input.sk-toggleable__control:checked~label.sk-toggleable__label {background-color: #d4ebff;}#sk-container-id-10 div.sk-label input.sk-toggleable__control:checked~label.sk-toggleable__label {background-color: #d4ebff;}#sk-container-id-10 input.sk-hidden--visually {border: 0;clip: rect(1px 1px 1px 1px);clip: rect(1px, 1px, 1px, 1px);height: 1px;margin: -1px;overflow: hidden;padding: 0;position: absolute;width: 1px;}#sk-container-id-10 div.sk-estimator {font-family: monospace;background-color: #f0f8ff;border: 1px dotted black;border-radius: 0.25em;box-sizing: border-box;margin-bottom: 0.5em;}#sk-container-id-10 div.sk-estimator:hover {background-color: #d4ebff;}#sk-container-id-10 div.sk-parallel-item::after {content: \"\";width: 100%;border-bottom: 1px solid gray;flex-grow: 1;}#sk-container-id-10 div.sk-label:hover label.sk-toggleable__label {background-color: #d4ebff;}#sk-container-id-10 div.sk-serial::before {content: \"\";position: absolute;border-left: 1px solid gray;box-sizing: border-box;top: 0;bottom: 0;left: 50%;z-index: 0;}#sk-container-id-10 div.sk-serial {display: flex;flex-direction: column;align-items: center;background-color: white;padding-right: 0.2em;padding-left: 0.2em;position: relative;}#sk-container-id-10 div.sk-item {position: relative;z-index: 1;}#sk-container-id-10 div.sk-parallel {display: flex;align-items: stretch;justify-content: center;background-color: white;position: relative;}#sk-container-id-10 div.sk-item::before, #sk-container-id-10 div.sk-parallel-item::before {content: \"\";position: absolute;border-left: 1px solid gray;box-sizing: border-box;top: 0;bottom: 0;left: 50%;z-index: -1;}#sk-container-id-10 div.sk-parallel-item {display: flex;flex-direction: column;z-index: 1;position: relative;background-color: white;}#sk-container-id-10 div.sk-parallel-item:first-child::after {align-self: flex-end;width: 50%;}#sk-container-id-10 div.sk-parallel-item:last-child::after {align-self: flex-start;width: 50%;}#sk-container-id-10 div.sk-parallel-item:only-child::after {width: 0;}#sk-container-id-10 div.sk-dashed-wrapped {border: 1px dashed gray;margin: 0 0.4em 0.5em 0.4em;box-sizing: border-box;padding-bottom: 0.4em;background-color: white;}#sk-container-id-10 div.sk-label label {font-family: monospace;font-weight: bold;display: inline-block;line-height: 1.2em;}#sk-container-id-10 div.sk-label-container {text-align: center;}#sk-container-id-10 div.sk-container {/* jupyter's `normalize.less` sets `[hidden] { display: none; }` but bootstrap.min.css set `[hidden] { display: none !important; }` so we also need the `!important` here to be able to override the default hidden behavior on the sphinx rendered scikit-learn.org. See: https://github.com/scikit-learn/scikit-learn/issues/21755 */display: inline-block !important;position: relative;}#sk-container-id-10 div.sk-text-repr-fallback {display: none;}</style><div id=\"sk-container-id-10\" class=\"sk-top-container\"><div class=\"sk-text-repr-fallback\"><pre>VotingClassifier(estimators=[(&#x27;clf_dt&#x27;, DecisionTreeClassifier()),\n",
              "                             (&#x27;clf_rf&#x27;, RandomForestClassifier()),\n",
              "                             (&#x27;clf_adaboost&#x27;, AdaBoostClassifier())])</pre><b>In a Jupyter environment, please rerun this cell to show the HTML representation or trust the notebook. <br />On GitHub, the HTML representation is unable to render, please try loading this page with nbviewer.org.</b></div><div class=\"sk-container\" hidden><div class=\"sk-item sk-dashed-wrapped\"><div class=\"sk-label-container\"><div class=\"sk-label sk-toggleable\"><input class=\"sk-toggleable__control sk-hidden--visually\" id=\"sk-estimator-id-15\" type=\"checkbox\" ><label for=\"sk-estimator-id-15\" class=\"sk-toggleable__label sk-toggleable__label-arrow\">VotingClassifier</label><div class=\"sk-toggleable__content\"><pre>VotingClassifier(estimators=[(&#x27;clf_dt&#x27;, DecisionTreeClassifier()),\n",
              "                             (&#x27;clf_rf&#x27;, RandomForestClassifier()),\n",
              "                             (&#x27;clf_adaboost&#x27;, AdaBoostClassifier())])</pre></div></div></div><div class=\"sk-parallel\"><div class=\"sk-parallel-item\"><div class=\"sk-item\"><div class=\"sk-label-container\"><div class=\"sk-label sk-toggleable\"><label>clf_dt</label></div></div><div class=\"sk-serial\"><div class=\"sk-item\"><div class=\"sk-estimator sk-toggleable\"><input class=\"sk-toggleable__control sk-hidden--visually\" id=\"sk-estimator-id-16\" type=\"checkbox\" ><label for=\"sk-estimator-id-16\" class=\"sk-toggleable__label sk-toggleable__label-arrow\">DecisionTreeClassifier</label><div class=\"sk-toggleable__content\"><pre>DecisionTreeClassifier()</pre></div></div></div></div></div></div><div class=\"sk-parallel-item\"><div class=\"sk-item\"><div class=\"sk-label-container\"><div class=\"sk-label sk-toggleable\"><label>clf_rf</label></div></div><div class=\"sk-serial\"><div class=\"sk-item\"><div class=\"sk-estimator sk-toggleable\"><input class=\"sk-toggleable__control sk-hidden--visually\" id=\"sk-estimator-id-17\" type=\"checkbox\" ><label for=\"sk-estimator-id-17\" class=\"sk-toggleable__label sk-toggleable__label-arrow\">RandomForestClassifier</label><div class=\"sk-toggleable__content\"><pre>RandomForestClassifier()</pre></div></div></div></div></div></div><div class=\"sk-parallel-item\"><div class=\"sk-item\"><div class=\"sk-label-container\"><div class=\"sk-label sk-toggleable\"><label>clf_adaboost</label></div></div><div class=\"sk-serial\"><div class=\"sk-item\"><div class=\"sk-estimator sk-toggleable\"><input class=\"sk-toggleable__control sk-hidden--visually\" id=\"sk-estimator-id-18\" type=\"checkbox\" ><label for=\"sk-estimator-id-18\" class=\"sk-toggleable__label sk-toggleable__label-arrow\">AdaBoostClassifier</label><div class=\"sk-toggleable__content\"><pre>AdaBoostClassifier()</pre></div></div></div></div></div></div></div></div></div></div>"
            ]
          },
          "metadata": {},
          "execution_count": 108
        }
      ],
      "source": [
        "voting_clf.fit(X_train, y_train)\n"
      ]
    },
    {
      "cell_type": "code",
      "execution_count": null,
      "metadata": {
        "id": "XNiKJAPJVbJM",
        "outputId": "1c24606d-ebb3-41c1-a400-540fcb37d521",
        "colab": {
          "base_uri": "https://localhost:8080/"
        }
      },
      "outputs": [
        {
          "output_type": "execute_result",
          "data": {
            "text/plain": [
              "array([1, 2, 0, ..., 1, 1, 0])"
            ]
          },
          "metadata": {},
          "execution_count": 109
        }
      ],
      "source": [
        "y_pred_train = voting_clf.predict(X_train)\n",
        "y_pred_train"
      ]
    },
    {
      "cell_type": "code",
      "execution_count": null,
      "metadata": {
        "id": "JwZ8XJNvVbJM",
        "outputId": "f8202734-78f5-44ac-858d-2f0d9e804dd4",
        "colab": {
          "base_uri": "https://localhost:8080/"
        }
      },
      "outputs": [
        {
          "output_type": "execute_result",
          "data": {
            "text/plain": [
              "array([1, 2, 2, ..., 2, 1, 1])"
            ]
          },
          "metadata": {},
          "execution_count": 110
        }
      ],
      "source": [
        "y_pred_test = voting_clf.predict(X_test)\n",
        "y_pred_test"
      ]
    },
    {
      "cell_type": "markdown",
      "metadata": {
        "id": "fzNwseRcVbJM"
      },
      "source": [
        "Performance Metric"
      ]
    },
    {
      "cell_type": "code",
      "execution_count": null,
      "metadata": {
        "id": "UlZ5WSXCVbJM",
        "outputId": "4333cb20-bd42-48b9-8037-b5666510895e",
        "colab": {
          "base_uri": "https://localhost:8080/",
          "height": 272
        }
      },
      "outputs": [
        {
          "output_type": "stream",
          "name": "stderr",
          "text": [
            "<ipython-input-63-3ef4ce65b0ea>:16: FutureWarning: The frame.append method is deprecated and will be removed from pandas in a future version. Use pandas.concat instead.\n",
            "  dataframe       = dataframe.append(pd.Series([model_description,\n"
          ]
        },
        {
          "output_type": "execute_result",
          "data": {
            "text/plain": [
              "           Model  Train_Accuracy  Train_Recall  Train_Precision  \\\n",
              "0  DecisionTrees        1.000000      1.000000         1.000000   \n",
              "1   RandomForest        1.000000      1.000000         1.000000   \n",
              "2            GBM        0.919286      0.919286         0.918602   \n",
              "3       Adaboost        0.849643      0.849643         0.847281   \n",
              "4        XGBoost        1.000000      1.000000         1.000000   \n",
              "5       Stacking        1.000000      1.000000         1.000000   \n",
              "\n",
              "   Train_F1_Score  Test_Accuracy  Test_Recall  Test_Precision  Test_F1_Score  \n",
              "0        1.000000       0.797584     0.797584        0.796967       0.797268  \n",
              "1        1.000000       0.861308     0.861308        0.859105       0.859650  \n",
              "2        0.918517       0.866306     0.866306        0.863876       0.864530  \n",
              "3        0.847952       0.836318     0.836318        0.833453       0.834513  \n",
              "4        1.000000       0.875469     0.875469        0.873740       0.874284  \n",
              "5        1.000000       0.857143     0.857143        0.855144       0.855881  "
            ],
            "text/html": [
              "\n",
              "  <div id=\"df-61f97349-06c7-42c7-ba83-bedfe125b33c\">\n",
              "    <div class=\"colab-df-container\">\n",
              "      <div>\n",
              "<style scoped>\n",
              "    .dataframe tbody tr th:only-of-type {\n",
              "        vertical-align: middle;\n",
              "    }\n",
              "\n",
              "    .dataframe tbody tr th {\n",
              "        vertical-align: top;\n",
              "    }\n",
              "\n",
              "    .dataframe thead th {\n",
              "        text-align: right;\n",
              "    }\n",
              "</style>\n",
              "<table border=\"1\" class=\"dataframe\">\n",
              "  <thead>\n",
              "    <tr style=\"text-align: right;\">\n",
              "      <th></th>\n",
              "      <th>Model</th>\n",
              "      <th>Train_Accuracy</th>\n",
              "      <th>Train_Recall</th>\n",
              "      <th>Train_Precision</th>\n",
              "      <th>Train_F1_Score</th>\n",
              "      <th>Test_Accuracy</th>\n",
              "      <th>Test_Recall</th>\n",
              "      <th>Test_Precision</th>\n",
              "      <th>Test_F1_Score</th>\n",
              "    </tr>\n",
              "  </thead>\n",
              "  <tbody>\n",
              "    <tr>\n",
              "      <th>0</th>\n",
              "      <td>DecisionTrees</td>\n",
              "      <td>1.000000</td>\n",
              "      <td>1.000000</td>\n",
              "      <td>1.000000</td>\n",
              "      <td>1.000000</td>\n",
              "      <td>0.797584</td>\n",
              "      <td>0.797584</td>\n",
              "      <td>0.796967</td>\n",
              "      <td>0.797268</td>\n",
              "    </tr>\n",
              "    <tr>\n",
              "      <th>1</th>\n",
              "      <td>RandomForest</td>\n",
              "      <td>1.000000</td>\n",
              "      <td>1.000000</td>\n",
              "      <td>1.000000</td>\n",
              "      <td>1.000000</td>\n",
              "      <td>0.861308</td>\n",
              "      <td>0.861308</td>\n",
              "      <td>0.859105</td>\n",
              "      <td>0.859650</td>\n",
              "    </tr>\n",
              "    <tr>\n",
              "      <th>2</th>\n",
              "      <td>GBM</td>\n",
              "      <td>0.919286</td>\n",
              "      <td>0.919286</td>\n",
              "      <td>0.918602</td>\n",
              "      <td>0.918517</td>\n",
              "      <td>0.866306</td>\n",
              "      <td>0.866306</td>\n",
              "      <td>0.863876</td>\n",
              "      <td>0.864530</td>\n",
              "    </tr>\n",
              "    <tr>\n",
              "      <th>3</th>\n",
              "      <td>Adaboost</td>\n",
              "      <td>0.849643</td>\n",
              "      <td>0.849643</td>\n",
              "      <td>0.847281</td>\n",
              "      <td>0.847952</td>\n",
              "      <td>0.836318</td>\n",
              "      <td>0.836318</td>\n",
              "      <td>0.833453</td>\n",
              "      <td>0.834513</td>\n",
              "    </tr>\n",
              "    <tr>\n",
              "      <th>4</th>\n",
              "      <td>XGBoost</td>\n",
              "      <td>1.000000</td>\n",
              "      <td>1.000000</td>\n",
              "      <td>1.000000</td>\n",
              "      <td>1.000000</td>\n",
              "      <td>0.875469</td>\n",
              "      <td>0.875469</td>\n",
              "      <td>0.873740</td>\n",
              "      <td>0.874284</td>\n",
              "    </tr>\n",
              "    <tr>\n",
              "      <th>5</th>\n",
              "      <td>Stacking</td>\n",
              "      <td>1.000000</td>\n",
              "      <td>1.000000</td>\n",
              "      <td>1.000000</td>\n",
              "      <td>1.000000</td>\n",
              "      <td>0.857143</td>\n",
              "      <td>0.857143</td>\n",
              "      <td>0.855144</td>\n",
              "      <td>0.855881</td>\n",
              "    </tr>\n",
              "  </tbody>\n",
              "</table>\n",
              "</div>\n",
              "      <button class=\"colab-df-convert\" onclick=\"convertToInteractive('df-61f97349-06c7-42c7-ba83-bedfe125b33c')\"\n",
              "              title=\"Convert this dataframe to an interactive table.\"\n",
              "              style=\"display:none;\">\n",
              "        \n",
              "  <svg xmlns=\"http://www.w3.org/2000/svg\" height=\"24px\"viewBox=\"0 0 24 24\"\n",
              "       width=\"24px\">\n",
              "    <path d=\"M0 0h24v24H0V0z\" fill=\"none\"/>\n",
              "    <path d=\"M18.56 5.44l.94 2.06.94-2.06 2.06-.94-2.06-.94-.94-2.06-.94 2.06-2.06.94zm-11 1L8.5 8.5l.94-2.06 2.06-.94-2.06-.94L8.5 2.5l-.94 2.06-2.06.94zm10 10l.94 2.06.94-2.06 2.06-.94-2.06-.94-.94-2.06-.94 2.06-2.06.94z\"/><path d=\"M17.41 7.96l-1.37-1.37c-.4-.4-.92-.59-1.43-.59-.52 0-1.04.2-1.43.59L10.3 9.45l-7.72 7.72c-.78.78-.78 2.05 0 2.83L4 21.41c.39.39.9.59 1.41.59.51 0 1.02-.2 1.41-.59l7.78-7.78 2.81-2.81c.8-.78.8-2.07 0-2.86zM5.41 20L4 18.59l7.72-7.72 1.47 1.35L5.41 20z\"/>\n",
              "  </svg>\n",
              "      </button>\n",
              "      \n",
              "  <style>\n",
              "    .colab-df-container {\n",
              "      display:flex;\n",
              "      flex-wrap:wrap;\n",
              "      gap: 12px;\n",
              "    }\n",
              "\n",
              "    .colab-df-convert {\n",
              "      background-color: #E8F0FE;\n",
              "      border: none;\n",
              "      border-radius: 50%;\n",
              "      cursor: pointer;\n",
              "      display: none;\n",
              "      fill: #1967D2;\n",
              "      height: 32px;\n",
              "      padding: 0 0 0 0;\n",
              "      width: 32px;\n",
              "    }\n",
              "\n",
              "    .colab-df-convert:hover {\n",
              "      background-color: #E2EBFA;\n",
              "      box-shadow: 0px 1px 2px rgba(60, 64, 67, 0.3), 0px 1px 3px 1px rgba(60, 64, 67, 0.15);\n",
              "      fill: #174EA6;\n",
              "    }\n",
              "\n",
              "    [theme=dark] .colab-df-convert {\n",
              "      background-color: #3B4455;\n",
              "      fill: #D2E3FC;\n",
              "    }\n",
              "\n",
              "    [theme=dark] .colab-df-convert:hover {\n",
              "      background-color: #434B5C;\n",
              "      box-shadow: 0px 1px 3px 1px rgba(0, 0, 0, 0.15);\n",
              "      filter: drop-shadow(0px 1px 2px rgba(0, 0, 0, 0.3));\n",
              "      fill: #FFFFFF;\n",
              "    }\n",
              "  </style>\n",
              "\n",
              "      <script>\n",
              "        const buttonEl =\n",
              "          document.querySelector('#df-61f97349-06c7-42c7-ba83-bedfe125b33c button.colab-df-convert');\n",
              "        buttonEl.style.display =\n",
              "          google.colab.kernel.accessAllowed ? 'block' : 'none';\n",
              "\n",
              "        async function convertToInteractive(key) {\n",
              "          const element = document.querySelector('#df-61f97349-06c7-42c7-ba83-bedfe125b33c');\n",
              "          const dataTable =\n",
              "            await google.colab.kernel.invokeFunction('convertToInteractive',\n",
              "                                                     [key], {});\n",
              "          if (!dataTable) return;\n",
              "\n",
              "          const docLinkHtml = 'Like what you see? Visit the ' +\n",
              "            '<a target=\"_blank\" href=https://colab.research.google.com/notebooks/data_table.ipynb>data table notebook</a>'\n",
              "            + ' to learn more about interactive tables.';\n",
              "          element.innerHTML = '';\n",
              "          dataTable['output_type'] = 'display_data';\n",
              "          await google.colab.output.renderOutput(dataTable, element);\n",
              "          const docLink = document.createElement('div');\n",
              "          docLink.innerHTML = docLinkHtml;\n",
              "          element.appendChild(docLink);\n",
              "        }\n",
              "      </script>\n",
              "    </div>\n",
              "  </div>\n",
              "  "
            ]
          },
          "metadata": {},
          "execution_count": 111
        }
      ],
      "source": [
        "scores = get_metrics(y_train, y_pred_train, y_test, y_pred_test, \"Stacking\", scores)\n",
        "scores"
      ]
    },
    {
      "cell_type": "markdown",
      "source": [
        "* After apply different classification models AdaBoost is well fit among all for this dataset."
      ],
      "metadata": {
        "id": "I6SvFK_8nAn5"
      }
    }
  ],
  "metadata": {
    "kernelspec": {
      "display_name": "Python 3",
      "language": "python",
      "name": "python3"
    },
    "language_info": {
      "codemirror_mode": {
        "name": "ipython",
        "version": 3
      },
      "file_extension": ".py",
      "mimetype": "text/x-python",
      "name": "python",
      "nbconvert_exporter": "python",
      "pygments_lexer": "ipython3",
      "version": "3.7.6"
    },
    "toc": {
      "base_numbering": 1,
      "nav_menu": {},
      "number_sections": true,
      "sideBar": true,
      "skip_h1_title": false,
      "title_cell": "Table of Contents",
      "title_sidebar": "Contents",
      "toc_cell": true,
      "toc_position": {},
      "toc_section_display": true,
      "toc_window_display": false
    },
    "colab": {
      "provenance": []
    }
  },
  "nbformat": 4,
  "nbformat_minor": 0
}